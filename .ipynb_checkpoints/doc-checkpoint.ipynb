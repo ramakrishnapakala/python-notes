{
 "cells": [
  {
   "cell_type": "markdown",
   "id": "910f017f-df68-4060-a10d-4a889de14196",
   "metadata": {},
   "source": [
    "## special operators\n",
    "## 1.Identity Operators :- We can use identity operators for address comparison or memory object comparison.\n",
    "## identity operators are available\n",
    "### 1. is\n",
    "###  is not\n",
    "### r1 is r2 returns True if both r1 and r2 are pointing to the same object\n",
    "### r1 is not r2 returns True if both r1 and r2 are not pointing to the same object\n",
    "\n",
    "## Membership operators: 1. in 2. not in\n",
    "## We can use Membership operators to check whether the given object present in the given collection.(It may be String,List,Set,Tuple or Dict)\n",
    "## in ￿ Returns True if the given object present in the specified Collection \n",
    "## not in ￿ Retruns True if the given object not present in the specified Collection"
   ]
  },
  {
   "cell_type": "markdown",
   "id": "d4a91ac0-e86e-4dca-8e81-eec0277fc0c8",
   "metadata": {},
   "source": [
    "## Formatting string :- In python string formatting means inserting variables or values or calculations into a strings \n",
    "## 1.string formating :- format() method formats the specified values and inserted them inside placeholders {}\n",
    "### name = \"Rama\"\n",
    "### age = 22\n",
    "### print(\"My name is {0} and I am {1} years old.\".format(name, age))\n",
    "## 2. f-string :- place variables inside {} with an f before the string.\n",
    "### print(f\"My name is {name} and I am {age} years old.\")"
   ]
  },
  {
   "cell_type": "markdown",
   "id": "64e60627-248a-454a-967b-829219332655",
   "metadata": {
    "jp-MarkdownHeadingCollapsed": true
   },
   "source": [
    "## Reading dynamic input from the keyboard:-\n",
    "## input(): This function always reads the data from the keyboard in the form of String Format. We have to convert that string type to our required type by using the corresponding type casting methods.\n",
    "## type casting:- converting one datatype to another datatype manually"
   ]
  },
  {
   "cell_type": "markdown",
   "id": "d7328651-7c96-4823-8c53-51b753321892",
   "metadata": {},
   "source": [
    "# Flow Control :Flow control describes the order in which code will be executed."
   ]
  },
  {
   "cell_type": "markdown",
   "id": "f885d797-d5a8-4bb5-957f-3545b535c470",
   "metadata": {},
   "source": [
    "# 1.conditional statements are used to execute our code based on some conditions\n",
    "## 1. if statement:- one condition with one possibility\n",
    "## 2. if-else statement:- one condition with two possibility\n",
    "## 3. if-elif-else statement:- many condition with many possibility\n",
    "## 4. nested-if statement :- nested if conditions one if inside another if conditions\n",
    " "
   ]
  },
  {
   "cell_type": "code",
   "execution_count": null,
   "id": "af210117-7179-45ee-92ea-074d5eb2c348",
   "metadata": {},
   "outputs": [],
   "source": [
    "## 1) if \n",
    "if condition : \n",
    "    statement-1 \n",
    "    statement-2  \n",
    "###  If condition is true then statements will be executed."
   ]
  },
  {
   "cell_type": "code",
   "execution_count": null,
   "id": "1cab9714-1163-4121-9e92-5ed87e44e426",
   "metadata": {},
   "outputs": [],
   "source": []
  },
  {
   "cell_type": "code",
   "execution_count": null,
   "id": "ced9a755-be42-4853-9d86-5ce1cfccb321",
   "metadata": {},
   "outputs": [],
   "source": [
    "# 2) if-else: \n",
    " \n",
    "if condition : \n",
    "     block-1 \n",
    "else : \n",
    "     block-2 \n",
    " \n",
    "if condition is true then block-1 will be executed otherwise block-2 will be executed."
   ]
  },
  {
   "cell_type": "code",
   "execution_count": null,
   "id": "1ab4151e-6c02-4b07-b93f-f40d3f052912",
   "metadata": {},
   "outputs": [],
   "source": [
    "## 3) if-elif-else: \n",
    " \n",
    "Syntax: \n",
    " \n",
    "if condition1: \n",
    "    block-1 \n",
    "elif condition2: \n",
    "    block-2 \n",
    "elif condition3: \n",
    "    block-3 \n",
    " elif condition4: \n",
    "    block-4 \n",
    "    ... \n",
    "else: \n",
    "    Default block\n",
    " \n",
    "Based condition the corresponding block will be executed."
   ]
  },
  {
   "cell_type": "code",
   "execution_count": 4,
   "id": "dd4d66dc-fc11-4c33-a023-3064e8862d05",
   "metadata": {},
   "outputs": [
    {
     "name": "stdout",
     "output_type": "stream",
     "text": [
      "python'python'python\n"
     ]
    }
   ],
   "source": []
  },
  {
   "cell_type": "code",
   "execution_count": 3,
   "id": "27c4e2ea-2a49-4e53-bd17-84e2aa2b29c3",
   "metadata": {},
   "outputs": [
    {
     "name": "stdin",
     "output_type": "stream",
     "text": [
      "Enter your name:  kittu\n"
     ]
    },
    {
     "name": "stdout",
     "output_type": "stream",
     "text": [
      "welcome to the party mr kittu\n"
     ]
    }
   ],
   "source": [
    "name = input(\"Enter your name: \");\n",
    "if name == \"kittu\":\n",
    "    print(f\"welcome to the party mr {name}\")"
   ]
  },
  {
   "cell_type": "code",
   "execution_count": 6,
   "id": "9658976d-1413-4141-8f21-1a798d70fdc1",
   "metadata": {},
   "outputs": [
    {
     "name": "stdin",
     "output_type": "stream",
     "text": [
      "enter your a 2\n",
      "enter your b 5\n"
     ]
    },
    {
     "name": "stdout",
     "output_type": "stream",
     "text": [
      "<class 'int'>\n",
      "b value is 5 is grether than a value 2\n"
     ]
    }
   ],
   "source": [
    "a = int(input(\"enter your a\"));\n",
    "b = int(input(\"enter your b\"));\n",
    "print(type(age))\n",
    "if a > b:\n",
    "    print(f\"a value is {a} is grether than b value {b}\");\n",
    "else:\n",
    "    print(f\"b value is {b} is grether than a value {a}\")\n",
    "    "
   ]
  },
  {
   "cell_type": "markdown",
   "id": "517ec9c7-e903-4ca4-995a-607b2e7223ee",
   "metadata": {},
   "source": [
    "# 2.iterative statements: if you want to execute a group of line multiple  times we have to use iterative statements\n",
    "## 1.for loop: is used for iterating over a sequence (that is either a list, a tuple, a dictionary, a set, or a string).\n",
    "## 2.While loop: if you want to execute a group of statements as long as some condition is true then we use while"
   ]
  },
  {
   "cell_type": "markdown",
   "id": "6a975f00-360e-40ae-a818-369bdf662f01",
   "metadata": {},
   "source": [
    "## 3. transfer statements: \n",
    "## 1.break:- if condition is true exit of loop\n",
    "## 2.continue :- if condition is true we skip the current  iteration and continue from next iteration"
   ]
  },
  {
   "cell_type": "markdown",
   "id": "5d5e87f4-75d9-42c2-a625-917da25b5c92",
   "metadata": {},
   "source": [
    "# Strings a group of characters with single or double quotes"
   ]
  },
  {
   "cell_type": "markdown",
   "id": "c0054ed1-385b-4e00-b027-f235d54a5b5a",
   "metadata": {},
   "source": [
    "# access the characters of a strings\n",
    "## 1. Indexing \n",
    "## 2. Slicing"
   ]
  },
  {
   "cell_type": "markdown",
   "id": "96b16936-3379-4a2a-b118-e7324c9b4d2f",
   "metadata": {},
   "source": [
    "# Slicing if you want to get substring or group of characters inside string \n",
    "# +ve :- forward dir (left to right) start begin and ending end - 1\n",
    "# -ve :- backward dir (right to left) start begin and ending end + 1"
   ]
  },
  {
   "cell_type": "markdown",
   "id": "d00c94a0-6b87-4d55-ae78-748d1519ebed",
   "metadata": {},
   "source": [
    "## Arrays:- Arrays are used to store a collection of elements with same data types inside single variable.\n",
    "## list :- list are used to store a collection of elements with different data types inside single variable.\n",
    "## list order collection of elements where order is important\n",
    "## list is a dynamic nature and duplicates are allowed\n",
    "## tuple are used to store a collection of elements with different data types inside a single variable.\n",
    "## tuple is a order collection of elements where order is important\n",
    "## tuple is not dynamic nature(immutable) and duplicates are allowed"
   ]
  },
  {
   "cell_type": "markdown",
   "id": "9cd65a34-60f2-4293-8c16-e9924a5f8e57",
   "metadata": {},
   "source": [
    "# set\n",
    "## set is used to represent a group elements inside single variable\n",
    "## set is a unordered collection so we can't use index concept \n",
    "## duplicate elements not allowed\n",
    "## set is dynamic(mutable)"
   ]
  },
  {
   "cell_type": "markdown",
   "id": "d6818358-f24b-4899-9e73-0208b74243ef",
   "metadata": {},
   "source": [
    "# Dictionary \n",
    "## If we want to represent a group of objects as key-value pairs then we should go for Dictionary.\n",
    "## Duplicate keys are not allowed but values can be duplicated.\n",
    "## Hetrogeneous objects are allowed for both key and values.\n",
    "## insertion order is not preserved so indexing and slicing concepts are not applicable\n",
    "## Dictionaries are mutable and dynamic \n"
   ]
  },
  {
   "cell_type": "code",
   "execution_count": null,
   "id": "ad750dcd-b073-4e0d-8a3a-e7a688923d36",
   "metadata": {},
   "outputs": [],
   "source": []
  },
  {
   "cell_type": "markdown",
   "id": "ad44abea-8598-4cf1-a5df-219430f383c6",
   "metadata": {},
   "source": [
    "## Modules :- A group of functions,variables and classes saved to a file, which is nothing but module. \n",
    "## Every Python file (.py) acts as a module. "
   ]
  },
  {
   "cell_type": "markdown",
   "id": "fc8ede2f-d2c2-4f9b-9434-cadec42df5e5",
   "metadata": {},
   "source": [
    "## Arrays:- Arrays are used to store a collection of elements with same data types inside single variable.\n",
    "## python doesn't have built-in support for array if you want use array we have to third party module."
   ]
  },
  {
   "cell_type": "code",
   "execution_count": null,
   "id": "05c987c5-6c43-4c31-83d5-a23571ac81ac",
   "metadata": {},
   "outputs": [],
   "source": []
  }
 ],
 "metadata": {
  "kernelspec": {
   "display_name": "Python 3 (ipykernel)",
   "language": "python",
   "name": "python3"
  },
  "language_info": {
   "codemirror_mode": {
    "name": "ipython",
    "version": 3
   },
   "file_extension": ".py",
   "mimetype": "text/x-python",
   "name": "python",
   "nbconvert_exporter": "python",
   "pygments_lexer": "ipython3",
   "version": "3.13.5"
  }
 },
 "nbformat": 4,
 "nbformat_minor": 5
}
