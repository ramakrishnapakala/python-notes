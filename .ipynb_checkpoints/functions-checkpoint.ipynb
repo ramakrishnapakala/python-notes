{
 "cells": [
  {
   "cell_type": "code",
   "execution_count": 1,
   "id": "d1612ef6",
   "metadata": {},
   "outputs": [
    {
     "name": "stdout",
     "output_type": "stream",
     "text": [
      "welcome to python\n",
      "welcome to python\n",
      "welcome to python\n",
      "welcome to python\n",
      "None\n"
     ]
    }
   ],
   "source": [
    "#1. type of function with out parameters arguments and return\n",
    "def welcome():\n",
    "     print(\"welcome to python\")  \n",
    "# calling function\n",
    "welcome()\n",
    "welcome()\n",
    "welcome()\n",
    "print(welcome())"
   ]
  },
  {
   "cell_type": "code",
   "execution_count": 2,
   "id": "b19d1f9e",
   "metadata": {},
   "outputs": [
    {
     "name": "stdout",
     "output_type": "stream",
     "text": [
      "rk\n"
     ]
    }
   ],
   "source": [
    "def greetings():\n",
    "     print(\"rk\");\n",
    "greetings()"
   ]
  },
  {
   "cell_type": "code",
   "execution_count": 3,
   "id": "8e5dc9ff",
   "metadata": {},
   "outputs": [
    {
     "name": "stdout",
     "output_type": "stream",
     "text": [
      "welcome , rk\n",
      "welcome , sai\n",
      "welcome , luffy\n"
     ]
    }
   ],
   "source": [
    "# 2 type function with parameters and arguments without return type\n",
    "def display(name):\n",
    "     print(\"welcome ,\",name);\n",
    "# calling func\n",
    "display(\"rk\");\n",
    "display(\"sai\");\n",
    "display(\"luffy\")"
   ]
  },
  {
   "cell_type": "code",
   "execution_count": 4,
   "id": "c123e499",
   "metadata": {},
   "outputs": [
    {
     "name": "stdout",
     "output_type": "stream",
     "text": [
      "15\n",
      "30\n"
     ]
    }
   ],
   "source": [
    "# 3 type function with parameters and arguments with return type\n",
    "def sum(a,b):\n",
    "     # print(a+b);\n",
    "     return a + b\n",
    "print(sum(5,10))\n",
    "# correct way to rev data from func\n",
    "# print(sum(10,20))\n",
    "c = sum(10,20);\n",
    "print(c)"
   ]
  },
  {
   "cell_type": "code",
   "execution_count": 5,
   "id": "af15311e",
   "metadata": {},
   "outputs": [
    {
     "name": "stdout",
     "output_type": "stream",
     "text": [
      "my name is rk and age is 100\n",
      "my name is 100 and age is rk\n",
      "my name is rk and age is 100\n",
      "my name is rk and age is 100\n"
     ]
    }
   ],
   "source": [
    "\n",
    "# type of arguments\n",
    "#1. positional arguments \n",
    "def display(name,age):\n",
    "     print(f\"my name is {name} and age is {age}\");\n",
    "display(\"rk\",100)\n",
    "display(100,\"rk\")\n",
    "#2. keyword arguments to solve problem from positinal \n",
    "display(name=\"rk\",age=100)\n",
    "# for keyword argu order is not important\n",
    "display(age=100,name=\"rk\")\n",
    "# display(name=\"rk\",year=100)"
   ]
  },
  {
   "cell_type": "code",
   "execution_count": 6,
   "id": "206d3091",
   "metadata": {},
   "outputs": [
    {
     "name": "stdout",
     "output_type": "stream",
     "text": [
      "30\n",
      "60\n",
      "300\n",
      "150\n",
      "150\n"
     ]
    }
   ],
   "source": [
    "# 3.default arguments\n",
    "def sum(a=100,b=50):\n",
    "     print(a+b);\n",
    "sum(10,20)\n",
    "sum(10)\n",
    "sum(100,200)\n",
    "sum(100)\n",
    "sum()"
   ]
  },
  {
   "cell_type": "code",
   "execution_count": 7,
   "id": "c381a669",
   "metadata": {},
   "outputs": [
    {
     "name": "stdout",
     "output_type": "stream",
     "text": [
      "()\n",
      "()\n",
      "(20,)\n",
      "(20, 30, 40, 50)\n"
     ]
    }
   ],
   "source": [
    "#4.Variable-Length Arguments\n",
    "def m(a,*n):\n",
    "     print(n);\n",
    "m(2)\n",
    "m(5)\n",
    "m(10,20)\n",
    "m(10,20,30,40,50)"
   ]
  },
  {
   "cell_type": "code",
   "execution_count": 8,
   "id": "1b1c806e",
   "metadata": {},
   "outputs": [
    {
     "name": "stdout",
     "output_type": "stream",
     "text": [
      "{'name': 'rk', 'age': 100, 'job': 't'}\n"
     ]
    }
   ],
   "source": [
    "#5 keyword length arguments ** \n",
    "def display(**n):\n",
    "     print(n);\n",
    "display(name=\"rk\",age=100,job=\"t\");\n",
    "# display(10,name=\"rk\")"
   ]
  },
  {
   "cell_type": "code",
   "execution_count": null,
   "id": "4c8ebb57",
   "metadata": {},
   "outputs": [],
   "source": []
  }
 ],
 "metadata": {
  "kernelspec": {
   "display_name": "Python 3",
   "language": "python",
   "name": "python3"
  },
  "language_info": {
   "codemirror_mode": {
    "name": "ipython",
    "version": 3
   },
   "file_extension": ".py",
   "mimetype": "text/x-python",
   "name": "python",
   "nbconvert_exporter": "python",
   "pygments_lexer": "ipython3",
   "version": "3.13.5"
  }
 },
 "nbformat": 4,
 "nbformat_minor": 5
}
