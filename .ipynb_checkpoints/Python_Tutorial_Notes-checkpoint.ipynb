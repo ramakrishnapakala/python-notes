{
 "cells": [
  {
   "cell_type": "markdown",
   "id": "e2efb915",
   "metadata": {},
   "source": [
    "103]:\n",
    "Keywords\n",
    "Keywords are the reserved words in Python and can't be used as an identifier"
   ]
  },
  {
   "cell_type": "markdown",
   "id": "83a84b2c",
   "metadata": {},
   "source": [
    "3]:"
   ]
  },
  {
   "cell_type": "code",
   "execution_count": null,
   "id": "9f0df5dd",
   "metadata": {},
   "outputs": [],
   "source": [
    "4]:\n",
    "Identifiers\n",
    "An identifier is a name given to entities like class, functions, variables, etc. It helps to dif ferentiate\n",
    "one entity from another ."
   ]
  },
  {
   "cell_type": "markdown",
   "id": "a419773f",
   "metadata": {},
   "source": [
    "13]:"
   ]
  },
  {
   "cell_type": "code",
   "execution_count": null,
   "id": "a8f1b820",
   "metadata": {},
   "outputs": [],
   "source": [
    "14]:['False', 'None', 'True', 'and', 'as', 'assert', 'async', 'await', 'break', 'cl\n",
    "ass', 'continue', 'def', 'del', 'elif', 'else', 'except', 'finally', 'for', 'fr\n",
    "om', 'global', 'if', 'import', 'in', 'is', 'lambda', 'nonlocal', 'not', 'or',  \n",
    "'pass', 'raise', 'return', 'try', 'while', 'with', 'yield']  \n",
    "Out[4]: 35\n",
    "  File \"<ipython-input-13-37e58aaf2d3b>\" , line 1 \n",
    "    1var = 10 # Identifier can't start with a digit  \n",
    "       ^  \n",
    "SyntaxError : invalid syntax  \n",
    " \n",
    " \n",
    "  File \"<ipython-input-14-cfbf60736601>\" , line 1 \n",
    "    val2@ = 35 # Identifier can't use special symbols  \n",
    "          ^  \n",
    "SyntaxError : invalid syntax  \n",
    " \n",
    " import sys\n",
    "import keyword\n",
    "import operator\n",
    "from datetime  import datetime\n",
    "import os\n",
    "print(keyword.kwlist) # List all Python Keywords\n",
    "len(keyword.kwlist) # Python contains 35 keywords\n",
    "1var = 10 # Identifier can't start with a digit \n",
    "val2@ = 35 # Identifier can't use special symbols \n",
    "3/25/2021 Python - Jupyter Notebook\n",
    "localhost:8889/notebooks/Documents/GitHub/Public/Python/Python.ipynb 2/118"
   ]
  },
  {
   "cell_type": "markdown",
   "id": "a4a861df",
   "metadata": {},
   "source": [
    "15]:"
   ]
  },
  {
   "cell_type": "markdown",
   "id": "b963046a",
   "metadata": {},
   "source": [
    "16]:"
   ]
  },
  {
   "cell_type": "code",
   "execution_count": null,
   "id": "64c71bcc",
   "metadata": {},
   "outputs": [],
   "source": [
    "17]:\n",
    "Comments in Python\n",
    "Comments can be used to explain the code for more readabilty ."
   ]
  },
  {
   "cell_type": "markdown",
   "id": "08fdc71e",
   "metadata": {},
   "source": [
    "18]:"
   ]
  },
  {
   "cell_type": "markdown",
   "id": "994d7185",
   "metadata": {},
   "source": [
    "19]:"
   ]
  },
  {
   "cell_type": "markdown",
   "id": "5f7adf75",
   "metadata": {},
   "source": [
    "20]:"
   ]
  },
  {
   "cell_type": "code",
   "execution_count": null,
   "id": "ac1d213a",
   "metadata": {},
   "outputs": [],
   "source": [
    "21]:\n",
    "Statements\n",
    "Instructions that a Python interpreter can execute.  File \"<ipython-input-15-f7061d4fc9ba>\" , line 1 \n",
    "    import = 125 # Keywords can't be used as identifiers  \n",
    "           ^  \n",
    "SyntaxError : invalid syntax  \n",
    " \n",
    " import = 125 # Keywords can't be used as identifiers\n",
    "\"\"\"\n",
    "Correct way of defining an identifier \n",
    "(Identifiers can be a combination of letters in lowercase (a to z) or uppercase (\n",
    "\"\"\"\n",
    " \n",
    "val2 = 10 \n",
    "val_ = 99\n",
    "# Single line comment\n",
    "val1  = 10\n",
    "# Multiple \n",
    "# line \n",
    "# comment\n",
    "val1  = 10\n",
    "'''\n",
    "Multiple \n",
    "line \n",
    "comment\n",
    "'''\n",
    "val1  = 10\n",
    "\"\"\"\n",
    "Multiple \n",
    "line \n",
    "comment\n",
    "\"\"\"\n",
    "val1  = 10\n",
    "3/25/2021 Python - Jupyter Notebook\n",
    "localhost:8889/notebooks/Documents/GitHub/Public/Python/Python.ipynb 3/118"
   ]
  },
  {
   "cell_type": "markdown",
   "id": "6c43653b",
   "metadata": {},
   "source": [
    "27]:"
   ]
  },
  {
   "cell_type": "markdown",
   "id": "575f3e09",
   "metadata": {},
   "source": [
    "28]:"
   ]
  },
  {
   "cell_type": "markdown",
   "id": "a2dbe3e4",
   "metadata": {},
   "source": [
    "26]:"
   ]
  },
  {
   "cell_type": "markdown",
   "id": "3270bb1e",
   "metadata": {},
   "source": [
    "29]:\n",
    "Indentation\n",
    "Indentation refers to the spaces at the beginning of a code line. It is very important as Python uses\n",
    "indentation to indicate a block of code.If the indentation is not correct we will endup with\n",
    "IndentationError  error ."
   ]
  },
  {
   "cell_type": "markdown",
   "id": "3d24c62d",
   "metadata": {},
   "source": [
    "37]:"
   ]
  },
  {
   "cell_type": "code",
   "execution_count": null,
   "id": "0a0cd0b2",
   "metadata": {},
   "outputs": [],
   "source": [
    "38]:Out[27]: 30\n",
    "Out[28]: ['a', 'b', 'c', 'd']\n",
    "Out[26]: 290\n",
    "Out[29]: ['a', 'b', 'c', 'd']\n",
    "P is equal to 10  \n",
    "  File \"<ipython-input-38-d7879ffaae93>\" , line 3 \n",
    "    print ('P is equal to 10')  \n",
    "        ^  \n",
    "IndentationError : expected an indented block  \n",
    " \n",
    " # Single line statement\n",
    "p1 = 10 + 20\n",
    "p1\n",
    "# Single line statement\n",
    "p2 = ['a' , 'b' , 'c' , 'd']\n",
    "p2\n",
    "# Multiple line statement\n",
    "p1 = 20 + 30 \\\n",
    "     + 40 + 50 +\\\n",
    "     + 70 + 80\n",
    "p1\n",
    "# Multiple line statement\n",
    "p2 = ['a' , \n",
    "      'b' , \n",
    "      'c' , \n",
    "      'd' \n",
    "     ]\n",
    "p2\n",
    "p = 10\n",
    "if p == 10:\n",
    "    print ('P is equal to 10' ) # correct indentation\n",
    "# if indentation is skipped we will encounter \"IndentationError: expected an inde\n",
    "p = 10\n",
    "if p == 10:\n",
    "print ('P is equal to 10' )\n",
    "3/25/2021 Python - Jupyter Notebook\n",
    "localhost:8889/notebooks/Documents/GitHub/Public/Python/Python.ipynb 4/118"
   ]
  },
  {
   "cell_type": "markdown",
   "id": "568caff9",
   "metadata": {},
   "source": [
    "39]:"
   ]
  },
  {
   "cell_type": "markdown",
   "id": "3ce86156",
   "metadata": {},
   "source": [
    "43]:"
   ]
  },
  {
   "cell_type": "markdown",
   "id": "29ea30bf",
   "metadata": {},
   "source": [
    "45]:"
   ]
  },
  {
   "cell_type": "code",
   "execution_count": null,
   "id": "42699720",
   "metadata": {},
   "outputs": [],
   "source": [
    "48]:\n",
    "Docstrings\n",
    "1) Docstrings provide a convenient way of associating documentation with functions, classes,\n",
    "methods or modules.\n",
    "2) They appear right after the definition of a function, method, class, or module."
   ]
  },
  {
   "cell_type": "code",
   "execution_count": null,
   "id": "d81272ce",
   "metadata": {},
   "outputs": [],
   "source": [
    "49]:0 \n",
    "1 \n",
    "2 \n",
    "3 \n",
    "4 \n",
    "  File \"<ipython-input-43-4a6de03bf63e>\" , line 2 \n",
    "    print(i)  \n",
    "        ^  \n",
    "IndentationError : expected an indented block  \n",
    " \n",
    " \n",
    "0 \n",
    "1 \n",
    "2 \n",
    "3 \n",
    "4 \n",
    "0 \n",
    "1 \n",
    "2 \n",
    "3 \n",
    "4 \n",
    "20 for i in range(0,5):\n",
    "    print(i)               # correct indentation\n",
    "# if indentation is skipped we will encounter \"IndentationError: expected an inde\n",
    "for i in range(0,5):\n",
    "print(i)\n",
    "for i in range(0,5): print(i)  # correct indentation but less readable\n",
    "j=20\n",
    "for i in range(0,5):\n",
    "    print(i) # inside the for loop\n",
    "print(j) # outside the for loop\n",
    "def square(num):\n",
    "    '''Square Function :- This function will return the square of a number'''\n",
    "    return num**2\n",
    "3/25/2021 Python - Jupyter Notebook\n",
    "localhost:8889/notebooks/Documents/GitHub/Public/Python/Python.ipynb 5/118"
   ]
  },
  {
   "cell_type": "markdown",
   "id": "16a2c5b0",
   "metadata": {},
   "source": [
    "51]:"
   ]
  },
  {
   "cell_type": "markdown",
   "id": "ad6fa98a",
   "metadata": {},
   "source": [
    "52]:"
   ]
  },
  {
   "cell_type": "markdown",
   "id": "4ceebdfb",
   "metadata": {},
   "source": [
    "53]:"
   ]
  },
  {
   "cell_type": "markdown",
   "id": "54fb8dd8",
   "metadata": {},
   "source": [
    "54]:"
   ]
  },
  {
   "cell_type": "markdown",
   "id": "39e9ea3c",
   "metadata": {},
   "source": [
    "55]:"
   ]
  },
  {
   "cell_type": "markdown",
   "id": "4259c1ee",
   "metadata": {},
   "source": [
    "56]:\n",
    "Variables\n",
    "A Python variable is a reserved memory location to store values.A variable is created the moment\n",
    "you first assign a value to it."
   ]
  },
  {
   "cell_type": "markdown",
   "id": "5e578479",
   "metadata": {},
   "source": [
    "75]:"
   ]
  },
  {
   "cell_type": "markdown",
   "id": "56bc129a",
   "metadata": {},
   "source": [
    "76]:"
   ]
  },
  {
   "cell_type": "code",
   "execution_count": null,
   "id": "8b5ca48b",
   "metadata": {},
   "outputs": [],
   "source": [
    "77]:Out[51]: 4\n",
    "Out[52]: 'Square Function :- This function will return the square of a number'\n",
    "Odd Number  \n",
    "Even Number  \n",
    "Out[56]: 'evenodd Function :- This function will test whether a numbr is Even or Odd'\n",
    "Out[76]: 140735029552432\n",
    "Out[77]: '0x7fff6d71a530'square(2)\n",
    "square.__doc__  # We can access the Docstring using __doc__ method\n",
    "def evenodd(num):\n",
    "    '''evenodd Function :- This function will test whether a numbr is Even or Odd\n",
    "    if num % 2 == 0:\n",
    "        print(\"Even Number\" )\n",
    "    else:\n",
    "        print(\"Odd Number\" )\n",
    "evenodd(3)\n",
    "evenodd(2)\n",
    "evenodd.__doc__\n",
    "p = 30\n",
    "'''\n",
    "id() function returns the “identity” of the object. \n",
    "The identity of an object - Is an integer\n",
    "                          - Guaranteed to be unique\n",
    "                          - Constant for this object during its lifetime. \n",
    "'''\n",
    "id(p)\n",
    "hex(id(p)) # Memory address of the variable\n",
    "3/25/2021 Python - Jupyter Notebook\n",
    "localhost:8889/notebooks/Documents/GitHub/Public/Python/Python.ipynb 6/118"
   ]
  },
  {
   "cell_type": "markdown",
   "id": "f30a28d2",
   "metadata": {},
   "source": [
    "94]:"
   ]
  },
  {
   "cell_type": "markdown",
   "id": "66ded053",
   "metadata": {},
   "source": [
    "95]:"
   ]
  },
  {
   "cell_type": "markdown",
   "id": "620cc9c9",
   "metadata": {},
   "source": [
    "96]:"
   ]
  },
  {
   "cell_type": "markdown",
   "id": "c928320a",
   "metadata": {},
   "source": [
    "146]:\n",
    "Variable Assigment"
   ]
  },
  {
   "cell_type": "code",
   "execution_count": null,
   "id": "97fc8818",
   "metadata": {},
   "outputs": [],
   "source": [
    "100]:Out[94]: (20, int, '0x7fff6d71a3f0')\n",
    "Out[95]: (20, int, '0x7fff6d71a3f0')\n",
    "Out[96]: (20, int, '0x7fff6d71a3f0')\n",
    "Out[146]: 30\n",
    "10 \n",
    "2.57 \n",
    "Python Language  p = 20  #Creates an integer object with value 20 and assigns the variable p to po\n",
    "q = 20  # Create new reference q which will point to value 20. p & q will be poin\n",
    "r = q  # variable r will also point to the same location where p & q are pointing\n",
    "p , type(p), hex(id(p)) # Variable P is pointing to memory location '0x7fff6d71a3\n",
    "q , type(q), hex(id(q)) \n",
    "r , type(r), hex(id(r)) \n",
    "p = 20\n",
    "p = p + 10 # Variable Overwriting\n",
    "p\n",
    "intvar = 10 # Integer variable\n",
    "floatvar  = 2.57 # Float Variable\n",
    "strvar = \"Python Language\"  # String variable\n",
    " \n",
    "print(intvar)\n",
    "print(floatvar )\n",
    "print(strvar)\n",
    "3/25/2021 Python - Jupyter Notebook\n",
    "localhost:8889/notebooks/Documents/GitHub/Public/Python/Python.ipynb 7/118Multiple Assignments"
   ]
  },
  {
   "cell_type": "markdown",
   "id": "b0aaf43f",
   "metadata": {},
   "source": [
    "102]:"
   ]
  },
  {
   "cell_type": "markdown",
   "id": "b8ea8d7c",
   "metadata": {},
   "source": [
    "105]:\n",
    "Data Types\n",
    "Numeric"
   ]
  },
  {
   "cell_type": "markdown",
   "id": "88b4da24",
   "metadata": {},
   "source": [
    "135]:"
   ]
  },
  {
   "cell_type": "markdown",
   "id": "ef90039c",
   "metadata": {},
   "source": [
    "126]:"
   ]
  },
  {
   "cell_type": "code",
   "execution_count": null,
   "id": "c64717b1",
   "metadata": {},
   "outputs": [],
   "source": [
    "136]:10 \n",
    "2.57 \n",
    "Python Language  \n",
    "44 44 44 44  \n",
    "10 \n",
    "<class 'int'>  \n",
    "28 \n",
    "10  is Integer? True  \n",
    "92.78 \n",
    "<class 'float'>  \n",
    "24 \n",
    "92.78  is float? True  \n",
    "(25+10j)  \n",
    "<class 'complex'>  \n",
    "32 \n",
    "(25+10j)  is complex? True  intvar , floatvar  , strvar = 10,2.57,\"Python Language\"  # Using commas to separate\n",
    "print(intvar)\n",
    "print(floatvar )\n",
    "print(strvar)\n",
    "p1 = p2 = p3 = p4 = 44 # All variables pointing to same value\n",
    "print(p1,p2,p3,p4)\n",
    "val1 = 10  # Integer data type\n",
    "print(val1)\n",
    "print(type(val1)) # type of object\n",
    "print(sys.getsizeof (val1)) # size of integer object in bytes \n",
    "print(val1, \" is Integer?\" , isinstance (val1, int)) # val1 is an instance of int c\n",
    "val2 = 92.78 # Float data type\n",
    "print(val2)\n",
    "print(type(val2)) # type of object\n",
    "print(sys.getsizeof (val2)) # size of float object in bytes\n",
    "print(val2, \" is float?\" , isinstance (val2, float)) # Val2 is an instance of float\n",
    "val3 = 25 + 10j # Complex data type\n",
    "print(val3)\n",
    "print(type(val3)) # type of object\n",
    "print(sys.getsizeof (val3)) # size of float object in bytes\n",
    "print(val3, \" is complex?\" , isinstance (val3, complex)) # val3 is an instance of c\n",
    "3/25/2021 Python - Jupyter Notebook\n",
    "localhost:8889/notebooks/Documents/GitHub/Public/Python/Python.ipynb 8/118"
   ]
  },
  {
   "cell_type": "markdown",
   "id": "f6b89441",
   "metadata": {},
   "source": [
    "119]:"
   ]
  },
  {
   "cell_type": "markdown",
   "id": "6655f168",
   "metadata": {},
   "source": [
    "120]:"
   ]
  },
  {
   "cell_type": "markdown",
   "id": "614e041c",
   "metadata": {},
   "source": [
    "138]:\n",
    "Boolean\n",
    "Boolean data type can have only two possible values true or false ."
   ]
  },
  {
   "cell_type": "markdown",
   "id": "852625db",
   "metadata": {},
   "source": [
    "139]:"
   ]
  },
  {
   "cell_type": "markdown",
   "id": "8a7e10d8",
   "metadata": {},
   "source": [
    "140]:"
   ]
  },
  {
   "cell_type": "markdown",
   "id": "ec243358",
   "metadata": {},
   "source": [
    "143]:"
   ]
  },
  {
   "cell_type": "markdown",
   "id": "56385c5b",
   "metadata": {},
   "source": [
    "144]:"
   ]
  },
  {
   "cell_type": "markdown",
   "id": "44ee0293",
   "metadata": {},
   "source": [
    "148]:"
   ]
  },
  {
   "cell_type": "markdown",
   "id": "2aa95e8c",
   "metadata": {},
   "source": [
    "235]:"
   ]
  },
  {
   "cell_type": "markdown",
   "id": "ebafd3c6",
   "metadata": {},
   "source": [
    "236]:"
   ]
  },
  {
   "cell_type": "markdown",
   "id": "c48adab4",
   "metadata": {},
   "source": [
    "237]:"
   ]
  },
  {
   "cell_type": "code",
   "execution_count": null,
   "id": "f99f409d",
   "metadata": {},
   "outputs": [],
   "source": [
    "238]:\n",
    "StringsOut[119]: 24\n",
    "Out[120]: 24\n",
    "Out[138]: 32\n",
    "<class 'bool'>  \n",
    "<class 'bool'>  \n",
    "Out[148]: True\n",
    "Out[235]: False\n",
    "Out[236]: True\n",
    "Out[237]: False\n",
    "Out[238]: Falsesys.getsizeof (int()) # size of integer object in bytes \n",
    "sys.getsizeof (float())  # size of float object in bytes\n",
    "sys.getsizeof (complex()) # size of complex object in bytes\n",
    "bool1 = True\n",
    "bool2 = False\n",
    "print(type(bool1))\n",
    "print(type(bool2))\n",
    "isinstance (bool1, bool)\n",
    "bool(0)\n",
    "bool(1)\n",
    "bool(None)\n",
    "bool (False)\n",
    "3/25/2021 Python - Jupyter Notebook\n",
    "localhost:8889/notebooks/Documents/GitHub/Public/Python/Python.ipynb 9/118String Creation"
   ]
  },
  {
   "cell_type": "markdown",
   "id": "189c7c69",
   "metadata": {},
   "source": [
    "193]:"
   ]
  },
  {
   "cell_type": "markdown",
   "id": "42d82e24",
   "metadata": {},
   "source": [
    "194]:"
   ]
  },
  {
   "cell_type": "markdown",
   "id": "70941aa3",
   "metadata": {},
   "source": [
    "195]:"
   ]
  },
  {
   "cell_type": "markdown",
   "id": "59f690c1",
   "metadata": {},
   "source": [
    "196]:"
   ]
  },
  {
   "cell_type": "markdown",
   "id": "ebdffbf0",
   "metadata": {},
   "source": [
    "197]:"
   ]
  },
  {
   "cell_type": "markdown",
   "id": "741d1dc4",
   "metadata": {},
   "source": [
    "198]:"
   ]
  },
  {
   "cell_type": "markdown",
   "id": "3508c764",
   "metadata": {},
   "source": [
    "199]:"
   ]
  },
  {
   "cell_type": "code",
   "execution_count": null,
   "id": "884aad1b",
   "metadata": {},
   "outputs": [],
   "source": [
    "200]:\n",
    "String IndexingHELLO PYTHON  \n",
    "Hello World  \n",
    "Hello World  \n",
    "Hello                \n",
    "            World  \n",
    "Hello \n",
    "           World  \n",
    "Happy Monday Everyone  \n",
    "Out[199]: 'Woohoo Woohoo Woohoo Woohoo Woohoo '\n",
    "Out[200]: 35str1 = \"HELLO PYTHON\"\n",
    " \n",
    "print(str1)\n",
    "mystr = 'Hello World'  # Define string using single quotes\n",
    "print(mystr)\n",
    "mystr = \"Hello World\"  # Define string using double quotes\n",
    "print(mystr)\n",
    "mystr = '''Hello               \n",
    "            World '''    # Define string using triple quotes\n",
    "print(mystr)\n",
    "mystr = \"\"\"Hello\n",
    "           World\"\"\"   # Define string using triple quotes\n",
    "print(mystr)\n",
    "mystr = ('Happy '\n",
    "         'Monday '\n",
    "         'Everyone' )\n",
    "print(mystr)\n",
    "mystr2 = 'Woohoo '\n",
    "mystr2 = mystr2*5\n",
    "mystr2\n",
    "len(mystr2) # Length of string\n",
    "3/25/2021 Python - Jupyter Notebook\n",
    "localhost:8889/notebooks/Documents/GitHub/Public/Python/Python.ipynb 10/118"
   ]
  },
  {
   "cell_type": "markdown",
   "id": "ebff1231",
   "metadata": {},
   "source": [
    "201]:"
   ]
  },
  {
   "cell_type": "markdown",
   "id": "437cdcc4",
   "metadata": {},
   "source": [
    "202]:"
   ]
  },
  {
   "cell_type": "markdown",
   "id": "e10fce6a",
   "metadata": {},
   "source": [
    "203]:"
   ]
  },
  {
   "cell_type": "markdown",
   "id": "5fd82541",
   "metadata": {},
   "source": [
    "204]:"
   ]
  },
  {
   "cell_type": "markdown",
   "id": "f530db9b",
   "metadata": {},
   "source": [
    "205]:"
   ]
  },
  {
   "cell_type": "markdown",
   "id": "94e4b388",
   "metadata": {},
   "source": [
    "206]:\n",
    "String Slicing"
   ]
  },
  {
   "cell_type": "markdown",
   "id": "6a1a2a8e",
   "metadata": {},
   "source": [
    "207]:"
   ]
  },
  {
   "cell_type": "markdown",
   "id": "c046b91b",
   "metadata": {},
   "source": [
    "208]:"
   ]
  },
  {
   "cell_type": "code",
   "execution_count": null,
   "id": "1a68bb86",
   "metadata": {},
   "outputs": [],
   "source": [
    "209]:Out[201]: 'HELLO PYTHON'\n",
    "Out[202]: 'H'\n",
    "Out[203]: 'N'\n",
    "Out[204]: 'N'\n",
    "Out[205]: 'P'\n",
    "Out[206]: ' '\n",
    "Out[207]: 'HELLO'\n",
    "Out[208]: 'PYTHON'\n",
    "Out[209]: 'THON'str1\n",
    "str1[0] # First character in string \"str1\"\n",
    "str1[len(str1)-1] # Last character in string using len function\n",
    "str1[-1] # Last character in string\n",
    "str1[6] #Fetch 7th element of the string \n",
    "str1[5]\n",
    "str1[0:5] # String slicing - Fetch all characters from 0 to 5 index location excl\n",
    "str1[6:12] # String slicing - Retreive all characters between 6 - 12 index loc ex\n",
    "str1[-4:] # Retreive last four characters of the string\n",
    "3/25/2021 Python - Jupyter Notebook\n",
    "localhost:8889/notebooks/Documents/GitHub/Public/Python/Python.ipynb 11/118"
   ]
  },
  {
   "cell_type": "markdown",
   "id": "006d00d1",
   "metadata": {},
   "source": [
    "210]:"
   ]
  },
  {
   "cell_type": "markdown",
   "id": "b2ad5b85",
   "metadata": {},
   "source": [
    "211]:"
   ]
  },
  {
   "cell_type": "markdown",
   "id": "a9aa2430",
   "metadata": {},
   "source": [
    "212]:\n",
    "Update & Delete String"
   ]
  },
  {
   "cell_type": "markdown",
   "id": "69637528",
   "metadata": {},
   "source": [
    "213]:"
   ]
  },
  {
   "cell_type": "markdown",
   "id": "80e5aa07",
   "metadata": {},
   "source": [
    "214]:"
   ]
  },
  {
   "cell_type": "markdown",
   "id": "da06eb25",
   "metadata": {},
   "source": [
    "215]:\n",
    "String concatenation"
   ]
  },
  {
   "cell_type": "code",
   "execution_count": null,
   "id": "65d94d84",
   "metadata": {},
   "outputs": [],
   "source": [
    "216]:Out[210]: 'PYTHON'\n",
    "Out[211]: 'HELL'\n",
    "Out[212]: 'HELLO '\n",
    "Out[213]: 'HELLO PYTHON'\n",
    "---------------------------------------------------------------------------  \n",
    "TypeError                                  Traceback (most recent call last)  \n",
    "<ipython-input-214-ea670ff3ec72>  in <module>  \n",
    "     1 #Strings are immutable which means elements of a string cannot be chang\n",
    "ed once they have been assigned.  \n",
    "----> 2 str1[0:5] = 'HOLAA' \n",
    "TypeError : 'str' object does not support item assignment  \n",
    "---------------------------------------------------------------------------  \n",
    "NameError                                  Traceback (most recent call last)  \n",
    "<ipython-input-215-7fcc0cc83dcc>  in <module>  \n",
    "      1 del str1 # Delete a string  \n",
    "----> 2 print(srt1) \n",
    " \n",
    "NameError : name 'srt1' is not defined  \n",
    " \n",
    "HelloAsif  str1[-6:] # Retreive last six characters of the string\n",
    "str1[:4] # Retreive first four characters of the string\n",
    "str1[:6] # Retreive first six characters of the string\n",
    "str1\n",
    "#Strings are immutable which means elements of a string cannot be changed once th\n",
    "str1[0:5] = 'HOLAA' \n",
    "del str1 # Delete a string\n",
    "print(srt1)\n",
    "# String concatenation\n",
    "s1 = \"Hello\"\n",
    "s2 = \"Asif\"\n",
    "s3 = s1 + s2\n",
    "print(s3)\n",
    "3/25/2021 Python - Jupyter Notebook\n",
    "localhost:8889/notebooks/Documents/GitHub/Public/Python/Python.ipynb 12/118"
   ]
  },
  {
   "cell_type": "markdown",
   "id": "58ea7fc6",
   "metadata": {},
   "source": [
    "217]:\n",
    "Iterating through a String"
   ]
  },
  {
   "cell_type": "markdown",
   "id": "3cea5b2a",
   "metadata": {},
   "source": [
    "218]:"
   ]
  },
  {
   "cell_type": "markdown",
   "id": "ca24a32b",
   "metadata": {},
   "source": [
    "219]:"
   ]
  },
  {
   "cell_type": "code",
   "execution_count": null,
   "id": "fd06a839",
   "metadata": {},
   "outputs": [],
   "source": [
    "220]:Hello Asif  \n",
    "H \n",
    "e \n",
    "l \n",
    "l \n",
    "o \n",
    "  \n",
    "E \n",
    "v \n",
    "e \n",
    "r \n",
    "y \n",
    "o \n",
    "n \n",
    "e \n",
    "(0, 'H')  \n",
    "(1, 'e')  \n",
    "(2, 'l')  \n",
    "(3, 'l')  \n",
    "(4, 'o')  \n",
    "(5, ' ')  \n",
    "(6, 'E')  \n",
    "(7, 'v')  \n",
    "(8, 'e')  \n",
    "(9, 'r')  \n",
    "(10, 'y')  \n",
    "(11, 'o')  \n",
    "(12, 'n')  \n",
    "(13, 'e')  # String concatenation\n",
    "s1 = \"Hello\"\n",
    "s2 = \"Asif\"\n",
    "s3 = s1 + \" \" + s2\n",
    "print(s3)\n",
    "mystr1 = \"Hello Everyone\"\n",
    "# Iteration  \n",
    "for i in mystr1:\n",
    "    print(i)\n",
    "for i in enumerate (mystr1):\n",
    "    print(i)\n",
    "3/25/2021 Python - Jupyter Notebook\n",
    "localhost:8889/notebooks/Documents/GitHub/Public/Python/Python.ipynb 13/118"
   ]
  },
  {
   "cell_type": "markdown",
   "id": "09dfc204",
   "metadata": {},
   "source": [
    "221]:\n",
    "String Membership"
   ]
  },
  {
   "cell_type": "markdown",
   "id": "7d207e3f",
   "metadata": {},
   "source": [
    "222]:\n",
    "String Partitioning"
   ]
  },
  {
   "cell_type": "code",
   "execution_count": null,
   "id": "d77856fd",
   "metadata": {},
   "outputs": [],
   "source": [
    "256]:Out[221]: [(0, 'H'),  \n",
    " (1, 'e'),  \n",
    " (2, 'l'),  \n",
    " (3, 'l'),  \n",
    " (4, 'o'),  \n",
    " (5, ' '),  \n",
    " (6, 'E'),  \n",
    " (7, 'v'),  \n",
    " (8, 'e'),  \n",
    " (9, 'r'),  \n",
    " (10, 'y'),  \n",
    " (11, 'o'),  \n",
    " (12, 'n'),  \n",
    " (13, 'e')]\n",
    "True \n",
    "True \n",
    "False \n",
    "('Natural language processing with Python ', 'and', ' R and Java')  list(enumerate (mystr1)) # Enumerate method adds a counter to an iterable and retu\n",
    "# String membership\n",
    " \n",
    "mystr1 = \"Hello Everyone\"\n",
    " \n",
    "print ('Hello' in mystr1) # Check whether substring \"Hello\" is present in string \n",
    "print ('Everyone'  in mystr1) # Check whether substring \"Everyone\" is present in s\n",
    "print ('Hi' in mystr1) # Check whether substring \"Hi\" is present in string \"mysrt\n",
    "\"\"\"\n",
    "The partition() method searches for a specified string and splits the string into\n",
    " \n",
    " - The first element contains the part before the argument string.\n",
    " \n",
    " - The second element contains the argument string.\n",
    " \n",
    " - The third element contains the part after the argument string.\n",
    "\"\"\"\n",
    " \n",
    "str5 = \"Natural language processing with Python and R and Java\"\n",
    "L = str5.partition (\"and\") \n",
    "print(L)\n",
    "3/25/2021 Python - Jupyter Notebook\n",
    "localhost:8889/notebooks/Documents/GitHub/Public/Python/Python.ipynb 14/118"
   ]
  },
  {
   "cell_type": "markdown",
   "id": "6b6084b6",
   "metadata": {},
   "source": [
    "257]:\n",
    "String Functions"
   ]
  },
  {
   "cell_type": "markdown",
   "id": "dcf329d1",
   "metadata": {},
   "source": [
    "267]:"
   ]
  },
  {
   "cell_type": "markdown",
   "id": "bef26bbd",
   "metadata": {},
   "source": [
    "268]:"
   ]
  },
  {
   "cell_type": "markdown",
   "id": "74426f2c",
   "metadata": {},
   "source": [
    "270]:"
   ]
  },
  {
   "cell_type": "markdown",
   "id": "fb35f0cc",
   "metadata": {},
   "source": [
    "269]:"
   ]
  },
  {
   "cell_type": "markdown",
   "id": "71468568",
   "metadata": {},
   "source": [
    "272]:"
   ]
  },
  {
   "cell_type": "markdown",
   "id": "9bfaffea",
   "metadata": {},
   "source": [
    "273]:"
   ]
  },
  {
   "cell_type": "markdown",
   "id": "fc12ab00",
   "metadata": {},
   "source": [
    "274]:"
   ]
  },
  {
   "cell_type": "code",
   "execution_count": null,
   "id": "6e09652d",
   "metadata": {},
   "outputs": [],
   "source": [
    "275]:('Natural language processing with Python and R ', 'and', ' Java')  \n",
    "Out[267]: '   Hello Everyone  '\n",
    "Out[268]: 'Hello Everyone'\n",
    "Out[270]: '   Hello Everyone'\n",
    "Out[269]: 'Hello Everyone  '\n",
    "Out[272]: '*********Hello Everyone***********All the Best**********'\n",
    "Out[273]: 'Hello Everyone***********All the Best'\n",
    "Out[274]: '*********Hello Everyone***********All the Best'\n",
    "Out[275]: 'Hello Everyone***********All the Best**********'\"\"\"\n",
    "The rpartition() method searches for the last occurence of the specified string a\n",
    "containing three elements.\n",
    " \n",
    " - The first element contains the part before the argument string.\n",
    " \n",
    " - The second element contains the argument string.\n",
    " \n",
    " - The third element contains the part after the argument string.\n",
    "\"\"\"\n",
    " \n",
    "str5 = \"Natural language processing with Python and R and Java\"\n",
    "L = str5.rpartition (\"and\") \n",
    "print(L)\n",
    "mystr2 = \"   Hello Everyone  \"\n",
    "mystr2\n",
    "mystr2.strip() # Removes white space from begining & end\n",
    "mystr2.rstrip() # Removes all whitespaces at the end of the string\n",
    "mystr2.lstrip() # Removes all whitespaces at the begining of the string\n",
    "mystr2 = \"*********Hello Everyone***********All the Best**********\"\n",
    "mystr2\n",
    "mystr2.strip('*') # Removes all '*' characters from begining & end of the string\n",
    "mystr2.rstrip('*') # Removes all '*' characters at the end of the string\n",
    "mystr2.lstrip('*') # Removes all '*' characters at the begining of the string\n",
    "3/25/2021 Python - Jupyter Notebook\n",
    "localhost:8889/notebooks/Documents/GitHub/Public/Python/Python.ipynb 15/118"
   ]
  },
  {
   "cell_type": "markdown",
   "id": "af98b523",
   "metadata": {},
   "source": [
    "276]:"
   ]
  },
  {
   "cell_type": "markdown",
   "id": "f2ef718c",
   "metadata": {},
   "source": [
    "277]:"
   ]
  },
  {
   "cell_type": "markdown",
   "id": "3708770d",
   "metadata": {},
   "source": [
    "278]:"
   ]
  },
  {
   "cell_type": "markdown",
   "id": "7a82a8e4",
   "metadata": {},
   "source": [
    "279]:"
   ]
  },
  {
   "cell_type": "markdown",
   "id": "5155bb52",
   "metadata": {},
   "source": [
    "280]:"
   ]
  },
  {
   "cell_type": "markdown",
   "id": "0c5beb84",
   "metadata": {},
   "source": [
    "281]:"
   ]
  },
  {
   "cell_type": "markdown",
   "id": "94b17bdc",
   "metadata": {},
   "source": [
    "230]:"
   ]
  },
  {
   "cell_type": "markdown",
   "id": "f61d164f",
   "metadata": {},
   "source": [
    "231]:"
   ]
  },
  {
   "cell_type": "markdown",
   "id": "239d6ff1",
   "metadata": {},
   "source": [
    "232]:"
   ]
  },
  {
   "cell_type": "markdown",
   "id": "a433d0c0",
   "metadata": {},
   "source": [
    "233]:"
   ]
  },
  {
   "cell_type": "code",
   "execution_count": null,
   "id": "88db64bf",
   "metadata": {},
   "outputs": [],
   "source": [
    "234]:Out[277]: '   hello everyone  '\n",
    "Out[278]: '   HELLO EVERYONE  '\n",
    "Out[279]: '   Hollo Everyone  '\n",
    "Out[280]: 'HelloEveryone'\n",
    "Out[230]: 2\n",
    "Out[231]: 3\n",
    "Out[232]: True\n",
    "Out[233]: Truemystr2 = \"   Hello Everyone  \"\n",
    "mystr2.lower() # Return whole string in lowercase \n",
    "mystr2.upper() # Return whole string in uppercase \n",
    "mystr2.replace(\"He\" , \"Ho\") #Replace substring \"He\" with \"Ho\"\n",
    "mystr2.replace(\" \" , \"\") # Remove all whitespaces using replace function\n",
    "mystr5 = \"one two Three one two two three\"\n",
    "mystr5.count(\"one\") # Number of times substring \"one\" occurred in string.\n",
    "mystr5.count(\"two\") # Number of times substring \"two\" occurred in string.\n",
    "mystr5.startswith (\"one\")  # Return boolean value True if string starts with \"one\"\n",
    "mystr5.endswith (\"three\") # Return boolean value True if string ends with \"three\"\n",
    "mystr4 = \"one two three four one two two three five five six seven six seven one \n",
    "3/25/2021 Python - Jupyter Notebook\n",
    "localhost:8889/notebooks/Documents/GitHub/Public/Python/Python.ipynb 16/118"
   ]
  },
  {
   "cell_type": "markdown",
   "id": "af262bec",
   "metadata": {},
   "source": [
    "235]:"
   ]
  },
  {
   "cell_type": "markdown",
   "id": "4e11a1af",
   "metadata": {},
   "source": [
    "236]:"
   ]
  },
  {
   "cell_type": "code",
   "execution_count": null,
   "id": "ac8fe115",
   "metadata": {},
   "outputs": [],
   "source": [
    "237]:Out[235]: ['one', \n",
    " 'two', \n",
    " 'three',  \n",
    " 'four',  \n",
    " 'one', \n",
    " 'two', \n",
    " 'two', \n",
    " 'three',  \n",
    " 'five',  \n",
    " 'five',  \n",
    " 'six', \n",
    " 'seven',  \n",
    " 'six', \n",
    " 'seven',  \n",
    " 'one', \n",
    " 'one', \n",
    " 'one', \n",
    " 'ten', \n",
    " 'eight',  \n",
    " 'ten', \n",
    " 'nine',  \n",
    " 'eleven',  \n",
    " 'ten', \n",
    " 'ten', \n",
    " 'nine']\n",
    "Cost of item1 , item2 and item3 are 40 , 55 and 77  \n",
    "Cost of item3 , item2 and item1 are 77 , 55 and 40  mylist = mystr4.split() # Split String into substrings\n",
    "mylist\n",
    "# Combining string & numbers using format method\n",
    "item1 = 40\n",
    "item2 = 55\n",
    "item3 = 77\n",
    " \n",
    "res = \"Cost of item1 , item2 and item3 are {} , {} and {}\"\n",
    " \n",
    "print(res.format(item1,item2,item3))\n",
    "# Combining string & numbers using format method\n",
    "item1 = 40\n",
    "item2 = 55\n",
    "item3 = 77\n",
    " \n",
    "res = \"Cost of item3 , item2 and item1 are {2} , {1} and {0}\"\n",
    " \n",
    "print(res.format(item1,item2,item3))\n",
    "3/25/2021 Python - Jupyter Notebook\n",
    "localhost:8889/notebooks/Documents/GitHub/Public/Python/Python.ipynb 17/118"
   ]
  },
  {
   "cell_type": "markdown",
   "id": "b12e59da",
   "metadata": {},
   "source": [
    "238]:"
   ]
  },
  {
   "cell_type": "markdown",
   "id": "13349c57",
   "metadata": {},
   "source": [
    "239]:"
   ]
  },
  {
   "cell_type": "markdown",
   "id": "df76c65c",
   "metadata": {},
   "source": [
    "240]:"
   ]
  },
  {
   "cell_type": "markdown",
   "id": "ee35ef46",
   "metadata": {},
   "source": [
    "241]:"
   ]
  },
  {
   "cell_type": "markdown",
   "id": "7334156f",
   "metadata": {},
   "source": [
    "242]:"
   ]
  },
  {
   "cell_type": "markdown",
   "id": "0675f2a0",
   "metadata": {},
   "source": [
    "243]:"
   ]
  },
  {
   "cell_type": "code",
   "execution_count": null,
   "id": "b6b5d1c5",
   "metadata": {},
   "outputs": [],
   "source": [
    "244]:                                         WELCOME EVERYONE                      \n",
    "***************************************** WELCOME EVERYONE ********************\n",
    "*********************  \n",
    "                                 WELCOME EVERYONE  \n",
    "******************************** WELCOME EVERYONE  \n",
    "19 \n",
    "19 \n",
    "False \n",
    "True \n",
    "True \n",
    "True str2 = \" WELCOME EVERYONE \"\n",
    "str2 = str2.center(100) # center align the string using a specific character as t\n",
    "print(str2)\n",
    "str2 = \" WELCOME EVERYONE \"\n",
    "str2 = str2.center(100,'*') # center align the string using a specific character \n",
    "print(str2)\n",
    "str2 = \" WELCOME EVERYONE \"\n",
    "str2 = str2.rjust(50) # Right align the string using a specific character as the \n",
    "print(str2)\n",
    "str2 = \" WELCOME EVERYONE \"\n",
    "str2 = str2.rjust(50,'*') # Right align the string using a specific character ('*\n",
    "print(str2)\n",
    "str4 = \"one two three four five six seven\"\n",
    "loc = str4.find(\"five\") # Find the location of word 'five' in the string \"str4\"\n",
    "print(loc)\n",
    "str4 = \"one two three four five six seven\"\n",
    "loc = str4.index(\"five\") # Find the location of word 'five' in the string \"str4\"\n",
    "print(loc)\n",
    "mystr6 = '123456789'\n",
    "print(mystr6.isalpha()) # returns True if all the characters in the text are lett\n",
    "print(mystr6.isalnum())  # returns True if a string contains only letters or numb\n",
    "print(mystr6.isdecimal ()) # returns True if all the characters are decimals (0-9)\n",
    "print(mystr6.isnumeric ()) # returns True if all the characters are numeric (0-9)\n",
    "3/25/2021 Python - Jupyter Notebook\n",
    "localhost:8889/notebooks/Documents/GitHub/Public/Python/Python.ipynb 18/118"
   ]
  },
  {
   "cell_type": "markdown",
   "id": "e75d2538",
   "metadata": {},
   "source": [
    "245]:"
   ]
  },
  {
   "cell_type": "markdown",
   "id": "b9effc8e",
   "metadata": {},
   "source": [
    "246]:"
   ]
  },
  {
   "cell_type": "markdown",
   "id": "5f04a370",
   "metadata": {},
   "source": [
    "247]:"
   ]
  },
  {
   "cell_type": "markdown",
   "id": "93928b94",
   "metadata": {},
   "source": [
    "248]:"
   ]
  },
  {
   "cell_type": "markdown",
   "id": "d83bfaa4",
   "metadata": {},
   "source": [
    "258]:"
   ]
  },
  {
   "cell_type": "markdown",
   "id": "fa9571de",
   "metadata": {},
   "source": [
    "259]:"
   ]
  },
  {
   "cell_type": "code",
   "execution_count": null,
   "id": "739d8977",
   "metadata": {},
   "outputs": [],
   "source": [
    "264]:True \n",
    "True \n",
    "False \n",
    "False \n",
    "False \n",
    "True \n",
    "False \n",
    "False \n",
    "True \n",
    "False \n",
    "False \n",
    "True \n",
    "51 \n",
    "51 \n",
    "Out[264]: '   abc def ghi'mystr6 = 'abcde'\n",
    "print(mystr6.isalpha()) # returns True if all the characters in the text are lett\n",
    "print(mystr6.isalnum())  # returns True if a string contains only letters or numb\n",
    "print(mystr6.isdecimal ()) # returns True if all the characters are decimals (0-9)\n",
    "print(mystr6.isnumeric ()) # returns True if all the characters are numeric (0-9)\n",
    "mystr6 = 'abc12309'\n",
    "print(mystr6.isalpha()) # returns True if all the characters in the text are lett\n",
    "print(mystr6.isalnum())  # returns True if a string contains only letters or numb\n",
    "print(mystr6.isdecimal ()) # returns True if all the characters are decimals (0-9)\n",
    "print(mystr6.isnumeric ()) # returns True if all the characters are numeric (0-9)\n",
    "mystr7 = 'ABCDEF'\n",
    "print(mystr7.isupper())  # Returns True if all the characters are in upper case\n",
    "print(mystr7.islower())  # Returns True if all the characters are in lower case\n",
    "mystr8 = 'abcdef'\n",
    "print(mystr8.isupper())  # Returns True if all the characters are in upper case\n",
    "print(mystr8.islower())  # Returns True if all the characters are in lower case\n",
    "str6 = \"one two three four one two two three five five six one ten eight ten nine\n",
    " \n",
    "loc = str6.rfind(\"one\") # last occurrence of word 'one' in string \"str6\"\n",
    "print(loc)\n",
    "loc = str6.rindex(\"one\") # last occurrence of word 'one' in string \"str6\"\n",
    " \n",
    "print(loc)\n",
    "txt = \"   abc def ghi   \"\n",
    " \n",
    "txt.rstrip()\n",
    "3/25/2021 Python - Jupyter Notebook\n",
    "localhost:8889/notebooks/Documents/GitHub/Public/Python/Python.ipynb 19/118"
   ]
  },
  {
   "cell_type": "markdown",
   "id": "1258bac2",
   "metadata": {},
   "source": [
    "265]:"
   ]
  },
  {
   "cell_type": "markdown",
   "id": "e0613d22",
   "metadata": {},
   "source": [
    "266]:\n",
    "Using Escape Character"
   ]
  },
  {
   "cell_type": "markdown",
   "id": "5031b6b4",
   "metadata": {},
   "source": [
    "252]:"
   ]
  },
  {
   "cell_type": "code",
   "execution_count": null,
   "id": "287131f6",
   "metadata": {},
   "outputs": [],
   "source": [
    "253]:\n",
    "List\n",
    "1) List is an ordered sequence of items.\n",
    "2) W e can have dif ferent data types under a list. E.g we can have integer , float and string items in\n",
    "a same list.\n",
    "List Creation"
   ]
  },
  {
   "cell_type": "markdown",
   "id": "0cdce69c",
   "metadata": {},
   "source": [
    "423]:"
   ]
  },
  {
   "cell_type": "markdown",
   "id": "a73a59dd",
   "metadata": {},
   "source": [
    "491]:"
   ]
  },
  {
   "cell_type": "markdown",
   "id": "d003d44a",
   "metadata": {},
   "source": [
    "424]:"
   ]
  },
  {
   "cell_type": "code",
   "execution_count": null,
   "id": "1a055e1b",
   "metadata": {},
   "outputs": [],
   "source": [
    "425]:Out[265]: 'abc def ghi   '\n",
    "Out[266]: 'abc def ghi'\n",
    "  File \"<ipython-input-252-0fa35a74da86>\" , line 2 \n",
    "    mystr = \"My favourite TV Series is \"Game of Thrones\"\"  \n",
    "                                           ^  \n",
    "SyntaxError : invalid syntax  \n",
    " \n",
    " \n",
    "My favourite series is \"Game of Thrones\"  \n",
    "<class 'list'>  txt = \"   abc def ghi   \"\n",
    " \n",
    "txt.lstrip()\n",
    "txt = \"   abc def ghi   \"\n",
    " \n",
    "txt.strip()\n",
    "#Using double quotes in the string is not allowed.\n",
    "mystr = \"My favourite TV Series is \" Game of Thrones\"\"\n",
    "#Using escape character to allow illegal characters\n",
    "mystr = \"My favourite series is \\\"Game of Thrones\\\"\"\n",
    "print(mystr)\n",
    "list1 = []      # Empty List\n",
    "print(type(list1))\n",
    "list2 = [10,30,60]      # List of integers numbers\n",
    "list3 = [10.77,30.66,60.89]       # List of float numbers\n",
    "3/25/2021 Python - Jupyter Notebook\n",
    "localhost:8889/notebooks/Documents/GitHub/Public/Python/Python.ipynb 20/118"
   ]
  },
  {
   "cell_type": "markdown",
   "id": "2be6e959",
   "metadata": {},
   "source": [
    "426]:"
   ]
  },
  {
   "cell_type": "markdown",
   "id": "29378aa5",
   "metadata": {},
   "source": [
    "427]:"
   ]
  },
  {
   "cell_type": "markdown",
   "id": "bc83cb87",
   "metadata": {},
   "source": [
    "428]:"
   ]
  },
  {
   "cell_type": "markdown",
   "id": "eafb9275",
   "metadata": {},
   "source": [
    "429]:"
   ]
  },
  {
   "cell_type": "markdown",
   "id": "a92d51be",
   "metadata": {},
   "source": [
    "430]:\n",
    "List Indexing"
   ]
  },
  {
   "cell_type": "markdown",
   "id": "945b4c9e",
   "metadata": {},
   "source": [
    "432]:"
   ]
  },
  {
   "cell_type": "markdown",
   "id": "d5af0f83",
   "metadata": {},
   "source": [
    "433]:"
   ]
  },
  {
   "cell_type": "markdown",
   "id": "d2ff5286",
   "metadata": {},
   "source": [
    "434]:"
   ]
  },
  {
   "cell_type": "markdown",
   "id": "609036f0",
   "metadata": {},
   "source": [
    "435]:"
   ]
  },
  {
   "cell_type": "code",
   "execution_count": null,
   "id": "75f23041",
   "metadata": {},
   "outputs": [],
   "source": [
    "436]:\n",
    "List SlicingOut[430]: 3\n",
    "Out[432]: 10\n",
    "Out[433]: 'one'\n",
    "Out[434]: 'o'\n",
    "Out[435]: 'three'\n",
    "Out[436]: [150, 90]list4 = ['one','two' , \"three\"]   # List of strings\n",
    "list5 = ['Asif', 25 ,[50, 100],[150, 90]]    # Nested Lists\n",
    "list6 = [100, 'Asif', 17.765]   # List of mixed data types\n",
    "list7 = ['Asif', 25 ,[50, 100],[150, 90] , {'John' , 'David'}]\n",
    "len(list6) #Length of list\n",
    "list2[0] # Retreive first element of the list\n",
    "list4[0] # Retreive first element of the list\n",
    "list4[0][0] # Nested indexing - Access the first character of the first list elem\n",
    "list4[-1] # Last item of the list\n",
    "list5[-1]  # Last item of the list\n",
    "3/25/2021 Python - Jupyter Notebook\n",
    "localhost:8889/notebooks/Documents/GitHub/Public/Python/Python.ipynb 21/118"
   ]
  },
  {
   "cell_type": "markdown",
   "id": "ecf0a82c",
   "metadata": {},
   "source": [
    "437]:"
   ]
  },
  {
   "cell_type": "markdown",
   "id": "f684b7da",
   "metadata": {},
   "source": [
    "438]:"
   ]
  },
  {
   "cell_type": "markdown",
   "id": "7de12ddb",
   "metadata": {},
   "source": [
    "439]:"
   ]
  },
  {
   "cell_type": "markdown",
   "id": "67d5fd3b",
   "metadata": {},
   "source": [
    "440]:"
   ]
  },
  {
   "cell_type": "markdown",
   "id": "39e8dd87",
   "metadata": {},
   "source": [
    "441]:"
   ]
  },
  {
   "cell_type": "markdown",
   "id": "9c78919a",
   "metadata": {},
   "source": [
    "442]:"
   ]
  },
  {
   "cell_type": "markdown",
   "id": "e7ab7f12",
   "metadata": {},
   "source": [
    "443]:"
   ]
  },
  {
   "cell_type": "markdown",
   "id": "764424b6",
   "metadata": {},
   "source": [
    "444]:"
   ]
  },
  {
   "cell_type": "markdown",
   "id": "432bc1bb",
   "metadata": {},
   "source": [
    "445]:\n",
    "Add , Remove & Change Items"
   ]
  },
  {
   "cell_type": "markdown",
   "id": "6e25355c",
   "metadata": {},
   "source": [
    "446]:"
   ]
  },
  {
   "cell_type": "markdown",
   "id": "5fc90947",
   "metadata": {},
   "source": [
    "447]:"
   ]
  },
  {
   "cell_type": "code",
   "execution_count": null,
   "id": "73ad3339",
   "metadata": {},
   "outputs": [],
   "source": [
    "448]:Out[438]: ['one', 'two', 'three']\n",
    "Out[439]: ['three', 'four', 'five']\n",
    "Out[440]: ['one', 'two', 'three']\n",
    "Out[441]: ['one', 'two']\n",
    "Out[442]: ['six', 'seven', 'eight']\n",
    "Out[443]: ['seven', 'eight']\n",
    "Out[444]: 'eight'\n",
    "Out[445]: ['one', 'two', 'three', 'four', 'five', 'six', 'seven', 'eight']\n",
    "Out[446]: ['one', 'two', 'three', 'four', 'five', 'six', 'seven', 'eight']\n",
    "Out[447]: ['one', 'two', 'three', 'four', 'five', 'six', 'seven', 'eight', 'nine']\n",
    "Out[448]: ['one', 'two', 'three', 'four', 'five', 'six', 'seven', 'eight', 'nine', 'ten']mylist = ['one' , 'two' , 'three' , 'four' , 'five' , 'six' , 'seven' , 'eight']\n",
    "mylist[0:3] # Return all items from 0th to 3rd index location excluding the item \n",
    "mylist[2:5] # List all items from 2nd to 5th index location excluding the item at\n",
    "mylist[:3] # Return first three items\n",
    "mylist[:2]  # Return first two items\n",
    "mylist[-3:] # Return last three items\n",
    "mylist[-2:] # Return last two items\n",
    "mylist[-1] # Return last item of the list\n",
    "mylist[:] # Return whole list\n",
    "mylist\n",
    "mylist.append('nine') # Add an item to the end of the list  \n",
    "mylist\n",
    "mylist.insert(9,'ten') # Add item at index location 9\n",
    "mylist\n",
    "3/25/2021 Python - Jupyter Notebook\n",
    "localhost:8889/notebooks/Documents/GitHub/Public/Python/Python.ipynb 22/118"
   ]
  },
  {
   "cell_type": "markdown",
   "id": "4414fefd",
   "metadata": {},
   "source": [
    "449]:"
   ]
  },
  {
   "cell_type": "markdown",
   "id": "052b9fcb",
   "metadata": {},
   "source": [
    "450]:"
   ]
  },
  {
   "cell_type": "markdown",
   "id": "5d851484",
   "metadata": {},
   "source": [
    "451]:"
   ]
  },
  {
   "cell_type": "markdown",
   "id": "a697b7e2",
   "metadata": {},
   "source": [
    "452]:"
   ]
  },
  {
   "cell_type": "markdown",
   "id": "5b7b5b79",
   "metadata": {},
   "source": [
    "453]:"
   ]
  },
  {
   "cell_type": "markdown",
   "id": "80d3d6b3",
   "metadata": {},
   "source": [
    "454]:"
   ]
  },
  {
   "cell_type": "code",
   "execution_count": null,
   "id": "f21cda23",
   "metadata": {},
   "outputs": [],
   "source": [
    "455]:Out[449]: ['one', \n",
    " 'ONE', \n",
    " 'two', \n",
    " 'three',  \n",
    " 'four',  \n",
    " 'five',  \n",
    " 'six', \n",
    " 'seven',  \n",
    " 'eight',  \n",
    " 'nine',  \n",
    " 'ten']\n",
    "Out[450]: ['one', 'two', 'three', 'four', 'five', 'six', 'seven', 'eight', 'nine', 'ten']\n",
    "Out[451]: ['one', 'two', 'three', 'four', 'five', 'six', 'seven', 'eight', 'nine']\n",
    "Out[452]: ['one', 'two', 'three', 'four', 'five', 'six', 'seven', 'eight']\n",
    "Out[453]: ['one', 'two', 'three', 'four', 'five', 'six', 'seven']\n",
    "Out[454]: [1, 2, 3, 'four', 'five', 'six', 'seven']\n",
    "Out[455]: []mylist.insert(1,'ONE') # Add item at index location 1\n",
    "mylist\n",
    "mylist.remove('ONE') # Remove item \"ONE\"\n",
    "mylist\n",
    "mylist.pop() # Remove last item of the list\n",
    "mylist\n",
    "mylist.pop(8) # Remove item at index location 8\n",
    "mylist\n",
    "del mylist[7] # Remove item at index location 7\n",
    "mylist\n",
    "# Change value of the string\n",
    "mylist[0] = 1\n",
    "mylist[1] = 2\n",
    "mylist[2] = 3\n",
    "mylist\n",
    "mylist.clear()  # Empty List / Delete all items in the list\n",
    "mylist\n",
    "3/25/2021 Python - Jupyter Notebook\n",
    "localhost:8889/notebooks/Documents/GitHub/Public/Python/Python.ipynb 23/118"
   ]
  },
  {
   "cell_type": "markdown",
   "id": "eabb33f2",
   "metadata": {},
   "source": [
    "456]:\n",
    "Copy List"
   ]
  },
  {
   "cell_type": "markdown",
   "id": "e525987d",
   "metadata": {},
   "source": [
    "457]:"
   ]
  },
  {
   "cell_type": "markdown",
   "id": "c6f5325e",
   "metadata": {},
   "source": [
    "458]:"
   ]
  },
  {
   "cell_type": "markdown",
   "id": "a4b8d80d",
   "metadata": {},
   "source": [
    "459]:"
   ]
  },
  {
   "cell_type": "markdown",
   "id": "b95c2e72",
   "metadata": {},
   "source": [
    "460]:"
   ]
  },
  {
   "cell_type": "markdown",
   "id": "5737588a",
   "metadata": {},
   "source": [
    "461]:"
   ]
  },
  {
   "cell_type": "markdown",
   "id": "e0f0e880",
   "metadata": {},
   "source": [
    "462]:"
   ]
  },
  {
   "cell_type": "markdown",
   "id": "f60e94be",
   "metadata": {},
   "source": [
    "463]:"
   ]
  },
  {
   "cell_type": "markdown",
   "id": "ceed8cb1",
   "metadata": {},
   "source": [
    "464]:"
   ]
  },
  {
   "cell_type": "markdown",
   "id": "218b47d7",
   "metadata": {},
   "source": [
    "465]:\n",
    "Join Lists"
   ]
  },
  {
   "cell_type": "markdown",
   "id": "a29ad727",
   "metadata": {},
   "source": [
    "466]:"
   ]
  },
  {
   "cell_type": "code",
   "execution_count": null,
   "id": "58f41247",
   "metadata": {},
   "outputs": [],
   "source": [
    "467]:---------------------------------------------------------------------------  \n",
    "NameError                                  Traceback (most recent call last)  \n",
    "<ipython-input-456-50c7849aa2cb>  in <module>  \n",
    "      1 del mylist # Delete the whole list  \n",
    "----> 2 mylist \n",
    " \n",
    "NameError : name 'mylist' is not defined  \n",
    " \n",
    "Out[459]: (1537348392776, 1537348392776)\n",
    "Out[461]: 1537345955016\n",
    "Out[463]: [1, 'two', 'three', 'four', 'five', 'six', 'seven', 'eight', 'nine', 'ten']\n",
    "Out[464]: [1, 'two', 'three', 'four', 'five', 'six', 'seven', 'eight', 'nine', 'ten']\n",
    "Out[465]: ['one', 'two', 'three', 'four', 'five', 'six', 'seven', 'eight', 'nine', 'ten']\n",
    "Out[467]: ['one', 'two', 'three', 'four', 'five', 'six', 'seven', 'eight']del mylist # Delete the whole list\n",
    "mylist\n",
    "mylist = ['one', 'two', 'three', 'four', 'five', 'six', 'seven', 'eight', 'nine',\n",
    "mylist1 = mylist # Create a new reference \"mylist1\" \n",
    "id(mylist) , id(mylist1) # The address of both mylist & mylist1 will be the same \n",
    "mylist2 = mylist.copy() # Create a copy of the list\n",
    "id(mylist2) # The address of mylist2 will be different from mylist because mylist\n",
    "mylist[0] = 1\n",
    "mylist\n",
    "mylist1 # mylist1 will be also impacted as it is pointing to the same list\n",
    "mylist2 # Copy of list won't be impacted due to changes made on the original list\n",
    "list1 = ['one', 'two', 'three', 'four']\n",
    "list2 = ['five', 'six', 'seven', 'eight']\n",
    "list3 = list1 + list2 # Join two lists by '+' operator\n",
    "list3\n",
    "3/25/2021 Python - Jupyter Notebook\n",
    "localhost:8889/notebooks/Documents/GitHub/Public/Python/Python.ipynb 24/118"
   ]
  },
  {
   "cell_type": "markdown",
   "id": "6e3543f8",
   "metadata": {},
   "source": [
    "468]:\n",
    "List Membership"
   ]
  },
  {
   "cell_type": "markdown",
   "id": "51cae84f",
   "metadata": {},
   "source": [
    "469]:"
   ]
  },
  {
   "cell_type": "markdown",
   "id": "5e922f1c",
   "metadata": {},
   "source": [
    "470]:"
   ]
  },
  {
   "cell_type": "markdown",
   "id": "d1aadb0d",
   "metadata": {},
   "source": [
    "471]:"
   ]
  },
  {
   "cell_type": "markdown",
   "id": "0234572b",
   "metadata": {},
   "source": [
    "472]:"
   ]
  },
  {
   "cell_type": "markdown",
   "id": "b757c575",
   "metadata": {},
   "source": [
    "473]:\n",
    "Reverse & Sort List"
   ]
  },
  {
   "cell_type": "markdown",
   "id": "7e479f23",
   "metadata": {},
   "source": [
    "474]:"
   ]
  },
  {
   "cell_type": "markdown",
   "id": "b656dce6",
   "metadata": {},
   "source": [
    "475]:"
   ]
  },
  {
   "cell_type": "code",
   "execution_count": null,
   "id": "2ebd0adc",
   "metadata": {},
   "outputs": [],
   "source": [
    "476]:Out[468]: ['one', 'two', 'three', 'four', 'five', 'six', 'seven', 'eight']\n",
    "Out[469]: ['one', 'two', 'three', 'four', 'five', 'six', 'seven', 'eight']\n",
    "Out[470]: True\n",
    "Out[471]: False\n",
    "Three is present in the list  \n",
    "eleven is not present in the list  \n",
    "Out[474]: ['one', 'two', 'three', 'four', 'five', 'six', 'seven', 'eight']\n",
    "Out[475]: ['eight', 'seven', 'six', 'five', 'four', 'three', 'two', 'one']\n",
    "Out[476]: ['one', 'two', 'three', 'four', 'five', 'six', 'seven', 'eight']list1.extend(list2) #Append list2 with list1\n",
    "list1\n",
    "list1\n",
    "'one' in list1 # Check if 'one' exist in the list\n",
    "'ten' in list1 # Check if 'ten' exist in the list\n",
    "if 'three' in list1: # Check if 'three' exist in the list\n",
    "    print('Three is present in the list' )\n",
    "else:\n",
    "    print('Three is not present in the list' )\n",
    "if 'eleven'  in list1:  # Check if 'eleven' exist in the list\n",
    "    print('eleven is present in the list' )\n",
    "else:\n",
    "    print('eleven is not present in the list' )\n",
    "list1\n",
    "list1.reverse() # Reverse the list\n",
    "list1\n",
    "list1 = list1[::-1] # Reverse the list\n",
    "list1\n",
    "3/25/2021 Python - Jupyter Notebook\n",
    "localhost:8889/notebooks/Documents/GitHub/Public/Python/Python.ipynb 25/118"
   ]
  },
  {
   "cell_type": "markdown",
   "id": "b0369aac",
   "metadata": {},
   "source": [
    "477]:"
   ]
  },
  {
   "cell_type": "markdown",
   "id": "8b1a74bc",
   "metadata": {},
   "source": [
    "478]:"
   ]
  },
  {
   "cell_type": "markdown",
   "id": "41a2378f",
   "metadata": {},
   "source": [
    "584]:"
   ]
  },
  {
   "cell_type": "markdown",
   "id": "83ae6eba",
   "metadata": {},
   "source": [
    "585]:\n",
    "Loop through a list"
   ]
  },
  {
   "cell_type": "markdown",
   "id": "64ea28ac",
   "metadata": {},
   "source": [
    "481]:"
   ]
  },
  {
   "cell_type": "markdown",
   "id": "b6023e6e",
   "metadata": {},
   "source": [
    "482]:"
   ]
  },
  {
   "cell_type": "code",
   "execution_count": null,
   "id": "2158587b",
   "metadata": {},
   "outputs": [],
   "source": [
    "483]:\n",
    "CountOut[477]: [2, 5, 9, 12, 34, 88, 99]\n",
    "Out[478]: [99, 88, 34, 12, 9, 5, 2]\n",
    "Out[584]: [11, 21, 33, 65, 88, 98]\n",
    "Out[585]: [88, 65, 33, 21, 11, 98]\n",
    "Out[481]: ['one', 'two', 'three', 'four', 'five', 'six', 'seven', 'eight']\n",
    "one \n",
    "two \n",
    "three \n",
    "four \n",
    "five \n",
    "six \n",
    "seven \n",
    "eight \n",
    "(0, 'one')  \n",
    "(1, 'two')  \n",
    "(2, 'three')  \n",
    "(3, 'four')  \n",
    "(4, 'five')  \n",
    "(5, 'six')  \n",
    "(6, 'seven')  \n",
    "(7, 'eight')  mylist3 = [9,5,2,99,12,88,34]\n",
    "mylist3.sort()   # Sort list in ascending order\n",
    "mylist3\n",
    "mylist3 = [9,5,2,99,12,88,34]\n",
    "mylist3.sort(reverse=True)  # Sort list in descending order\n",
    "mylist3\n",
    "mylist4 = [88,65,33,21,11,98]\n",
    "sorted(mylist4)        # Returns a new sorted list and doesn't change original li\n",
    "mylist4\n",
    "list1\n",
    "for i in list1:\n",
    "    print(i)\n",
    "for i in enumerate (list1):\n",
    "    print(i)\n",
    "3/25/2021 Python - Jupyter Notebook\n",
    "localhost:8889/notebooks/Documents/GitHub/Public/Python/Python.ipynb 26/118"
   ]
  },
  {
   "cell_type": "markdown",
   "id": "a25cb01f",
   "metadata": {},
   "source": [
    "485]:"
   ]
  },
  {
   "cell_type": "markdown",
   "id": "85962206",
   "metadata": {},
   "source": [
    "486]:"
   ]
  },
  {
   "cell_type": "markdown",
   "id": "cbedde83",
   "metadata": {},
   "source": [
    "487]:"
   ]
  },
  {
   "cell_type": "code",
   "execution_count": null,
   "id": "f84cb5fa",
   "metadata": {},
   "outputs": [],
   "source": [
    "489]:\n",
    "All / Any\n",
    "The all() method returns:\n",
    "True - If all elements in a list are true\n",
    "False  - If any element in a list is false\n",
    "The any()  function returns T rue if any element in the list is T rue. If not, any() returns False."
   ]
  },
  {
   "cell_type": "markdown",
   "id": "5dadc578",
   "metadata": {},
   "source": [
    "816]:"
   ]
  },
  {
   "cell_type": "markdown",
   "id": "dc37cefc",
   "metadata": {},
   "source": [
    "817]:"
   ]
  },
  {
   "cell_type": "markdown",
   "id": "dc6f1675",
   "metadata": {},
   "source": [
    "818]:"
   ]
  },
  {
   "cell_type": "markdown",
   "id": "4067e36a",
   "metadata": {},
   "source": [
    "819]:"
   ]
  },
  {
   "cell_type": "markdown",
   "id": "3a9580af",
   "metadata": {},
   "source": [
    "820]:"
   ]
  },
  {
   "cell_type": "markdown",
   "id": "724a2807",
   "metadata": {},
   "source": [
    "821]:"
   ]
  },
  {
   "cell_type": "markdown",
   "id": "3ab57d95",
   "metadata": {},
   "source": [
    "822]:"
   ]
  },
  {
   "cell_type": "code",
   "execution_count": null,
   "id": "223aebb1",
   "metadata": {},
   "outputs": [],
   "source": [
    "823]:Out[486]: 3\n",
    "Out[487]: 2\n",
    "Out[489]: 1\n",
    "Out[817]: False\n",
    "Out[818]: True\n",
    "Out[820]: False\n",
    "Out[821]: True\n",
    "Out[823]: Truelist10 =['one', 'two', 'three', 'four', 'one', 'one', 'two', 'three']\n",
    "list10.count('one') # Number of times item \"one\" occurred in the list.\n",
    "list10.count('two') # Occurence of item 'two' in the list\n",
    "list10.count('four') #Occurence of item 'four' in the list\n",
    "L1 = [1,2,3,4,0]\n",
    "all(L1) # Will Return false as one value is false (Value 0)\n",
    "any(L1)  # Will Return True as we have items in the list with True value\n",
    "L2 = [1,2,3,4,True,False]\n",
    "all(L2) # Returns false as one value is false\n",
    "any(L2)  # Will Return True as we have items in the list with True value\n",
    "L3 = [1,2,3,True]\n",
    "all(L3) # Will return True as all items in the list are True\n",
    "3/25/2021 Python - Jupyter Notebook\n",
    "localhost:8889/notebooks/Documents/GitHub/Public/Python/Python.ipynb 27/118"
   ]
  },
  {
   "cell_type": "code",
   "execution_count": null,
   "id": "91bd6f62",
   "metadata": {},
   "outputs": [],
   "source": [
    "824]:\n",
    "List Comprehensions\n",
    "List Comprehensions provide an elegant way to create new lists.\n",
    "It consists of brackets containing an expression followed by a for clause, then zero or more for\n",
    "or if clauses."
   ]
  },
  {
   "cell_type": "markdown",
   "id": "93873355",
   "metadata": {},
   "source": [
    "287]:"
   ]
  },
  {
   "cell_type": "markdown",
   "id": "8394c7a9",
   "metadata": {},
   "source": [
    "289]:"
   ]
  },
  {
   "cell_type": "markdown",
   "id": "f4b1f173",
   "metadata": {},
   "source": [
    "290]:"
   ]
  },
  {
   "cell_type": "markdown",
   "id": "c5308930",
   "metadata": {},
   "source": [
    "325]:"
   ]
  },
  {
   "cell_type": "code",
   "execution_count": null,
   "id": "212a081a",
   "metadata": {},
   "outputs": [],
   "source": [
    "317]:Out[824]: True\n",
    "Out[287]: ['W', 'E', 'L', 'C', 'O', 'M', 'E']\n",
    "Out[289]: [0, 2, 4, 6, 8, 10, 12, 14, 16, 18, 20, 22, 24, 26, 28, 30, 32, 34, 36, 38]\n",
    "Out[290]: [1, 3, 5, 7, 9, 11, 13, 15, 17, 19, 21, 23, 25, 27, 29, 31, 33, 35, 37, 39]\n",
    "Out[325]: [0, 1, 4, 9, 16, 25, 36, 49, 64, 81]\n",
    "Out[317]: [20, 30, 40, 50, 60, 70, 80]any(L3) # Will Return True as we have items in the list with True value\n",
    "mystring  = \"WELCOME\"\n",
    "mylist = [ i for i in mystring  ] # Iterating through a string Using List Comprehe\n",
    "mylist\n",
    "mylist1 = [ i for i in range(40) if i % 2 == 0] # Display all even numbers betwee\n",
    "mylist1\n",
    "mylist2 = [ i for i in range(40) if i % 2 == 1] # Display all odd numbers between\n",
    "mylist2\n",
    "mylist3 = [num**2 for num in range(10)] # calculate square of all numbers between\n",
    "mylist3\n",
    "# Multiple whole list by 10\n",
    "list1 = [2,3,4,5,6,7,8]\n",
    "list1 = [i*10 for i in list1]\n",
    "list1\n",
    "3/25/2021 Python - Jupyter Notebook\n",
    "localhost:8889/notebooks/Documents/GitHub/Public/Python/Python.ipynb 28/118"
   ]
  },
  {
   "cell_type": "markdown",
   "id": "af8ad00d",
   "metadata": {},
   "source": [
    "299]:"
   ]
  },
  {
   "cell_type": "markdown",
   "id": "c7c314a1",
   "metadata": {},
   "source": [
    "309]:"
   ]
  },
  {
   "cell_type": "markdown",
   "id": "04d0925d",
   "metadata": {},
   "source": [
    "315]:"
   ]
  },
  {
   "cell_type": "code",
   "execution_count": null,
   "id": "657176f7",
   "metadata": {},
   "outputs": [],
   "source": [
    "316]:Out[299]: [0, 36, 72, 108, 144, 180]\n",
    "0 is Even Number  \n",
    "1 is odd number  \n",
    "2 is Even Number  \n",
    "3 is odd number  \n",
    "4 is Even Number  \n",
    "5 is odd number  \n",
    "6 is Even Number  \n",
    "7 is odd number  \n",
    "8 is Even Number  \n",
    "9 is odd number  \n",
    "Out[315]: ['1', '2', '3', '4', '5', '6', '7', '8', '9']\n",
    "Out[316]: ['O', \n",
    " 'n', \n",
    " 'e', \n",
    " 't', \n",
    " 'w', \n",
    " 'o', \n",
    " 't', \n",
    " 'h', \n",
    " 'r', \n",
    " 'e', \n",
    " 'e', \n",
    " 'f', \n",
    " 'o', \n",
    " 'u', \n",
    " 'r', \n",
    " 'f', \n",
    " 'i', \n",
    " 'v', \n",
    " 'e', \n",
    " 's', \n",
    " 'i', \n",
    " 'x']#List all numbers divisible by 3 , 9 & 12 using nested \"if\" with List Comprehensi\n",
    "mylist4 = [i for i in range(200) if i % 3 == 0 if i % 9 == 0 if i % 12 == 0]\n",
    "mylist4\n",
    "# Odd even test\n",
    "l1 = [print(\"{} is Even Number\" .format(i)) if i%2==0 else print(\"{} is odd number\n",
    "# Extract numbers from a string\n",
    "mystr = \"One 1 two 2 three 3 four 4 five 5 six 6789\"\n",
    "numbers = [i for i in mystr if i.isdigit()]\n",
    "numbers\n",
    "# Extract letters from a string\n",
    " \n",
    "mystr = \"One 1 two 2 three 3 four 4 five 5 six 6789\"\n",
    "numbers = [i for i in mystr if i.isalpha()]\n",
    "numbers\n",
    "3/25/2021 Python - Jupyter Notebook\n",
    "localhost:8889/notebooks/Documents/GitHub/Public/Python/Python.ipynb 29/118Tuples\n",
    "1. Tuple is similar to List except that the objects in tuple are immutable which means we cannot\n",
    "change the elements of a tuple once assigned.\n",
    "2. When we do not want to change the data over time, tuple is a preferred data type.\n",
    "3. Iterating over the elements of a tuple is faster compared to iterating over a list.\n",
    "Tuple Creation"
   ]
  },
  {
   "cell_type": "markdown",
   "id": "792202e6",
   "metadata": {},
   "source": [
    "533]:"
   ]
  },
  {
   "cell_type": "markdown",
   "id": "9eee6c23",
   "metadata": {},
   "source": [
    "534]:"
   ]
  },
  {
   "cell_type": "markdown",
   "id": "111dbbf0",
   "metadata": {},
   "source": [
    "535]:"
   ]
  },
  {
   "cell_type": "markdown",
   "id": "a966d667",
   "metadata": {},
   "source": [
    "536]:"
   ]
  },
  {
   "cell_type": "markdown",
   "id": "b916a070",
   "metadata": {},
   "source": [
    "537]:"
   ]
  },
  {
   "cell_type": "markdown",
   "id": "84e69073",
   "metadata": {},
   "source": [
    "538]:"
   ]
  },
  {
   "cell_type": "markdown",
   "id": "ec83d99c",
   "metadata": {},
   "source": [
    "539]:"
   ]
  },
  {
   "cell_type": "markdown",
   "id": "651c76de",
   "metadata": {},
   "source": [
    "540]:\n",
    "Tuple Indexing"
   ]
  },
  {
   "cell_type": "markdown",
   "id": "4eedf7f8",
   "metadata": {},
   "source": [
    "541]:"
   ]
  },
  {
   "cell_type": "markdown",
   "id": "b353f1e4",
   "metadata": {},
   "source": [
    "542]:"
   ]
  },
  {
   "cell_type": "markdown",
   "id": "03db561e",
   "metadata": {},
   "source": [
    "543]:"
   ]
  },
  {
   "cell_type": "code",
   "execution_count": null,
   "id": "04965d47",
   "metadata": {},
   "outputs": [],
   "source": [
    "544]:Out[540]: 6\n",
    "Out[541]: 10\n",
    "Out[542]: 'one'\n",
    "Out[543]: 'o'\n",
    "Out[544]: 'three'tup1 = ()      # Empty tuple\n",
    "tup2 = (10,30,60)      # tuple of integers numbers\n",
    "tup3 = (10.77,30.66,60.89)       # tuple of float numbers\n",
    "tup4 = ('one','two' , \"three\")   # tuple of strings\n",
    "tup5 = ('Asif', 25 ,(50, 100),(150, 90))   # Nested tuples\n",
    "tup6 = (100, 'Asif', 17.765)   # Tuple of mixed data types\n",
    "tup7 = ('Asif', 25 ,[50, 100],[150, 90] , {'John' , 'David'} , (99,22,33))\n",
    "len(tup7) #Length of list\n",
    "tup2[0] # Retreive first element of the tuple\n",
    "tup4[0] # Retreive first element of the tuple\n",
    "tup4[0][0] # Nested indexing - Access the first character of the first tuple elem\n",
    "tup4[-1] # Last item of the tuple\n",
    "3/25/2021 Python - Jupyter Notebook\n",
    "localhost:8889/notebooks/Documents/GitHub/Public/Python/Python.ipynb 30/118"
   ]
  },
  {
   "cell_type": "markdown",
   "id": "8ced4b09",
   "metadata": {},
   "source": [
    "545]:\n",
    "Tuple Slicing"
   ]
  },
  {
   "cell_type": "markdown",
   "id": "2acb0bc1",
   "metadata": {},
   "source": [
    "560]:"
   ]
  },
  {
   "cell_type": "markdown",
   "id": "2e4f39c6",
   "metadata": {},
   "source": [
    "547]:"
   ]
  },
  {
   "cell_type": "markdown",
   "id": "ae7b324e",
   "metadata": {},
   "source": [
    "548]:"
   ]
  },
  {
   "cell_type": "markdown",
   "id": "7d03299f",
   "metadata": {},
   "source": [
    "549]:"
   ]
  },
  {
   "cell_type": "markdown",
   "id": "2b121384",
   "metadata": {},
   "source": [
    "550]:"
   ]
  },
  {
   "cell_type": "markdown",
   "id": "775ec412",
   "metadata": {},
   "source": [
    "551]:"
   ]
  },
  {
   "cell_type": "markdown",
   "id": "6bef41ed",
   "metadata": {},
   "source": [
    "552]:"
   ]
  },
  {
   "cell_type": "markdown",
   "id": "558db597",
   "metadata": {},
   "source": [
    "553]:"
   ]
  },
  {
   "cell_type": "markdown",
   "id": "26f9fd24",
   "metadata": {},
   "source": [
    "554]:\n",
    "Remove & Change Items"
   ]
  },
  {
   "cell_type": "code",
   "execution_count": null,
   "id": "266b1cc1",
   "metadata": {},
   "outputs": [],
   "source": [
    "555]:Out[545]: (150, 90)\n",
    "Out[547]: ('one', 'two', 'three')\n",
    "Out[548]: ('three', 'four', 'five')\n",
    "Out[549]: ('one', 'two', 'three')\n",
    "Out[550]: ('one', 'two')\n",
    "Out[551]: ('six', 'seven', 'eight')\n",
    "Out[552]: ('seven', 'eight')\n",
    "Out[553]: 'eight'\n",
    "Out[554]: ('one', 'two', 'three', 'four', 'five', 'six', 'seven', 'eight')\n",
    "Out[555]: ('one', 'two', 'three', 'four', 'five', 'six', 'seven', 'eight')tup5[-1]  # Last item of the tuple\n",
    "mytuple = ('one' , 'two' , 'three' , 'four' , 'five' , 'six' , 'seven' , 'eight')\n",
    "mytuple[0:3] # Return all items from 0th to 3rd index location excluding the item\n",
    "mytuple[2:5] # List all items from 2nd to 5th index location excluding the item a\n",
    "mytuple[:3] # Return first three items\n",
    "mytuple[:2]  # Return first two items\n",
    "mytuple[-3:] # Return last three items\n",
    "mytuple[-2:] # Return last two items\n",
    "mytuple[-1] # Return last item of the tuple\n",
    "mytuple[:] # Return whole tuple\n",
    "mytuple\n",
    "3/25/2021 Python - Jupyter Notebook\n",
    "localhost:8889/notebooks/Documents/GitHub/Public/Python/Python.ipynb 31/118"
   ]
  },
  {
   "cell_type": "markdown",
   "id": "ffcc708d",
   "metadata": {},
   "source": [
    "556]:"
   ]
  },
  {
   "cell_type": "markdown",
   "id": "bbfb6662",
   "metadata": {},
   "source": [
    "557]:"
   ]
  },
  {
   "cell_type": "markdown",
   "id": "f4ad1699",
   "metadata": {},
   "source": [
    "561]:\n",
    "Loop through a tuple"
   ]
  },
  {
   "cell_type": "markdown",
   "id": "afde7acc",
   "metadata": {},
   "source": [
    "570]:"
   ]
  },
  {
   "cell_type": "markdown",
   "id": "3046f23a",
   "metadata": {},
   "source": [
    "571]:"
   ]
  },
  {
   "cell_type": "code",
   "execution_count": null,
   "id": "2559a8e7",
   "metadata": {},
   "outputs": [],
   "source": [
    "572]:---------------------------------------------------------------------------  \n",
    "TypeError                                  Traceback (most recent call last)  \n",
    "<ipython-input-556-667a276aa503>  in <module>  \n",
    "----> 1 del mytuple [0] \n",
    " \n",
    "TypeError : 'tuple' object doesn't support item deletion  \n",
    " \n",
    "---------------------------------------------------------------------------  \n",
    "TypeError                                  Traceback (most recent call last)  \n",
    "<ipython-input-557-4cf492702bfd>  in <module>  \n",
    "----> 1 mytuple[0] = 1 \n",
    " \n",
    "TypeError : 'tuple' object does not support item assignment  \n",
    " \n",
    "Out[570]: ('one', 'two', 'three', 'four', 'five', 'six', 'seven', 'eight')\n",
    "one \n",
    "two \n",
    "three \n",
    "four \n",
    "five \n",
    "six \n",
    "seven \n",
    "eight \n",
    "(0, 'one')  \n",
    "(1, 'two')  \n",
    "(2, 'three')  \n",
    "(3, 'four')  \n",
    "(4, 'five')  \n",
    "(5, 'six')  \n",
    "(6, 'seven')  \n",
    "(7, 'eight')  del mytuple[0] # Tuples are immutable which means we can't DELETE tuple items\n",
    "mytuple[0] = 1 # Tuples are immutable which means we can't CHANGE tuple items\n",
    "del mytuple # Deleting entire tuple object is possible\n",
    "mytuple\n",
    "for i in mytuple:\n",
    "    print(i)\n",
    "for i in enumerate (mytuple):\n",
    "    print(i)\n",
    "3/25/2021 Python - Jupyter Notebook\n",
    "localhost:8889/notebooks/Documents/GitHub/Public/Python/Python.ipynb 32/118Count"
   ]
  },
  {
   "cell_type": "markdown",
   "id": "b2a19bab",
   "metadata": {},
   "source": [
    "573]:"
   ]
  },
  {
   "cell_type": "markdown",
   "id": "81fe7523",
   "metadata": {},
   "source": [
    "574]:"
   ]
  },
  {
   "cell_type": "markdown",
   "id": "94ad27dc",
   "metadata": {},
   "source": [
    "575]:"
   ]
  },
  {
   "cell_type": "markdown",
   "id": "1f0db529",
   "metadata": {},
   "source": [
    "576]:\n",
    "Tuple Membership"
   ]
  },
  {
   "cell_type": "markdown",
   "id": "539b2989",
   "metadata": {},
   "source": [
    "577]:"
   ]
  },
  {
   "cell_type": "markdown",
   "id": "7cf5d293",
   "metadata": {},
   "source": [
    "578]:"
   ]
  },
  {
   "cell_type": "markdown",
   "id": "e08e21a4",
   "metadata": {},
   "source": [
    "579]:"
   ]
  },
  {
   "cell_type": "markdown",
   "id": "a0a52d14",
   "metadata": {},
   "source": [
    "581]:"
   ]
  },
  {
   "cell_type": "markdown",
   "id": "4c91f012",
   "metadata": {},
   "source": [
    "583]:\n",
    "Index Position"
   ]
  },
  {
   "cell_type": "code",
   "execution_count": null,
   "id": "ee39fedf",
   "metadata": {},
   "outputs": [],
   "source": [
    "586]:Out[574]: 3\n",
    "Out[575]: 2\n",
    "Out[576]: 1\n",
    "Out[577]: ('one', 'two', 'three', 'four', 'five', 'six', 'seven', 'eight')\n",
    "Out[578]: True\n",
    "Out[579]: False\n",
    "Three is present in the tuple  \n",
    "eleven is not present in the tuple  \n",
    "Out[586]: ('one', 'two', 'three', 'four', 'five', 'six', 'seven', 'eight')mytuple1  =('one', 'two', 'three', 'four', 'one', 'one', 'two', 'three')\n",
    "mytuple1 .count('one') # Number of times item \"one\" occurred in the tuple.\n",
    "mytuple1 .count('two') # Occurence of item 'two' in the tuple\n",
    "mytuple1 .count('four') #Occurence of item 'four' in the tuple\n",
    "mytuple\n",
    "'one' in mytuple # Check if 'one' exist in the list\n",
    "'ten' in mytuple # Check if 'ten' exist in the list\n",
    "if 'three' in mytuple: # Check if 'three' exist in the list\n",
    "    print('Three is present in the tuple' )\n",
    "else:\n",
    "    print('Three is not present in the tuple' )\n",
    "if 'eleven'  in mytuple:  # Check if 'eleven' exist in the list\n",
    "    print('eleven is present in the tuple' )\n",
    "else:\n",
    "    print('eleven is not present in the tuple' )\n",
    "mytuple\n",
    "3/25/2021 Python - Jupyter Notebook\n",
    "localhost:8889/notebooks/Documents/GitHub/Public/Python/Python.ipynb 33/118"
   ]
  },
  {
   "cell_type": "markdown",
   "id": "f40fc1d7",
   "metadata": {},
   "source": [
    "587]:"
   ]
  },
  {
   "cell_type": "markdown",
   "id": "5b8578b7",
   "metadata": {},
   "source": [
    "590]:"
   ]
  },
  {
   "cell_type": "markdown",
   "id": "8c1a368a",
   "metadata": {},
   "source": [
    "591]:"
   ]
  },
  {
   "cell_type": "markdown",
   "id": "366dad28",
   "metadata": {},
   "source": [
    "593]:\n",
    "Sorting"
   ]
  },
  {
   "cell_type": "markdown",
   "id": "1cdfeba5",
   "metadata": {},
   "source": [
    "594]:"
   ]
  },
  {
   "cell_type": "markdown",
   "id": "193ebdce",
   "metadata": {},
   "source": [
    "595]:"
   ]
  },
  {
   "cell_type": "markdown",
   "id": "de9ff5ad",
   "metadata": {},
   "source": [
    "596]:\n",
    "Sets\n",
    "1) Unordered & Unindexed collection of items.\n",
    "2) Set elements are unique. Duplicate elements are not allowed.\n",
    "3) Set elements are immutable (cannot be changed).\n",
    "4) Set itself is mutable. W e can add or remove items from it.\n",
    "Set Creation"
   ]
  },
  {
   "cell_type": "markdown",
   "id": "a1f42dd7",
   "metadata": {},
   "source": [
    "634]:"
   ]
  },
  {
   "cell_type": "code",
   "execution_count": null,
   "id": "2183a256",
   "metadata": {},
   "outputs": [],
   "source": [
    "635]:Out[587]: 0\n",
    "Out[590]: 4\n",
    "Out[591]: ('one', 'two', 'three', 'four', 'one', 'one', 'two', 'three')\n",
    "Out[593]: 0\n",
    "Out[595]: [6, 12, 43, 67, 67, 90, 99]\n",
    "Out[596]: [99, 90, 67, 67, 43, 12, 6]\n",
    "Out[634]: {1, 2, 3, 4, 5}\n",
    "Out[635]: 5mytuple.index('one') # Index of first element equal to 'one'\n",
    "mytuple.index('five') # Index of first element equal to 'five'\n",
    "mytuple1\n",
    "mytuple1 .index('one') # Index of first element equal to 'one'\n",
    "mytuple2  = (43,67,99,12,6,90,67)\n",
    "sorted(mytuple2 )  # Returns a new sorted list and doesn't change original tuple\n",
    "sorted(mytuple2 , reverse=True) # Sort in descending order\n",
    "myset = {1,2,3,4,5} # Set of numbers\n",
    "myset\n",
    "len(myset) #Length of the set\n",
    "3/25/2021 Python - Jupyter Notebook\n",
    "localhost:8889/notebooks/Documents/GitHub/Public/Python/Python.ipynb 34/118"
   ]
  },
  {
   "cell_type": "markdown",
   "id": "862b31e5",
   "metadata": {},
   "source": [
    "636]:"
   ]
  },
  {
   "cell_type": "markdown",
   "id": "a4941169",
   "metadata": {},
   "source": [
    "637]:"
   ]
  },
  {
   "cell_type": "markdown",
   "id": "096ce075",
   "metadata": {},
   "source": [
    "638]:"
   ]
  },
  {
   "cell_type": "markdown",
   "id": "4fc8abaf",
   "metadata": {},
   "source": [
    "639]:"
   ]
  },
  {
   "cell_type": "markdown",
   "id": "b7679fac",
   "metadata": {},
   "source": [
    "640]:"
   ]
  },
  {
   "cell_type": "markdown",
   "id": "e1c9a2bb",
   "metadata": {},
   "source": [
    "641]:"
   ]
  },
  {
   "cell_type": "code",
   "execution_count": null,
   "id": "5955f07d",
   "metadata": {},
   "outputs": [],
   "source": [
    "673]:\n",
    "Loop through a SetOut[636]: {1, 2, 3, 4, 5}\n",
    "Out[637]: {1.79, 2.08, 3.99, 4.56, 5.45}\n",
    "Out[638]: {'Asif', 'John', 'Tyrion'}\n",
    "Out[639]: {(11, 22, 32), 10, 20, 'Hola'}\n",
    "---------------------------------------------------------------------------  \n",
    "TypeError                                  Traceback (most recent call last)  \n",
    "<ipython-input-640-d23fdc3a319e>  in <module>  \n",
    "----> 1 myset3 = {10,20, \"Hola\", [11, 22, 32]} # set doesn't allow mutable item\n",
    "s like lists  \n",
    "     2 myset3 \n",
    "TypeError : unhashable type: 'list'  \n",
    "<class 'set'>  \n",
    "Out[673]: {'four', 'one', 'three', 'two'}my_set = {1,1,2,2,3,4,5,5}\n",
    "my_set                    # Duplicate elements are not allowed.\n",
    "myset1 = {1.79,2.08,3.99,4.56,5.45} # Set of float numbers\n",
    "myset1\n",
    "myset2 = {'Asif' , 'John' , 'Tyrion' } # Set of Strings\n",
    "myset2\n",
    "myset3 = {10,20, \"Hola\", (11, 22, 32)} # Mixed datatypes\n",
    "myset3\n",
    "myset3 = {10,20, \"Hola\", [11, 22, 32]} # set doesn't allow mutable items like lis\n",
    "myset3\n",
    "myset4 = set() # Create an empty set\n",
    "print(type(myset4))\n",
    "my_set1 = set(('one' , 'two' , 'three' , 'four'))\n",
    "my_set1\n",
    "3/25/2021 Python - Jupyter Notebook\n",
    "localhost:8889/notebooks/Documents/GitHub/Public/Python/Python.ipynb 35/118"
   ]
  },
  {
   "cell_type": "markdown",
   "id": "2d365612",
   "metadata": {},
   "source": [
    "776]:"
   ]
  },
  {
   "cell_type": "markdown",
   "id": "cd8afba0",
   "metadata": {},
   "source": [
    "777]:\n",
    "Set Membership"
   ]
  },
  {
   "cell_type": "markdown",
   "id": "5c0dc9e2",
   "metadata": {},
   "source": [
    "675]:"
   ]
  },
  {
   "cell_type": "markdown",
   "id": "6d4e6fba",
   "metadata": {},
   "source": [
    "676]:"
   ]
  },
  {
   "cell_type": "markdown",
   "id": "28bd38e7",
   "metadata": {},
   "source": [
    "677]:"
   ]
  },
  {
   "cell_type": "markdown",
   "id": "e1f0cffa",
   "metadata": {},
   "source": [
    "678]:"
   ]
  },
  {
   "cell_type": "code",
   "execution_count": null,
   "id": "b394e514",
   "metadata": {},
   "outputs": [],
   "source": [
    "679]:eight \n",
    "one \n",
    "seven \n",
    "three \n",
    "five \n",
    "two \n",
    "six \n",
    "four \n",
    "(0, 'eight')  \n",
    "(1, 'one')  \n",
    "(2, 'seven')  \n",
    "(3, 'three')  \n",
    "(4, 'five')  \n",
    "(5, 'two')  \n",
    "(6, 'six')  \n",
    "(7, 'four')  \n",
    "Out[675]: {'eight', 'five', 'four', 'one', 'seven', 'six', 'three', 'two'}\n",
    "Out[676]: True\n",
    "Out[677]: False\n",
    "Three is present in the set  \n",
    "eleven is not present in the set  myset = {'one', 'two', 'three', 'four', 'five', 'six', 'seven', 'eight'}\n",
    " \n",
    "for i in myset:\n",
    "    print(i)\n",
    "for i in enumerate (myset):\n",
    "    print(i)\n",
    "myset\n",
    "'one' in myset # Check if 'one' exist in the set\n",
    "'ten' in myset # Check if 'ten' exist in the set\n",
    "if 'three' in myset: # Check if 'three' exist in the set\n",
    "    print('Three is present in the set' )\n",
    "else:\n",
    "    print('Three is not present in the set' )\n",
    "if 'eleven'  in myset:  # Check if 'eleven' exist in the list\n",
    "    print('eleven is present in the set' )\n",
    "else:\n",
    "    print('eleven is not present in the set' )\n",
    "3/25/2021 Python - Jupyter Notebook\n",
    "localhost:8889/notebooks/Documents/GitHub/Public/Python/Python.ipynb 36/118Add & Remove Items"
   ]
  },
  {
   "cell_type": "markdown",
   "id": "6d55309e",
   "metadata": {},
   "source": [
    "680]:"
   ]
  },
  {
   "cell_type": "markdown",
   "id": "59143157",
   "metadata": {},
   "source": [
    "681]:"
   ]
  },
  {
   "cell_type": "markdown",
   "id": "6954306b",
   "metadata": {},
   "source": [
    "683]:"
   ]
  },
  {
   "cell_type": "markdown",
   "id": "5bf0b134",
   "metadata": {},
   "source": [
    "684]:"
   ]
  },
  {
   "cell_type": "code",
   "execution_count": null,
   "id": "318f9384",
   "metadata": {},
   "outputs": [],
   "source": [
    "685]:Out[680]: {'eight', 'five', 'four', 'one', 'seven', 'six', 'three', 'two'}\n",
    "Out[681]: {'NINE', 'eight', 'five', 'four', 'one', 'seven', 'six', 'three', 'two'}\n",
    "Out[683]: {'ELEVEN',  \n",
    " 'NINE',  \n",
    " 'TEN', \n",
    " 'TWELVE',  \n",
    " 'eight',  \n",
    " 'five',  \n",
    " 'four',  \n",
    " 'one', \n",
    " 'seven',  \n",
    " 'six', \n",
    " 'three',  \n",
    " 'two'}\n",
    "Out[684]: {'ELEVEN',  \n",
    " 'TEN', \n",
    " 'TWELVE',  \n",
    " 'eight',  \n",
    " 'five',  \n",
    " 'four',  \n",
    " 'one', \n",
    " 'seven',  \n",
    " 'six', \n",
    " 'three',  \n",
    " 'two'}\n",
    "Out[685]: {'ELEVEN',  \n",
    " 'TWELVE',  \n",
    " 'eight',  \n",
    " 'five',  \n",
    " 'four',  \n",
    " 'one', \n",
    " 'seven',  \n",
    " 'six', \n",
    " 'three',  \n",
    " 'two'}myset\n",
    "myset.add('NINE') # Add item to a set using add() method\n",
    "myset\n",
    "myset.update(['TEN' , 'ELEVEN'  , 'TWELVE' ])  # Add multiple item to a set using u\n",
    "myset\n",
    "myset.remove('NINE') # remove item in a set using remove() method\n",
    "myset\n",
    "myset.discard('TEN') # remove item from a set using discard() method\n",
    "myset\n",
    "3/25/2021 Python - Jupyter Notebook\n",
    "localhost:8889/notebooks/Documents/GitHub/Public/Python/Python.ipynb 37/118"
   ]
  },
  {
   "cell_type": "markdown",
   "id": "469faece",
   "metadata": {},
   "source": [
    "688]:"
   ]
  },
  {
   "cell_type": "markdown",
   "id": "57c3372e",
   "metadata": {},
   "source": [
    "689]:\n",
    "Copy Set"
   ]
  },
  {
   "cell_type": "markdown",
   "id": "bc45bdf8",
   "metadata": {},
   "source": [
    "705]:"
   ]
  },
  {
   "cell_type": "markdown",
   "id": "eef24303",
   "metadata": {},
   "source": [
    "706]:"
   ]
  },
  {
   "cell_type": "markdown",
   "id": "d252474f",
   "metadata": {},
   "source": [
    "707]:"
   ]
  },
  {
   "cell_type": "markdown",
   "id": "c6dd5243",
   "metadata": {},
   "source": [
    "708]:"
   ]
  },
  {
   "cell_type": "markdown",
   "id": "14926209",
   "metadata": {},
   "source": [
    "710]:"
   ]
  },
  {
   "cell_type": "markdown",
   "id": "97a12a9f",
   "metadata": {},
   "source": [
    "711]:"
   ]
  },
  {
   "cell_type": "markdown",
   "id": "536fda5b",
   "metadata": {},
   "source": [
    "712]:"
   ]
  },
  {
   "cell_type": "code",
   "execution_count": null,
   "id": "d462b6bc",
   "metadata": {},
   "outputs": [],
   "source": [
    "713]:Out[688]: set()\n",
    "---------------------------------------------------------------------------  \n",
    "NameError                                  Traceback (most recent call last)  \n",
    "<ipython-input-689-0912ea1b8932>  in <module>  \n",
    "      1 del myset \n",
    "----> 2 myset \n",
    " \n",
    "NameError : name 'myset' is not defined  \n",
    " \n",
    "Out[705]: {'eight', 'five', 'four', 'one', 'seven', 'six', 'three', 'two'}\n",
    "Out[706]: {'eight', 'five', 'four', 'one', 'seven', 'six', 'three', 'two'}\n",
    "Out[707]: (1537349033320, 1537349033320)\n",
    "Out[708]: {'eight', 'five', 'four', 'one', 'seven', 'six', 'three', 'two'}\n",
    "Out[710]: 1537352902024\n",
    "Out[711]: {'eight', 'five', 'four', 'nine', 'one', 'seven', 'six', 'three', 'two'}\n",
    "Out[712]: {'eight', 'five', 'four', 'nine', 'one', 'seven', 'six', 'three', 'two'}\n",
    "Out[713]: {'eight', 'five', 'four', 'one', 'seven', 'six', 'three', 'two'}myset.clear() # Delete all items in a set\n",
    "myset\n",
    "del myset # Delete the set object\n",
    "myset\n",
    "myset = {'one', 'two', 'three', 'four', 'five', 'six', 'seven', 'eight'}\n",
    "myset\n",
    "myset1 = myset  # Create a new reference \"myset1\" \n",
    "myset1\n",
    "id(myset) , id(myset1)  # The address of both myset & myset1 will be the same as \n",
    "my_set = myset.copy() # Create a copy of the list\n",
    "my_set\n",
    "id(my_set) # The address of my_set will be different from myset because my_set is\n",
    "myset.add('nine')\n",
    "myset\n",
    "myset1 # myset1 will be also impacted as it is pointing to the same Set\n",
    "my_set # Copy of the set won't be impacted due to changes made on the original Se\n",
    "3/25/2021 Python - Jupyter Notebook\n",
    "localhost:8889/notebooks/Documents/GitHub/Public/Python/Python.ipynb 38/118Set Operation\n",
    "Union"
   ]
  },
  {
   "cell_type": "markdown",
   "id": "46d13f1b",
   "metadata": {},
   "source": [
    "757]:"
   ]
  },
  {
   "cell_type": "markdown",
   "id": "9b3a0eee",
   "metadata": {},
   "source": [
    "758]:"
   ]
  },
  {
   "cell_type": "markdown",
   "id": "0cd4cd1b",
   "metadata": {},
   "source": [
    "759]:"
   ]
  },
  {
   "cell_type": "markdown",
   "id": "9a452c48",
   "metadata": {},
   "source": [
    "760]:"
   ]
  },
  {
   "cell_type": "markdown",
   "id": "45d161bb",
   "metadata": {},
   "source": [
    "761]:\n",
    "Intersection"
   ]
  },
  {
   "cell_type": "code",
   "execution_count": null,
   "id": "6268f139",
   "metadata": {},
   "outputs": [],
   "source": [
    "762]:Out[758]: {1, 2, 3, 4, 5, 6, 7, 8}\n",
    "Out[759]: {1, 2, 3, 4, 5, 6, 7, 8}\n",
    "Out[760]: {1, 2, 3, 4, 5, 6, 7, 8, 9, 10}\n",
    "Out[761]: {1, 2, 3, 4, 5, 6, 7, 8, 9, 10}A = {1,2,3,4,5}\n",
    "B = {4,5,6,7,8}\n",
    "C = {8,9,10}\n",
    "A | B  # Union of A and B (All elements from both sets. NO DUPLICATES)\n",
    "A.union(B) # Union of A and B\n",
    "A.union(B, C)  # Union of A, B and C.\n",
    "\"\"\"\n",
    "Updates the set calling the update() method with union of A , B & C. \n",
    " \n",
    "For below example Set A will be updated with union of A,B & C.\n",
    "\"\"\"\n",
    "A.update(B,C)\n",
    "A\n",
    "A = {1,2,3,4,5}\n",
    "B = {4,5,6,7,8}\n",
    "3/25/2021 Python - Jupyter Notebook\n",
    "localhost:8889/notebooks/Documents/GitHub/Public/Python/Python.ipynb 39/118"
   ]
  },
  {
   "cell_type": "markdown",
   "id": "6bb34328",
   "metadata": {},
   "source": [
    "763]:"
   ]
  },
  {
   "cell_type": "markdown",
   "id": "b26b25eb",
   "metadata": {},
   "source": [
    "764]:"
   ]
  },
  {
   "cell_type": "markdown",
   "id": "4905b04c",
   "metadata": {},
   "source": [
    "765]:\n",
    "Difference"
   ]
  },
  {
   "cell_type": "markdown",
   "id": "d330ad13",
   "metadata": {},
   "source": [
    "766]:"
   ]
  },
  {
   "cell_type": "markdown",
   "id": "d0809686",
   "metadata": {},
   "source": [
    "767]:"
   ]
  },
  {
   "cell_type": "code",
   "execution_count": null,
   "id": "c52b8720",
   "metadata": {},
   "outputs": [],
   "source": [
    "768]:Out[763]: {4, 5}\n",
    "  File \"<ipython-input-764-f01b60f4d31d>\" , line 1 \n",
    "    A.intersection(B)  Intersection of A and B  \n",
    "                                  ^  \n",
    "SyntaxError : invalid syntax  \n",
    " \n",
    " \n",
    "Out[765]: {4, 5}\n",
    "Out[767]: {1, 2, 3}\n",
    "Out[768]: {1, 2, 3}A & B  # Intersection of A and B (Common items in both sets)\n",
    "A.intersection (B)  Intersection  of A and B\n",
    "\"\"\"\n",
    "Updates the set calling the intersection_update() method with the intersection of\n",
    " \n",
    "For below example Set A will be updated  with the intersection of A & B.\n",
    "\"\"\"\n",
    "A.intersection_update (B)\n",
    "A\n",
    "A = {1,2,3,4,5}\n",
    "B = {4,5,6,7,8}\n",
    "A - B  # set of elements that are only in A but not in B\n",
    "A.difference (B) # Difference of sets\n",
    "3/25/2021 Python - Jupyter Notebook\n",
    "localhost:8889/notebooks/Documents/GitHub/Public/Python/Python.ipynb 40/118"
   ]
  },
  {
   "cell_type": "markdown",
   "id": "970e456f",
   "metadata": {},
   "source": [
    "769]:"
   ]
  },
  {
   "cell_type": "markdown",
   "id": "d92f2248",
   "metadata": {},
   "source": [
    "770]:"
   ]
  },
  {
   "cell_type": "markdown",
   "id": "134ccd31",
   "metadata": {},
   "source": [
    "771]:\n",
    "Symmetric Difference"
   ]
  },
  {
   "cell_type": "markdown",
   "id": "d0ccd42d",
   "metadata": {},
   "source": [
    "772]:"
   ]
  },
  {
   "cell_type": "markdown",
   "id": "06ca124f",
   "metadata": {},
   "source": [
    "773]:"
   ]
  },
  {
   "cell_type": "code",
   "execution_count": null,
   "id": "f91b4495",
   "metadata": {},
   "outputs": [],
   "source": [
    "774]:Out[769]: {6, 7, 8}\n",
    "Out[770]: {6, 7, 8}\n",
    "Out[771]: {6, 7, 8}\n",
    "Out[773]: {1, 2, 3, 6, 7, 8}\n",
    "Out[774]: {1, 2, 3, 6, 7, 8}B- A  # set of elements that are only in B but not in A\n",
    "B.difference (A)\n",
    "\"\"\"\n",
    "Updates the set calling the difference_update() method with the difference of set\n",
    " \n",
    "For below example Set B will be updated  with the difference of B & A.\n",
    "\"\"\"\n",
    "B.difference_update (A)\n",
    "B\n",
    "A = {1,2,3,4,5}\n",
    "B = {4,5,6,7,8}\n",
    "A ^ B # Symmetric difference (Set of elements in A and B but not in both. \"EXCLUD\n",
    "A.symmetric_difference (B)  # Symmetric difference of sets\n",
    "3/25/2021 Python - Jupyter Notebook\n",
    "localhost:8889/notebooks/Documents/GitHub/Public/Python/Python.ipynb 41/118"
   ]
  },
  {
   "cell_type": "markdown",
   "id": "d26349af",
   "metadata": {},
   "source": [
    "775]:\n",
    "Subset , Superset & Disjoint"
   ]
  },
  {
   "cell_type": "markdown",
   "id": "4c95df50",
   "metadata": {},
   "source": [
    "784]:"
   ]
  },
  {
   "cell_type": "markdown",
   "id": "71034408",
   "metadata": {},
   "source": [
    "785]:"
   ]
  },
  {
   "cell_type": "markdown",
   "id": "a1b59d48",
   "metadata": {},
   "source": [
    "786]:"
   ]
  },
  {
   "cell_type": "markdown",
   "id": "6cada0b6",
   "metadata": {},
   "source": [
    "787]:"
   ]
  },
  {
   "cell_type": "code",
   "execution_count": null,
   "id": "464d38c3",
   "metadata": {},
   "outputs": [],
   "source": [
    "788]:\n",
    "Other Builtin functionsOut[775]: {1, 2, 3, 6, 7, 8}\n",
    "Out[785]: True\n",
    "Out[786]: True\n",
    "Out[787]: True\n",
    "Out[788]: False\"\"\"\n",
    "Updates the set calling the symmetric_difference_update() method with the symmetr\n",
    " \n",
    "For below example Set A will be updated  with the symmetric difference of A & B.\n",
    "\"\"\"\n",
    " \n",
    "A.symmetric_difference_update (B)\n",
    "A\n",
    "A = {1,2,3,4,5,6,7,8,9}\n",
    "B = {3,4,5,6,7,8}\n",
    "C = {10,20,30,40}\n",
    "B.issubset (A) # Set B is said to be the subset of set A if all elements of B are \n",
    "A.issuperset (B) # Set A is said to be the superset of set B if all elements of B \n",
    "C.isdisjoint (A) # Two sets are said to be disjoint sets if they have no common el\n",
    "B.isdisjoint (A) # Two sets are said to be disjoint sets if they have no common el\n",
    "3/25/2021 Python - Jupyter Notebook\n",
    "localhost:8889/notebooks/Documents/GitHub/Public/Python/Python.ipynb 42/118"
   ]
  },
  {
   "cell_type": "markdown",
   "id": "e175489c",
   "metadata": {},
   "source": [
    "789]:"
   ]
  },
  {
   "cell_type": "markdown",
   "id": "5688d166",
   "metadata": {},
   "source": [
    "790]:"
   ]
  },
  {
   "cell_type": "markdown",
   "id": "4a8a3532",
   "metadata": {},
   "source": [
    "791]:"
   ]
  },
  {
   "cell_type": "markdown",
   "id": "1f059196",
   "metadata": {},
   "source": [
    "792]:"
   ]
  },
  {
   "cell_type": "markdown",
   "id": "fff6919a",
   "metadata": {},
   "source": [
    "793]:"
   ]
  },
  {
   "cell_type": "markdown",
   "id": "61fc59fd",
   "metadata": {},
   "source": [
    "795]:"
   ]
  },
  {
   "cell_type": "markdown",
   "id": "946d3e47",
   "metadata": {},
   "source": [
    "798]:"
   ]
  },
  {
   "cell_type": "code",
   "execution_count": null,
   "id": "9cfdbf1f",
   "metadata": {},
   "outputs": [],
   "source": [
    "799]:\n",
    "Dictionary\n",
    "Dictionary is a mutable data type in Python.\n",
    "A python dictionary is a collection of key and value pairs separated by a colon (:) & enclosed\n",
    "in curly braces {}.\n",
    "Keys must be unique in a dictionary , duplicate values are allowed.Out[789]: {1, 2, 3, 4, 5, 6, 7, 8, 9}\n",
    "Out[790]: 45\n",
    "Out[791]: 9\n",
    "Out[792]: 1\n",
    "Out[793]: 9\n",
    "Out[795]: [(0, 1), (1, 2), (2, 3), (3, 4), (4, 5), (5, 6), (6, 7), (7, 8), (8, 9)]\n",
    "Out[798]: [9, 8, 7, 6, 5, 4, 3, 2, 1]\n",
    "Out[799]: [1, 2, 3, 4, 5, 6, 7, 8, 9]A\n",
    "sum(A)\n",
    "max(A)\n",
    "min(A)\n",
    "len(A)\n",
    "list(enumerate (A))\n",
    "D= sorted(A,reverse=True)\n",
    "D\n",
    "sorted(D)\n",
    "3/25/2021 Python - Jupyter Notebook\n",
    "localhost:8889/notebooks/Documents/GitHub/Public/Python/Python.ipynb 43/118\n",
    "Create Dictionary"
   ]
  },
  {
   "cell_type": "markdown",
   "id": "e47b3d4d",
   "metadata": {},
   "source": [
    "947]:"
   ]
  },
  {
   "cell_type": "markdown",
   "id": "ff8898b4",
   "metadata": {},
   "source": [
    "948]:"
   ]
  },
  {
   "cell_type": "markdown",
   "id": "97ba4f86",
   "metadata": {},
   "source": [
    "949]:"
   ]
  },
  {
   "cell_type": "code",
   "execution_count": null,
   "id": "9d6877dd",
   "metadata": {},
   "outputs": [],
   "source": [
    "950]:Out[947]: {}\n",
    "Out[948]: {}\n",
    "Out[949]: {1: 'one', 2: 'two', 3: 'three'}\n",
    "Out[950]: {1: 'one', 2: 'two', 3: 'three'}mydict = dict() # empty dictionary\n",
    "mydict\n",
    "mydict = {}   # empty dictionary\n",
    "mydict\n",
    "mydict = {1:'one' , 2:'two' , 3:'three'} # dictionary with integer keys\n",
    "mydict\n",
    "mydict = dict({1:'one' , 2:'two' , 3:'three'}) # Create dictionary using dict()\n",
    "mydict\n",
    "3/25/2021 Python - Jupyter Notebook\n",
    "localhost:8889/notebooks/Documents/GitHub/Public/Python/Python.ipynb 44/118"
   ]
  },
  {
   "cell_type": "markdown",
   "id": "c3656123",
   "metadata": {},
   "source": [
    "951]:"
   ]
  },
  {
   "cell_type": "markdown",
   "id": "b40e0bdb",
   "metadata": {},
   "source": [
    "318]:"
   ]
  },
  {
   "cell_type": "markdown",
   "id": "378a5cd3",
   "metadata": {},
   "source": [
    "319]:"
   ]
  },
  {
   "cell_type": "markdown",
   "id": "77d76bf5",
   "metadata": {},
   "source": [
    "320]:"
   ]
  },
  {
   "cell_type": "markdown",
   "id": "94779dc0",
   "metadata": {},
   "source": [
    "321]:"
   ]
  },
  {
   "cell_type": "markdown",
   "id": "94c54e55",
   "metadata": {},
   "source": [
    "955]:"
   ]
  },
  {
   "cell_type": "markdown",
   "id": "d1b518e4",
   "metadata": {},
   "source": [
    "956]:"
   ]
  },
  {
   "cell_type": "markdown",
   "id": "157e3e74",
   "metadata": {},
   "source": [
    "1]:"
   ]
  },
  {
   "cell_type": "markdown",
   "id": "b8ff3839",
   "metadata": {},
   "source": [
    "957]:"
   ]
  },
  {
   "cell_type": "code",
   "execution_count": null,
   "id": "0e4bb67b",
   "metadata": {},
   "outputs": [],
   "source": [
    "958]:Out[951]: {'A': 'one', 'B': 'two', 'C': 'three'}\n",
    "Out[318]: {1: 'one', 'A': 'two', 3: 'three'}\n",
    "Out[319]: dict_keys([1, 'A', 3])\n",
    "Out[320]: dict_values(['one', 'two', 'three'])\n",
    "Out[321]: dict_items([(1, 'one'), ('A', 'two'), (3, 'three')])\n",
    "Out[955]: {1: 'one', 2: 'two', 'A': ['asif', 'john', 'Maria']}\n",
    "Out[956]: {1: 'one',  \n",
    " 2: 'two',  \n",
    " 'A': ['asif', 'john', 'Maria'],  \n",
    " 'B': ('Bat', 'cat', 'hat')}\n",
    "Out[1]: {1: 'one',  \n",
    " 2: 'two',  \n",
    " 'A': {'Name': 'asif', 'Age': 20},  \n",
    " 'B': ('Bat', 'cat', 'hat')}\n",
    "Out[957]: {'c': None, 'd': None, 'a': None, 'b': None}\n",
    "Out[958]: {'c': 10, 'd': 10, 'a': 10, 'b': 10}mydict = {'A':'one' , 'B':'two' , 'C':'three'} # dictionary with character keys\n",
    "mydict\n",
    "mydict = {1:'one' , 'A':'two' , 3:'three'} # dictionary with mixed keys\n",
    "mydict\n",
    "mydict.keys() # Return Dictionary Keys using keys() method\n",
    "mydict.values() # Return Dictionary Values using values() method\n",
    "mydict.items() # Access each key-value pair within a dictionary \n",
    "mydict = {1:'one' , 2:'two' , 'A':['asif' , 'john' , 'Maria']} # dictionary with \n",
    "mydict\n",
    "mydict = {1:'one' , 2:'two' , 'A':['asif' , 'john' , 'Maria'],  'B':('Bat' , 'cat\n",
    "mydict\n",
    "mydict = {1:'one' , 2:'two' , 'A':{'Name':'asif' , 'Age' :20},  'B':('Bat' , 'cat\n",
    "mydict\n",
    "keys = {'a' , 'b' , 'c' , 'd'}\n",
    "mydict3 = dict.fromkeys (keys)   # Create a dictionary from a sequence of keys\n",
    "mydict3\n",
    "keys = {'a' , 'b' , 'c' , 'd'}\n",
    "value = 10\n",
    "mydict3 = dict.fromkeys (keys , value)  # Create a dictionary from a sequence of k\n",
    "mydict3\n",
    "3/25/2021 Python - Jupyter Notebook\n",
    "localhost:8889/notebooks/Documents/GitHub/Public/Python/Python.ipynb 45/118"
   ]
  },
  {
   "cell_type": "markdown",
   "id": "383efc70",
   "metadata": {},
   "source": [
    "959]:"
   ]
  },
  {
   "cell_type": "markdown",
   "id": "e29c7000",
   "metadata": {},
   "source": [
    "960]:\n",
    "Accessing Items"
   ]
  },
  {
   "cell_type": "markdown",
   "id": "eec2c460",
   "metadata": {},
   "source": [
    "961]:"
   ]
  },
  {
   "cell_type": "markdown",
   "id": "d75fd657",
   "metadata": {},
   "source": [
    "962]:"
   ]
  },
  {
   "cell_type": "markdown",
   "id": "3e882747",
   "metadata": {},
   "source": [
    "963]:"
   ]
  },
  {
   "cell_type": "markdown",
   "id": "40545cfa",
   "metadata": {},
   "source": [
    "964]:"
   ]
  },
  {
   "cell_type": "markdown",
   "id": "b5e6a689",
   "metadata": {},
   "source": [
    "965]:"
   ]
  },
  {
   "cell_type": "markdown",
   "id": "96e77a9f",
   "metadata": {},
   "source": [
    "966]:\n",
    "Add, Remove & Change Items"
   ]
  },
  {
   "cell_type": "code",
   "execution_count": null,
   "id": "fb49aca0",
   "metadata": {},
   "outputs": [],
   "source": [
    "967]:Out[959]: {'c': [10, 20, 30], 'd': [10, 20, 30], 'a': [10, 20, 30], 'b': [10, 20, 30]}\n",
    "Out[960]: {'c': [10, 20, 30, 40],  \n",
    " 'd': [10, 20, 30, 40],  \n",
    " 'a': [10, 20, 30, 40],  \n",
    " 'b': [10, 20, 30, 40]}\n",
    "Out[961]: {1: 'one', 2: 'two', 3: 'three', 4: 'four'}\n",
    "Out[962]: 'one'\n",
    "Out[963]: 'one'\n",
    "Out[964]: {'Name': 'Asif', 'ID': 74123, 'DOB': 1991, 'job': 'Analyst'}\n",
    "Out[965]: 'Asif'\n",
    "Out[966]: 'Analyst'\n",
    "Out[967]: {'Name': 'Asif', 'ID': 12345, 'DOB': 1991, 'Address': 'Hilsinki'}keys = {'a' , 'b' , 'c' , 'd'}\n",
    "value = [10,20,30]\n",
    "mydict3 = dict.fromkeys (keys , value)  # Create a dictionary from a sequence of k\n",
    "mydict3\n",
    "value.append(40)\n",
    "mydict3\n",
    "mydict = {1:'one' , 2:'two' , 3:'three' , 4:'four'}\n",
    "mydict\n",
    "mydict[1] # Access item using key\n",
    "mydict.get(1) # Access item using get() method\n",
    "mydict1 = {'Name':'Asif' , 'ID': 74123 , 'DOB': 1991 , 'job' :'Analyst' }\n",
    "mydict1\n",
    "mydict1['Name']  # Access item using key\n",
    "mydict1.get('job')  # Access item using get() method\n",
    "mydict1 = {'Name':'Asif' , 'ID': 12345 , 'DOB': 1991 , 'Address'  : 'Hilsinki' }\n",
    "mydict1\n",
    "3/25/2021 Python - Jupyter Notebook\n",
    "localhost:8889/notebooks/Documents/GitHub/Public/Python/Python.ipynb 46/118"
   ]
  },
  {
   "cell_type": "markdown",
   "id": "ee25334c",
   "metadata": {},
   "source": [
    "968]:"
   ]
  },
  {
   "cell_type": "markdown",
   "id": "fb4b4a45",
   "metadata": {},
   "source": [
    "969]:"
   ]
  },
  {
   "cell_type": "markdown",
   "id": "7787d2ea",
   "metadata": {},
   "source": [
    "970]:"
   ]
  },
  {
   "cell_type": "markdown",
   "id": "d488f9d4",
   "metadata": {},
   "source": [
    "971]:"
   ]
  },
  {
   "cell_type": "markdown",
   "id": "8f47b693",
   "metadata": {},
   "source": [
    "972]:"
   ]
  },
  {
   "cell_type": "markdown",
   "id": "9f71c816",
   "metadata": {},
   "source": [
    "973]:"
   ]
  },
  {
   "cell_type": "markdown",
   "id": "6245229e",
   "metadata": {},
   "source": [
    "974]:"
   ]
  },
  {
   "cell_type": "markdown",
   "id": "6d5769b2",
   "metadata": {},
   "source": [
    "975]:"
   ]
  },
  {
   "cell_type": "code",
   "execution_count": null,
   "id": "b2d9117f",
   "metadata": {},
   "outputs": [],
   "source": [
    "976]:Out[968]: {'Name': 'Asif', 'ID': 12345, 'DOB': 1992, 'Address': 'Delhi'}\n",
    "Out[969]: {'Name': 'Asif', 'ID': 12345, 'DOB': 1995, 'Address': 'Delhi'}\n",
    "Out[970]: {'Name': 'Asif',  \n",
    " 'ID': 12345,  \n",
    " 'DOB': 1995,  \n",
    " 'Address': 'Delhi',  \n",
    " 'Job': 'Analyst'}\n",
    "Out[971]: {'Name': 'Asif', 'ID': 12345, 'DOB': 1995, 'Address': 'Delhi'}\n",
    "Out[972]: ('Address', 'Delhi')\n",
    "Out[973]: {'Name': 'Asif', 'ID': 12345, 'DOB': 1995}\n",
    "Out[974]: {'Name': 'Asif', 'DOB': 1995}\n",
    "Out[975]: {}\n",
    "---------------------------------------------------------------------------  \n",
    "NameError                                  Traceback (most recent call last)  \n",
    "<ipython-input-976-da2fba4eca0f>  in <module>  \n",
    "      1 del mydict1 # Delete the dictionary object  \n",
    "----> 2 mydict1 \n",
    " \n",
    "NameError : name 'mydict1' is not defined  \n",
    " mydict1['DOB'] = 1992  # Changing Dictionary Items\n",
    "mydict1['Address' ] = 'Delhi'\n",
    "mydict1\n",
    "dict1 = {'DOB':1995}\n",
    "mydict1.update(dict1)\n",
    "mydict1\n",
    "mydict1['Job'] = 'Analyst'  # Adding items in the dictionary\n",
    "mydict1\n",
    "mydict1.pop('Job') # Removing items in the dictionary using Pop method\n",
    "mydict1\n",
    "mydict1.popitem() # A random item is removed\n",
    "mydict1\n",
    "del[mydict1['ID']] # Removing item using del method\n",
    "mydict1\n",
    "mydict1.clear() # Delete all items of the dictionary using clear method\n",
    "mydict1\n",
    "del mydict1 # Delete the dictionary object\n",
    "mydict1\n",
    "3/25/2021 Python - Jupyter Notebook\n",
    "localhost:8889/notebooks/Documents/GitHub/Public/Python/Python.ipynb 47/118Copy Dictionary"
   ]
  },
  {
   "cell_type": "markdown",
   "id": "5bf40cbc",
   "metadata": {},
   "source": [
    "977]:"
   ]
  },
  {
   "cell_type": "markdown",
   "id": "3c653b09",
   "metadata": {},
   "source": [
    "978]:"
   ]
  },
  {
   "cell_type": "markdown",
   "id": "a9bdc59f",
   "metadata": {},
   "source": [
    "979]:"
   ]
  },
  {
   "cell_type": "markdown",
   "id": "5824dc0a",
   "metadata": {},
   "source": [
    "980]:"
   ]
  },
  {
   "cell_type": "markdown",
   "id": "8b2bc073",
   "metadata": {},
   "source": [
    "981]:"
   ]
  },
  {
   "cell_type": "markdown",
   "id": "06e87a52",
   "metadata": {},
   "source": [
    "982]:"
   ]
  },
  {
   "cell_type": "markdown",
   "id": "9e4820c0",
   "metadata": {},
   "source": [
    "983]:"
   ]
  },
  {
   "cell_type": "markdown",
   "id": "e8d222c7",
   "metadata": {},
   "source": [
    "984]:"
   ]
  },
  {
   "cell_type": "markdown",
   "id": "32c9e583",
   "metadata": {},
   "source": [
    "985]:\n",
    "Loop through a Dictionary"
   ]
  },
  {
   "cell_type": "markdown",
   "id": "12ee58d3",
   "metadata": {},
   "source": [
    "986]:"
   ]
  },
  {
   "cell_type": "code",
   "execution_count": null,
   "id": "f251e253",
   "metadata": {},
   "outputs": [],
   "source": [
    "987]:Out[977]: {'Name': 'Asif', 'ID': 12345, 'DOB': 1991, 'Address': 'Hilsinki'}\n",
    "Out[979]: (1537346312776, 1537346312776)\n",
    "Out[981]: 1537345875784\n",
    "Out[983]: {'Name': 'Asif', 'ID': 12345, 'DOB': 1991, 'Address': 'Mumbai'}\n",
    "Out[984]: {'Name': 'Asif', 'ID': 12345, 'DOB': 1991, 'Address': 'Mumbai'}\n",
    "Out[985]: {'Name': 'Asif', 'ID': 12345, 'DOB': 1991, 'Address': 'Hilsinki'}\n",
    "Out[986]: {'Name': 'Asif',  \n",
    " 'ID': 12345,  \n",
    " 'DOB': 1991,  \n",
    " 'Address': 'Hilsinki',  \n",
    " 'Job': 'Analyst'}\n",
    "Name : Asif  \n",
    "ID : 12345  \n",
    "DOB : 1991  \n",
    "Address : Hilsinki  \n",
    "Job : Analyst  mydict = {'Name':'Asif' , 'ID': 12345 , 'DOB': 1991 , 'Address'  : 'Hilsinki' }\n",
    "mydict\n",
    "mydict1 = mydict # Create a new reference \"mydict1\" \n",
    "id(mydict) , id(mydict1) # The address of both mydict & mydict1 will be the same \n",
    "mydict2 = mydict.copy() # Create a copy of the dictionary\n",
    "id(mydict2) # The address of mydict2 will be different from mydict because mydict\n",
    "mydict['Address' ] = 'Mumbai'\n",
    "mydict\n",
    "mydict1 # mydict1 will be also impacted as it is pointing to the same dictionary\n",
    "mydict2 # Copy of list won't be impacted due to the changes made in the original \n",
    "mydict1 = {'Name':'Asif' , 'ID': 12345 , 'DOB': 1991 , 'Address'  : 'Hilsinki'  , '\n",
    "mydict1\n",
    "for i in mydict1:\n",
    "    print(i , ':' , mydict1[i]) # Key & value pair\n",
    "3/25/2021 Python - Jupyter Notebook\n",
    "localhost:8889/notebooks/Documents/GitHub/Public/Python/Python.ipynb 48/118"
   ]
  },
  {
   "cell_type": "markdown",
   "id": "e3139dfc",
   "metadata": {},
   "source": [
    "988]:\n",
    "Dictionary Membership"
   ]
  },
  {
   "cell_type": "markdown",
   "id": "95ef2c69",
   "metadata": {},
   "source": [
    "989]:"
   ]
  },
  {
   "cell_type": "markdown",
   "id": "047ce846",
   "metadata": {},
   "source": [
    "990]:"
   ]
  },
  {
   "cell_type": "markdown",
   "id": "f696c4f8",
   "metadata": {},
   "source": [
    "991]:"
   ]
  },
  {
   "cell_type": "markdown",
   "id": "7d9a5214",
   "metadata": {},
   "source": [
    "992]:"
   ]
  },
  {
   "cell_type": "code",
   "execution_count": null,
   "id": "bc29ce85",
   "metadata": {},
   "outputs": [],
   "source": [
    "993]:\n",
    "All / Any\n",
    "The all() method returns:\n",
    "True - If all all keys of the dictionary are true\n",
    "False  - If any key of the dictionary is false\n",
    "The any()  function returns T rue if any key of the dictionary is T rue. If not, any() returns False."
   ]
  },
  {
   "cell_type": "markdown",
   "id": "4dcfdf0e",
   "metadata": {},
   "source": [
    "995]:"
   ]
  },
  {
   "cell_type": "code",
   "execution_count": null,
   "id": "3b0c4875",
   "metadata": {},
   "outputs": [],
   "source": [
    "996]:Asif \n",
    "12345 \n",
    "1991 \n",
    "Hilsinki  \n",
    "Analyst \n",
    "Out[989]: {'Name': 'Asif', 'ID': 12345, 'DOB': 1991, 'Job': 'Analyst'}\n",
    "Out[990]: True\n",
    "Out[991]: False\n",
    "Out[992]: True\n",
    "Out[993]: False\n",
    "Out[995]: {'Name': 'Asif', 'ID': 12345, 'DOB': 1991, 'Job': 'Analyst'}\n",
    "Out[996]: Truefor i in mydict1:\n",
    "    print(mydict1[i]) # Dictionary items\n",
    "mydict1 = {'Name':'Asif' , 'ID': 12345 , 'DOB': 1991 , 'Job': 'Analyst' }\n",
    "mydict1\n",
    "'Name' in mydict1 # Test if a key is in a dictionary or not.\n",
    "'Asif' in mydict1  # Membership test can be only done for keys.\n",
    "'ID' in mydict1\n",
    "'Address'  in mydict1\n",
    "mydict1 = {'Name':'Asif' , 'ID': 12345 , 'DOB': 1991 , 'Job': 'Analyst' }\n",
    "mydict1\n",
    "all(mydict1) # Will Return false as one value is false (Value 0)\n",
    "3/25/2021 Python - Jupyter Notebook\n",
    "localhost:8889/notebooks/Documents/GitHub/Public/Python/Python.ipynb 49/118"
   ]
  },
  {
   "cell_type": "markdown",
   "id": "3dc73e1f",
   "metadata": {},
   "source": [
    "997]:"
   ]
  },
  {
   "cell_type": "markdown",
   "id": "01e65fb0",
   "metadata": {},
   "source": [
    "998]:"
   ]
  },
  {
   "cell_type": "markdown",
   "id": "3698e27e",
   "metadata": {},
   "source": [
    "999]:"
   ]
  },
  {
   "cell_type": "markdown",
   "id": "e41549c8",
   "metadata": {},
   "source": [
    "1000]:\n",
    "Dictionary Comprehension"
   ]
  },
  {
   "cell_type": "markdown",
   "id": "560c9f1e",
   "metadata": {},
   "source": [
    "323]:"
   ]
  },
  {
   "cell_type": "markdown",
   "id": "a4224f2a",
   "metadata": {},
   "source": [
    "327]:"
   ]
  },
  {
   "cell_type": "code",
   "execution_count": null,
   "id": "27854bc9",
   "metadata": {},
   "outputs": [],
   "source": [
    "329]:Out[997]: True\n",
    "Out[998]: {'Name': 'Asif', 'ID': 12345, 'DOB': 1991, 'Job': 'Analyst', 0: 'test1'}\n",
    "Out[999]: False\n",
    "Out[1000]: True\n",
    "Out[323]: {0: 0, 1: 2, 2: 4, 3: 6, 4: 8, 5: 10, 6: 12, 7: 14, 8: 16, 9: 18}\n",
    "Out[327]: {0: 0, 1: 1, 2: 4, 3: 9, 4: 16, 5: 25, 6: 36, 7: 49, 8: 64, 9: 81}\n",
    "Out[329]: {'one': 1, 'two': 2, 'three': 3, 'four': 4, 'five': 5}any(mydict1)  # Will Return True as we have items in the dictionary with True val\n",
    "mydict1[0] = 'test1'\n",
    "mydict1\n",
    "all(mydict1) # Returns false as one value is false\n",
    "any(mydict1)  # Will Return True as we have items in the dictionary with True val\n",
    "double = {i:i*2 for i in range(10)} #double each value using dict comprehension\n",
    "double\n",
    "square = {i:i**2 for i in range(10)}\n",
    "square\n",
    "key = ['one' , 'two' , 'three' , 'four' , 'five']\n",
    "value = [1,2,3,4,5]\n",
    " \n",
    "mydict = {k:v for (k,v) in zip(key,value)} # using dict comprehension to create d\n",
    "mydict\n",
    "3/25/2021 Python - Jupyter Notebook\n",
    "localhost:8889/notebooks/Documents/GitHub/Public/Python/Python.ipynb 50/118"
   ]
  },
  {
   "cell_type": "markdown",
   "id": "a7d5f5fe",
   "metadata": {},
   "source": [
    "332]:"
   ]
  },
  {
   "cell_type": "code",
   "execution_count": null,
   "id": "bbd854e9",
   "metadata": {},
   "outputs": [],
   "source": [
    "334]:Out[332]: {'a': 1.0, 'b': 2.0, 'c': 3.0, 'd': 4.0, 'e': 5.0}\n",
    "Out[334]: {0: 'N',  \n",
    " 1: 'a',  \n",
    " 2: 't',  \n",
    " 3: 'u',  \n",
    " 4: 'r',  \n",
    " 5: 'a',  \n",
    " 6: 'l',  \n",
    " 7: ' ',  \n",
    " 8: 'L',  \n",
    " 9: 'a',  \n",
    " 10: 'n',  \n",
    " 11: 'g',  \n",
    " 12: 'u',  \n",
    " 13: 'a',  \n",
    " 14: 'g',  \n",
    " 15: 'e',  \n",
    " 16: ' ',  \n",
    " 17: 'P',  \n",
    " 18: 'r',  \n",
    " 19: 'o',  \n",
    " 20: 'c',  \n",
    " 21: 'e',  \n",
    " 22: 's',  \n",
    " 23: 's',  \n",
    " 24: 'i',  \n",
    " 25: 'n',  \n",
    " 26: 'g'}mydict1 = {'a':10 , 'b':20 , 'c':30 , 'd':40 , 'e':50}\n",
    "mydict1 = {k:v/10 for (k,v) in mydict1.items()} # Divide all values in a dictiona\n",
    "mydict1\n",
    "str1 = \"Natural Language Processing\"\n",
    " \n",
    "mydict2 = {k:v for (k,v) in enumerate (str1)} # Store enumerated values in a dicti\n",
    "mydict2\n",
    "3/25/2021 Python - Jupyter Notebook\n",
    "localhost:8889/notebooks/Documents/GitHub/Public/Python/Python.ipynb 51/118"
   ]
  },
  {
   "cell_type": "markdown",
   "id": "609e87a4",
   "metadata": {},
   "source": [
    "337]:\n",
    "Word Frequency using dictionary"
   ]
  },
  {
   "cell_type": "code",
   "execution_count": null,
   "id": "6d14751f",
   "metadata": {},
   "outputs": [],
   "source": [
    "61]:Out[337]: {'a': 'A',  \n",
    " 'b': 'B',  \n",
    " 'c': 'C',  \n",
    " 'd': 'D',  \n",
    " 'e': 'E',  \n",
    " 'f': 'F',  \n",
    " 'g': 'G',  \n",
    " 'h': 'H',  \n",
    " 'i': 'I',  \n",
    " 'j': 'J',  \n",
    " 'k': 'K',  \n",
    " 'l': 'L',  \n",
    " 'm': 'M',  \n",
    " 'n': 'N',  \n",
    " 'o': 'O',  \n",
    " 'p': 'P',  \n",
    " 'q': 'Q',  \n",
    " 'r': 'R',  \n",
    " 's': 'S',  \n",
    " 't': 'T',  \n",
    " 'u': 'U',  \n",
    " 'v': 'V',  \n",
    " 'w': 'W',  \n",
    " 'x': 'X',  \n",
    " 'y': 'Y',  \n",
    " 'z': 'Z'}str1 = \"abcdefghijklmnopqrstuvwxyz\"\n",
    "mydict3 = {i:i.upper() for i in str1} # Lower to Upper Case\n",
    "mydict3\n",
    "mystr4 = \"one two three four one two two three five five six seven six seven one \n",
    "3/25/2021 Python - Jupyter Notebook\n",
    "localhost:8889/notebooks/Documents/GitHub/Public/Python/Python.ipynb 52/118"
   ]
  },
  {
   "cell_type": "markdown",
   "id": "2f73f1ce",
   "metadata": {},
   "source": [
    "64]:"
   ]
  },
  {
   "cell_type": "code",
   "execution_count": null,
   "id": "818d421c",
   "metadata": {},
   "outputs": [],
   "source": [
    "63]:Out[64]: ['one', \n",
    " 'two', \n",
    " 'three',  \n",
    " 'four',  \n",
    " 'one', \n",
    " 'two', \n",
    " 'two', \n",
    " 'three',  \n",
    " 'five',  \n",
    " 'five',  \n",
    " 'six', \n",
    " 'seven',  \n",
    " 'six', \n",
    " 'seven',  \n",
    " 'one', \n",
    " 'one', \n",
    " 'one', \n",
    " 'ten', \n",
    " 'eight',  \n",
    " 'ten', \n",
    " 'nine',  \n",
    " 'eleven',  \n",
    " 'ten', \n",
    " 'ten', \n",
    " 'nine']\n",
    "Out[63]: ['nine',  \n",
    " 'one', \n",
    " 'eight',  \n",
    " 'two', \n",
    " 'seven',  \n",
    " 'ten', \n",
    " 'four',  \n",
    " 'five',  \n",
    " 'three',  \n",
    " 'eleven',  \n",
    " 'six']mylist = mystr4.split() # Split String into substrings\n",
    "mylist\n",
    "mylist1 = set(mylist) # Unique values in a list\n",
    "mylist1 = list (mylist1)\n",
    "mylist1\n",
    "3/25/2021 Python - Jupyter Notebook\n",
    "localhost:8889/notebooks/Documents/GitHub/Public/Python/Python.ipynb 53/118"
   ]
  },
  {
   "cell_type": "code",
   "execution_count": null,
   "id": "2de3adb3",
   "metadata": {},
   "outputs": [],
   "source": [
    "60]:\n",
    "Operators\n",
    "Operators are special symbols in Python which are used to perform operations on\n",
    "variables/values.\n",
    "Arithmetic Operators{'nine': 2, 'one': 5, 'eight': 1, 'two': 3, 'seven': 2, 'ten': 4, 'four': 1, 'f\n",
    "ive': 2, 'three': 2, 'eleven': 1, 'six': 2}  # Calculate frequenct of each word\n",
    "count1 = [0] * len(mylist1)\n",
    "mydict5 = dict()\n",
    "for i in range(len(mylist1)):\n",
    "    for j in range(len(mylist)):\n",
    "        if mylist1[i] == mylist[j]:\n",
    "            count1[i] += 1\n",
    "    mydict5[mylist1[i]] = count1[i]\n",
    "print(mydict5)\n",
    "3/25/2021 Python - Jupyter Notebook\n",
    "localhost:8889/notebooks/Documents/GitHub/Public/Python/Python.ipynb 54/118"
   ]
  },
  {
   "cell_type": "code",
   "execution_count": null,
   "id": "23049b5a",
   "metadata": {},
   "outputs": [],
   "source": [
    "81]:\n",
    "Addition of 5 and 2 will give :- 7  \n",
    "Concatenate string 'x' and 'y' using '+' operaotr :- AsifBhat  \n",
    "Subtracting 2 from 5 will give :- 3  \n",
    "Multiplying 5 and 2 will give :- 10  \n",
    "Dividing 5 by 2 will give :- 2.5  \n",
    "Modulo of 5 , 2 will give :- 1  \n",
    "5 raised to the power 2 will give :- 25  \n",
    "Floor division of 5 by 2 will give :- 2  a = 5\n",
    "b = 2\n",
    " \n",
    "x = 'Asif'\n",
    "y = 'Bhat'\n",
    " \n",
    "# Addition\n",
    "c = a + b\n",
    "print('Addition of {} and {} will give :- {}\\n' .format(a,b,c))\n",
    " \n",
    "#Concatenate string using plus operator\n",
    "z = x+y\n",
    "print ('Concatenate string \\'x\\' and \\'y\\' using \\'+\\' operaotr :- {}\\n' .format(z\n",
    "  \n",
    "# Subtraction\n",
    "c = a - b\n",
    "print('Subtracting {} from {} will give :- {}\\n' .format(b,a,c))\n",
    "  \n",
    "# Multiplication\n",
    "c = a * b  \n",
    "print('Multiplying {} and {} will give :- {}\\n' .format(a,b,c))\n",
    "  \n",
    "# Division\n",
    "c = a / b\n",
    "print('Dividing {} by {} will give :- {}\\n' .format(a,b,c))\n",
    "  \n",
    "# Modulo of both number  \n",
    "c = a % b\n",
    "print('Modulo of {} , {} will give :- {}\\n' .format(a,b,c))\n",
    "  \n",
    "# Power \n",
    "c = a ** b \n",
    "print('{} raised to the power {} will give :- {}\\n' .format(a,b,c))\n",
    " \n",
    "# Division(floor)\n",
    "c = a // b\n",
    "print('Floor division of {} by {} will give :- {}\\n' .format(a,b,c))\n",
    "3/25/2021 Python - Jupyter Notebook\n",
    "localhost:8889/notebooks/Documents/GitHub/Public/Python/Python.ipynb 55/118Comparison Operators\n",
    "Comparison operators are used to compare values."
   ]
  },
  {
   "cell_type": "markdown",
   "id": "a71f4714",
   "metadata": {},
   "source": [
    "84]:"
   ]
  },
  {
   "cell_type": "markdown",
   "id": "6c0c4e82",
   "metadata": {},
   "source": [
    "87]:\n",
    "Logical Operators"
   ]
  },
  {
   "cell_type": "code",
   "execution_count": null,
   "id": "480ca022",
   "metadata": {},
   "outputs": [],
   "source": [
    "92]:\n",
    "Bitwise operatorsIs x greater than y :-  False  \n",
    " \n",
    "Is x less than  y :-  True  \n",
    " \n",
    "Is x equal to  y :-  False  \n",
    " \n",
    "Is x not equal to y :-  True  \n",
    " \n",
    "Is x greater than or equal to y :-  False  \n",
    " \n",
    "Is x less than or equal to y :-  True  \n",
    "Out[87]: (False, True, True)\n",
    "Logical AND operation :-  False  \n",
    "Logical OR operation :-  True  \n",
    "NOT operation :-  False  x = 20\n",
    "y = 30\n",
    " \n",
    "print('Is x greater than y :- ' ,x>y)\n",
    " \n",
    "print('\\nIs x less than  y :- ' ,x<y)\n",
    " \n",
    "print('\\nIs x equal to  y :- ' ,x==y)\n",
    " \n",
    "print('\\nIs x not equal to y :- ' ,x!=y)\n",
    " \n",
    "print('\\nIs x greater than or equal to y :- ' ,x>=y)\n",
    " \n",
    "print('\\nIs x less than or equal to y :- ' ,x<=y)\n",
    "a = 'Asif'\n",
    "b = 'Bhat'\n",
    "c = 'Asif'\n",
    " \n",
    "a == b , a ==c , a != b # Comparison operators on string\n",
    "x = True\n",
    "y = False\n",
    " \n",
    "print('Logical AND operation :- ' ,x and y) # True if both values are true\n",
    "print('Logical OR operation :- ' ,x or y) # True if either of the values is true\n",
    "print('NOT operation :- ' ,not x ) # True if operand is false\n",
    "3/25/2021 Python - Jupyter Notebook\n",
    "localhost:8889/notebooks/Documents/GitHub/Public/Python/Python.ipynb 56/118Bitwise operators act on bits and performs bit by bit operation."
   ]
  },
  {
   "cell_type": "code",
   "execution_count": null,
   "id": "a1cac987",
   "metadata": {},
   "outputs": [],
   "source": [
    "98]:\n",
    "Assignment OperatorsBitwise AND operation - 2  \n",
    "Bitwise OR operation - 22  \n",
    "Bitwise XOR operation - 20  \n",
    "Bitwise NOT operation - -19  \n",
    "Bitwise right shift operation - 4  \n",
    "Bitwise left shift operation - 72  x = 18  # binary form 10010\n",
    "y = 6  # binary form 00110\n",
    " \n",
    "print('Bitwise AND operation - {}' .format(x&y))\n",
    "print('Bitwise OR operation - {}' .format(x|y))\n",
    "print('Bitwise XOR operation - {}' .format(x^y))\n",
    "print('Bitwise NOT operation - {}' .format(~x))\n",
    "print('Bitwise right shift operation - {}' .format(x>>2))\n",
    "print('Bitwise left shift operation - {}' .format(x<<2))\n",
    "3/25/2021 Python - Jupyter Notebook\n",
    "localhost:8889/notebooks/Documents/GitHub/Public/Python/Python.ipynb 57/118"
   ]
  },
  {
   "cell_type": "code",
   "execution_count": null,
   "id": "31c6aeb4",
   "metadata": {},
   "outputs": [],
   "source": [
    "120]: x = 10\n",
    " \n",
    "print('Initialize x with value 10 (x=10)) :- ' ,x)\n",
    " \n",
    " \n",
    "x+=20 # x = x+20\n",
    "print ('Add 20 to x :- ' ,x)\n",
    " \n",
    " \n",
    "x-=20 # x = x-20\n",
    "print ('subtract 20 from x :- ' ,x)\n",
    " \n",
    " \n",
    "x/=10 # x = x/10\n",
    "print ('Divide x by 10 :- ' ,x)\n",
    " \n",
    " \n",
    " \n",
    "x*=10 # x = x/10\n",
    "print ('Multiply x by 10 :- ' ,x)\n",
    " \n",
    "x = int(x)\n",
    " \n",
    " \n",
    "x**=2 # x = x/10\n",
    "print ('x raised to the power 2 :- ' ,x)\n",
    " \n",
    " \n",
    " \n",
    "x%=2\n",
    "print ('Modulo Division :- ' ,x)\n",
    " \n",
    " \n",
    "x = 20\n",
    " \n",
    " \n",
    "x//=3\n",
    "print ('Floor Division :- ' ,x)\n",
    " \n",
    " \n",
    "x&=2\n",
    "print('Bitwise AND :- ' ,x)\n",
    " \n",
    " \n",
    "x|=2\n",
    "print('Bitwise OR :- ' ,x)\n",
    " \n",
    " \n",
    "x^=2\n",
    "print('Bitwise XOR :- ' ,x)\n",
    " \n",
    " \n",
    "x = 10\n",
    " \n",
    " \n",
    "x<<=2\n",
    "3/25/2021 Python - Jupyter Notebook\n",
    "localhost:8889/notebooks/Documents/GitHub/Public/Python/Python.ipynb 58/118Membership Operators\n",
    "Membership Operators are used to test whether a value / variable is present in a sequence."
   ]
  },
  {
   "cell_type": "markdown",
   "id": "88cdfea6",
   "metadata": {},
   "source": [
    "122]:"
   ]
  },
  {
   "cell_type": "code",
   "execution_count": null,
   "id": "bbb58d35",
   "metadata": {},
   "outputs": [],
   "source": [
    "123]:\n",
    "Functions\n",
    "A function is a block of organized code written to carry out a specified task.\n",
    "Functions help break our program into smaller and modular chunks for better readability .\n",
    "Information can be passed into a function as arguments.\n",
    "Parameters are specified after the function name inside the parentheses.\n",
    "We can add as many parameters as we want. Parameters must be separated with a comma.\n",
    "A function may or may not return data.\n",
    "In Python a function is defined using the def keyword\n",
    "Parameter VS Argument\n",
    "A parameter is the variable listed inside the parentheses in the function definition.\n",
    "An argument is the value that is sent to the function when it is called.\n",
    "Three types offunctions inPython:-Initialize x with value 10 (x=10)) :-  10  \n",
    "Add 20 to x :-  30  \n",
    "subtract 20 from x :-  10  \n",
    "Divide x by 10 :-  1.0  \n",
    "Multiply x by 10 :-  10.0  \n",
    "x raised to the power 2 :-  100  \n",
    "Modulo Division :-  0  \n",
    "Floor Division :-  6  \n",
    "Bitwise AND :-  2  \n",
    "Bitwise OR :-  2  \n",
    "Bitwise XOR :-  0  \n",
    "Bitwise left shift operation 40  \n",
    "Bitwise right shift operation 10  \n",
    "Out[122]: (True, False)\n",
    "Out[123]: (False, True)print('Bitwise left shift operation' ,x)\n",
    " \n",
    " \n",
    "x>>=2\n",
    "print('Bitwise right shift operation' ,x)\n",
    "mystr = 'Asif Ali Bhat'\n",
    " \n",
    "'Asif' in mystr , 'John' in mystr\n",
    "mystr = 'Asif Ali Bhat'\n",
    " \n",
    "'Asif' not in mystr , 'John' not in mystr\n",
    "3/25/2021 Python - Jupyter Notebook\n",
    "localhost:8889/notebooks/Documents/GitHub/Public/Python/Python.ipynb 59/118Three types of functions in Python:\n",
    "Built-in function :-  Python predefined functions that are readily available for use like min() ,\n",
    "max() , sum() , print() etc.\n",
    "User-Defined Functions:-  Function that we define ourselves to perform a specific task.\n",
    "Anonymous functions :  Function that is defined without a name. Anonymous functions are\n",
    "also called as lambda functions. They are not declared with the def keyword.\n",
    "Syntax\n",
    "Modularity\n",
    "3/25/2021 Python - Jupyter Notebook\n",
    "localhost:8889/notebooks/Documents/GitHub/Public/Python/Python.ipynb 60/118\n",
    "\n",
    "3/25/2021 Python - Jupyter Notebook\n",
    "localhost:8889/notebooks/Documents/GitHub/Public/Python/Python.ipynb 61/118"
   ]
  },
  {
   "cell_type": "markdown",
   "id": "bfd0350a",
   "metadata": {},
   "source": [
    "582]:"
   ]
  },
  {
   "cell_type": "markdown",
   "id": "d93f30b2",
   "metadata": {},
   "source": [
    "585]:"
   ]
  },
  {
   "cell_type": "markdown",
   "id": "d018caf2",
   "metadata": {},
   "source": [
    "586]:"
   ]
  },
  {
   "cell_type": "markdown",
   "id": "aa0f1b3b",
   "metadata": {},
   "source": [
    "39]:"
   ]
  },
  {
   "cell_type": "markdown",
   "id": "a1aa1ca1",
   "metadata": {},
   "source": [
    "590]:"
   ]
  },
  {
   "cell_type": "code",
   "execution_count": null,
   "id": "1863331d",
   "metadata": {},
   "outputs": [],
   "source": [
    "591]:Hello Python Lovers  \n",
    "Name :-  Asif  \n",
    "User ID is :-  asif123  \n",
    "Country :-  India  \n",
    "Out[586]: 100\n",
    "3  is odd number  \n",
    "4  is even number  \n",
    " This function will check whether a number is even or odd  \n",
    "Asif Ali Bhat  \n",
    "Asif Ali Bhat  def myfunc():\n",
    "  print(\"Hello Python Lovers\" )\n",
    " \n",
    "myfunc()\n",
    "def details(name,userid,country): # Function to print User details\n",
    "    print('Name :- ' , name)\n",
    "    print('User ID is :- ' , userid)\n",
    "    print('Country :- ' ,country)\n",
    "    \n",
    "details('Asif' , 'asif123'  , 'India')\n",
    "def square (n): #function to find square of a number\n",
    "    n= n*n\n",
    "    return n\n",
    " \n",
    "square (10)\n",
    "def even_odd  (num): #Even odd test\n",
    "    \"\"\" This function will check whether a number is even or odd\"\"\"\n",
    "    if num % 2 ==0:\n",
    "        print (num, ' is even number' )\n",
    "    else:\n",
    "        print (num, ' is odd number' )\n",
    " \n",
    "even_odd (3)\n",
    "even_odd (4)\n",
    "print(even_odd .__doc__) # Print function documentation string\n",
    "def fullname  (firstname  , middlename  ,lastname ): #Concatenate Strings\n",
    "    fullname  = \"{} {} {}\" .format(firstname ,middlename ,lastname )\n",
    "    print (fullname )\n",
    " \n",
    "fullname ('Asif' , 'Ali' , 'Bhat')\n",
    "def fullname  (firstname  , middlename  ,lastname ): #Concatenate Strings\n",
    "    fullname  = \"{} {} {}\" .format(firstname ,middlename ,lastname )\n",
    "    print (fullname )\n",
    " \n",
    "fullname (lastname  = 'Bhat' , middlename ='Ali' , firstname ='Asif') # Keyword Argum\n",
    "3/25/2021 Python - Jupyter Notebook\n",
    "localhost:8889/notebooks/Documents/GitHub/Public/Python/Python.ipynb 62/118"
   ]
  },
  {
   "cell_type": "markdown",
   "id": "593d526c",
   "metadata": {},
   "source": [
    "592]:"
   ]
  },
  {
   "cell_type": "markdown",
   "id": "102bea0c",
   "metadata": {},
   "source": [
    "596]:"
   ]
  },
  {
   "cell_type": "code",
   "execution_count": null,
   "id": "8848bde8",
   "metadata": {},
   "outputs": [],
   "source": [
    "26]:---------------------------------------------------------------------------  \n",
    "TypeError                                  Traceback (most recent call last)  \n",
    "<ipython-input-592-d194f8b98253>  in <module>  \n",
    "----> 1 fullname ('Asif') \n",
    " \n",
    "TypeError : fullname() missing 2 required positional arguments: 'middlename' and  \n",
    "'lastname'  \n",
    " \n",
    "Most Populous City :-  Mumbai  \n",
    "100 \n",
    "100 fullname  ('Asif') # This will throw error as function is expecting 3 arguments.\n",
    "def myfunc(city = 'Mumbai' ):\n",
    "    print('Most Populous City :- ' , city)\n",
    "    \n",
    "myfunc() # When a function is called without an argument it will use default valu\n",
    "var1 = 100 # Variable with Global scope.\n",
    " \n",
    "def myfunc():\n",
    "    print(var1) # Value 100 will be displayed due to global scope of var1\n",
    " \n",
    "    \n",
    "myfunc()\n",
    "print(var1)\n",
    "3/25/2021 Python - Jupyter Notebook\n",
    "localhost:8889/notebooks/Documents/GitHub/Public/Python/Python.ipynb 63/118"
   ]
  },
  {
   "cell_type": "markdown",
   "id": "232aac69",
   "metadata": {},
   "source": [
    "27]:"
   ]
  },
  {
   "cell_type": "markdown",
   "id": "7bd323e3",
   "metadata": {},
   "source": [
    "29]:"
   ]
  },
  {
   "cell_type": "code",
   "execution_count": null,
   "id": "38a33e58",
   "metadata": {},
   "outputs": [],
   "source": [
    "33]:10 \n",
    "---------------------------------------------------------------------------  \n",
    "NameError                                  Traceback (most recent call last)  \n",
    "<ipython-input-27-6a1c34e80ca2>  in <module>  \n",
    "     8  \n",
    "     9 myfunc1 () \n",
    "---> 10 myfunc2() \n",
    "<ipython-input-27-6a1c34e80ca2>  in myfunc2() \n",
    "     5  \n",
    "     6 def myfunc2 (): \n",
    "----> 7     print(var2) # Value 100 will be displayed due to global scope of va\n",
    "r1 \n",
    "     8  \n",
    "     9 myfunc1 () \n",
    "NameError : name 'var2' is not defined  \n",
    "99 \n",
    "100 \n",
    "\"List1\" before calling the function:-  [11, 22, 33, 44, 55]  \n",
    "\"List1\" after calling the function:-  [22, 33, 44, 55]  def myfunc1():\n",
    "    var2 = 10  # Variable with Local scope\n",
    "    print(var2)\n",
    " \n",
    " \n",
    "def myfunc2():\n",
    "    print(var2) # This will throw error because var2 has a local scope. Var2 is o\n",
    " \n",
    "myfunc1()\n",
    "myfunc2()\n",
    "var1 = 100 # Variable with Global scope.\n",
    " \n",
    "def myfunc():\n",
    "    var1 = 99  # Local scope\n",
    "    print(var1)\n",
    " \n",
    "    \n",
    "myfunc()  \n",
    "print(var1) # The original value of var1 (100) will be retained due to global sco\n",
    "list1 = [11,22,33,44,55]\n",
    " \n",
    "def myfunc(list1):\n",
    "    del list1[0]\n",
    " \n",
    "print('\"List1\" before calling the function:- ' ,list1)\n",
    "myfunc(list1)  # Pass by reference (Any change in the parameter within the functi\n",
    "print('\"List1\" after calling the function:- ' ,list1)\n",
    "3/25/2021 Python - Jupyter Notebook\n",
    "localhost:8889/notebooks/Documents/GitHub/Public/Python/Python.ipynb 64/118"
   ]
  },
  {
   "cell_type": "markdown",
   "id": "4dc11b0d",
   "metadata": {},
   "source": [
    "34]:"
   ]
  },
  {
   "cell_type": "markdown",
   "id": "5b8fc686",
   "metadata": {},
   "source": [
    "46]:"
   ]
  },
  {
   "cell_type": "markdown",
   "id": "11d1f2f5",
   "metadata": {},
   "source": [
    "45]:"
   ]
  },
  {
   "cell_type": "markdown",
   "id": "896e7144",
   "metadata": {},
   "source": [
    "601]:"
   ]
  },
  {
   "cell_type": "code",
   "execution_count": null,
   "id": "251b3152",
   "metadata": {},
   "outputs": [],
   "source": [
    "618]:\"List1\" before calling the function:-  [11, 22, 33, 44, 55]  \n",
    "\"List1\" after calling the function:-  [11, 22, 33, 44, 55, 100]  \n",
    "\"List1\" before calling the function:-  [11, 22, 33, 44, 55]  \n",
    "\"List1\" after calling the function:-  [11, 22, 33, 44, 55]  \n",
    "Out[45]: (10, 20)\n",
    "Out[601]: 24\n",
    "Out[618]: 15list1 = [11,22,33,44,55]\n",
    " \n",
    "def myfunc(list1):\n",
    "    list1.append(100)\n",
    " \n",
    "print('\"List1\" before calling the function:- ' ,list1)\n",
    "myfunc(list1)  # Pass by reference (Any change in the parameter within the functi\n",
    "print('\"List1\" after calling the function:- ' ,list1)\n",
    "list1 = [11,22,33,44,55]\n",
    " \n",
    "def myfunc(list1):\n",
    "    list1 = [10,100,1000,10000] # link of 'list1' with previous object is broken \n",
    " \n",
    "print('\"List1\" before calling the function:- ' ,list1)\n",
    "myfunc(list1)  # Pass by reference (Any change in the parameter within the functi\n",
    "print('\"List1\" after calling the function:- ' ,list1)\n",
    "def swap(a,b):\n",
    "    temp = a\n",
    "    a = b      # link of 'a' with previous object is broken now as new object is \n",
    "    b = temp   # link of 'b' with previous object is broken now as new object is \n",
    " \n",
    "a = 10\n",
    "b = 20\n",
    "swap(a,b)\n",
    "a,b\n",
    "def factorial (num):  # Calculate factorial of a number using recursive function c\n",
    "    if num <=1 :\n",
    "        return 1\n",
    "    else:\n",
    "        return num * factorial (num-1)\n",
    "    \n",
    "factorial (4)\n",
    "def add(num):  # Sum of first n natural numbers\n",
    "    if num == 0:\n",
    "        return 0\n",
    "    else:\n",
    "        return num + add(num-1)\n",
    " \n",
    "add(5) # Sum of first five natural numbers (1,2,3,4,5)\n",
    "3/25/2021 Python - Jupyter Notebook\n",
    "localhost:8889/notebooks/Documents/GitHub/Public/Python/Python.ipynb 65/118"
   ]
  },
  {
   "cell_type": "code",
   "execution_count": null,
   "id": "bd9d5efb",
   "metadata": {},
   "outputs": [],
   "source": [
    "12]:\n",
    "args & kwargs\n",
    "*args\n",
    "When we are not sure about the number of arguments being passed to a function then we can\n",
    "use *args as function parameter .\n",
    "*args allow us to pass the variable number of Non Keyword Arguments  to function.\n",
    "We can simply use an asterisk * before the parameter name to pass variable length\n",
    "arguments.\n",
    "The arguments are always passed as a tuple.\n",
    "We can rename it to anything as long as it is preceded by a single asterisk (*). It's best\n",
    "practice to keep naming it args to make it immediately recognizable.\n",
    "**kwargs\n",
    "**kwargs allows us to pass the variable number of Keyword Arguments  to the function.\n",
    "We can simply use an double asterisk ** before the parameter name to pass variable length\n",
    "arguments.\n",
    "The arguments are passed as a dictionary .\n",
    "We can rename it to anything as long as it is preceded by a double asterisk (**). It's best\n",
    "practice to keep naming it kwargs to make it immediately recognizable.How many fibonacci numbers you want to generate -10  \n",
    "0 \n",
    "1 \n",
    "1 \n",
    "2 \n",
    "3 \n",
    "5 \n",
    "8 \n",
    "13 \n",
    "21 \n",
    "34 def fiboacci (num):\n",
    "    if num <= 1:\n",
    "        return num\n",
    "    if num == 2:\n",
    "        return 1\n",
    "    else:  \n",
    "        return(fiboacci (num-1) + fiboacci (num-2))  \n",
    " \n",
    "nums = int(input(\"How many fibonacci numbers you want to generate -\" ))\n",
    " \n",
    " \n",
    " \n",
    "for i in range(nums):\n",
    "    print(fiboacci (i))  # Generate Fibonacci series\n",
    "3/25/2021 Python - Jupyter Notebook\n",
    "localhost:8889/notebooks/Documents/GitHub/Public/Python/Python.ipynb 66/118"
   ]
  },
  {
   "cell_type": "markdown",
   "id": "9d821ac5",
   "metadata": {},
   "source": [
    "578]:"
   ]
  },
  {
   "cell_type": "markdown",
   "id": "fc38f02a",
   "metadata": {},
   "source": [
    "577]:"
   ]
  },
  {
   "cell_type": "code",
   "execution_count": null,
   "id": "22ad9ce2",
   "metadata": {},
   "outputs": [],
   "source": [
    "566]:60 \n",
    "  File \"<ipython-input-577-565d47b69332>\" , line 2 \n",
    "    If we want to make argument list dynamic then *args wil come in picture'''  \n",
    "                                                                               \n",
    "^ \n",
    "SyntaxError : invalid syntax  \n",
    " \n",
    " \n",
    "arg_1: 1  \n",
    "arg_2: 2  \n",
    "arg_3: 3  def add(a,b,c):\n",
    "    return a+b+c\n",
    "    \n",
    "print(add(10,20,30)) # Sum of two numbers\n",
    "print(add(1,2,3,4)) '''This will throw below error as this function will only tak\n",
    "If we want to make argument list dynamic then *args wil come in picture'''\n",
    "def some_args (arg_1, arg_2, arg_3):\n",
    "    print(\"arg_1:\" , arg_1)\n",
    "    print(\"arg_2:\" , arg_2)\n",
    "    print(\"arg_3:\" , arg_3)\n",
    " \n",
    "my_list = [2, 3]\n",
    "some_args (1, *my_list)\n",
    "3/25/2021 Python - Jupyter Notebook\n",
    "localhost:8889/notebooks/Documents/GitHub/Public/Python/Python.ipynb 67/118"
   ]
  },
  {
   "cell_type": "markdown",
   "id": "fb2a5671",
   "metadata": {},
   "source": [
    "524]:"
   ]
  },
  {
   "cell_type": "markdown",
   "id": "e87e6c6a",
   "metadata": {},
   "source": [
    "561]:"
   ]
  },
  {
   "cell_type": "markdown",
   "id": "487f2007",
   "metadata": {},
   "source": [
    "562]:"
   ]
  },
  {
   "cell_type": "markdown",
   "id": "132d49c3",
   "metadata": {},
   "source": [
    "511]:"
   ]
  },
  {
   "cell_type": "code",
   "execution_count": null,
   "id": "b99ada37",
   "metadata": {},
   "outputs": [],
   "source": [
    "517]:6 \n",
    "10 \n",
    "15 \n",
    "21 \n",
    "28 \n",
    "Out[561]: (28, 28)\n",
    "Out[562]: 112\n",
    "('Asif', 7412, 41102, 33, 'India', 'Hindi')  \n",
    "{'Name': 'Asif', 'ID': 7412, 'Pincode': 41102, 'Age': 33, 'Country': 'India',  \n",
    "'Language': 'Hindi'}  def add1(*args):\n",
    "    return sum(args)\n",
    " \n",
    "print(add(1,2,3))\n",
    "print(add(1,2,3,4))  # *args will take dynamic argument list. So add() function w\n",
    "print(add(1,2,3,4,5))\n",
    "print(add(1,2,3,4,5,6))\n",
    "print(add(1,2,3,4,5,6,7))\n",
    "list1 = [1,2,3,4,5,6,7]\n",
    "tuple1 = (1,2,3,4,5,6,7)\n",
    " \n",
    "add1(*list1) , add1(*tuple1) #tuple & list items will be passed as argument list \n",
    "list1 = [1,2,3,4,5,6,7]\n",
    "list2 = [1,2,3,4,5,6,7]\n",
    "list3 = [1,2,3,4,5,6,7]\n",
    "list4 = [1,2,3,4,5,6,7]\n",
    " \n",
    "add1(*list1 , *list2 , *list3 , *list4 ) #All four lists are unpacked and each in\n",
    "def UserDetails (*args):\n",
    "    print(args)\n",
    " \n",
    "UserDetails ('Asif' , 7412 , 41102 , 33 ,  'India' , 'Hindi')\n",
    " \n",
    "''' For the above example we have no idea about the parameters passed e.g 7412 , \n",
    "    In such cases we can take help of Keyworded arguments (**kwargs) '''\n",
    "def UserDetails (**kwargs):\n",
    "    print(kwargs)\n",
    " \n",
    "UserDetails (Name='Asif' , ID=7412 , Pincode=41102 , Age= 33 ,  Country= 'India' ,\n",
    "3/25/2021 Python - Jupyter Notebook\n",
    "localhost:8889/notebooks/Documents/GitHub/Public/Python/Python.ipynb 68/118"
   ]
  },
  {
   "cell_type": "markdown",
   "id": "cf12b0f0",
   "metadata": {},
   "source": [
    "519]:"
   ]
  },
  {
   "cell_type": "markdown",
   "id": "c8f7ba6e",
   "metadata": {},
   "source": [
    "523]:"
   ]
  },
  {
   "cell_type": "markdown",
   "id": "b9531aab",
   "metadata": {},
   "source": [
    "553]:"
   ]
  },
  {
   "cell_type": "code",
   "execution_count": null,
   "id": "a206ad92",
   "metadata": {},
   "outputs": [],
   "source": [
    "554]:Name :- Asif  \n",
    "ID :- 7412  \n",
    "Pincode :- 41102  \n",
    "Age :- 33  \n",
    "Country :- India  \n",
    "Language :- Hindi  \n",
    "Name :- Asif  \n",
    "ID :- 7412  \n",
    "Pincode :- 41102  \n",
    "Age :- 33  \n",
    "Country :- India  \n",
    "Language :- Hindi  \n",
    "License No :-  BHT145  \n",
    "Full Name :- Asif Ali Bhat  \n",
    "Phone Number:-  1234567890  \n",
    "Name :- Asif  \n",
    "ID :- 7412  \n",
    "Pincode :- 41102  \n",
    "Age :- 33  \n",
    "Country :- India  \n",
    "Language :- Hindi  def UserDetails (**kwargs):\n",
    "    for key,val in kwargs.items():\n",
    "        print(\"{} :- {}\" .format(key,val))\n",
    " \n",
    "UserDetails (Name='Asif' , ID=7412 , Pincode=41102 , Age= 33 ,  Country= 'India' ,\n",
    "mydict = {'Name': 'Asif', 'ID': 7412, 'Pincode' : 41102, 'Age': 33, 'Country' : 'In\n",
    " \n",
    "UserDetails (**mydict)\n",
    "def UserDetails (licenseNo ,  *args , phoneNo=0 , **kwargs): # Using all four argum\n",
    "    print('License No :- ' , licenseNo )\n",
    "    j=''\n",
    "    for i in args:\n",
    "        j = j+i\n",
    "    print('Full Name :-' ,j)\n",
    "    print('Phone Number:- ' ,phoneNo)\n",
    "    for key,val in kwargs.items():\n",
    "        print(\"{} :- {}\" .format(key,val))\n",
    "        \n",
    "        \n",
    "name = ['Asif' , ' ' , 'Ali' , ' ','Bhat']\n",
    "mydict = {'Name': 'Asif', 'ID': 7412, 'Pincode' : 41102, 'Age': 33, 'Country' : 'In\n",
    " \n",
    "UserDetails ('BHT145'  , *name , phoneNo=1234567890 ,**mydict )\n",
    "def UserDetails (licenseNo , *args , phoneNo=0, **kwargs): # Using all four argumen\n",
    "    print('Nothing' )\n",
    "3/25/2021 Python - Jupyter Notebook\n",
    "localhost:8889/notebooks/Documents/GitHub/Public/Python/Python.ipynb 69/118"
   ]
  },
  {
   "cell_type": "markdown",
   "id": "526ae1b7",
   "metadata": {},
   "source": [
    "557]:"
   ]
  },
  {
   "cell_type": "code",
   "execution_count": null,
   "id": "fd533081",
   "metadata": {},
   "outputs": [],
   "source": [
    "564]:\n",
    "Lambda, Filter, Map and Reduce\n",
    "Lambda\n",
    "A lambda function is an anonymous function (function without a name).\n",
    "Lambda functions can have any number of arguments but only one expression. The\n",
    "expression is evaluated and returned.\n",
    "We use lambda functions when we require a nameless function for a short period of time.\n",
    "Syntax:-\n",
    "Filter\n",
    "It is used to filter the iterables/sequence as per the conditions.\n",
    "Filter function filters the original iterable and passes the items that returns T rue for the function\n",
    "provided to filter .  File \"<ipython-input-557-dcd3c92277bc>\" , line 1 \n",
    "    def UserDetails(licenseNo, **kwargs , *args): # This will fail. *args MUST\n",
    " come before **kwargs in the argument list  \n",
    "                                          ^  \n",
    "SyntaxError : invalid syntax  \n",
    " \n",
    " \n",
    "  File \"<ipython-input-564-8a3e722c7ed7>\" , line 2 \n",
    "    def UserDetails(ID = 1, licenseNo, *args):  \n",
    "                   ^  \n",
    "SyntaxError : non-default argument follows default argument  \n",
    " \n",
    " def UserDetails (licenseNo , **kwargs , *args): # This will fail. *args MUST come b\n",
    "    print('Nothing' )\n",
    "#The below function will fail. Default argument/positional argument (licenseNo) M\n",
    "def UserDetails (ID = 1, licenseNo , *args):\n",
    "    print('Nothing' )\n",
    "3/25/2021 Python - Jupyter Notebook\n",
    "localhost:8889/notebooks/Documents/GitHub/Public/Python/Python.ipynb 70/118It is normally used with Lambda functions to filter list, tuple, or sets.\n",
    "filter() method takes two parameters:\n",
    "function  - function tests if elements of an iterable returns true or false\n",
    "iterable  - Sequence which needs to be filtered, could be sets, lists, tuples, or any iterators\n",
    "Syntax:\n",
    "Map\n",
    "The map() function applies a given function to each item of an iterable (list, tuple etc.) and\n",
    "returns a list of the results.\n",
    "map() function takes two Parameters :\n",
    "function  : The function to execute for each item of given iterable.\n",
    "iterable  : It is a iterable which is to be mapped.\n",
    "Returns  : Returns a list of the results after applying the given function to each item of a given\n",
    "iterable (list, tuple etc.)\n",
    "Syntax:\n",
    "Reduce\n",
    "3/25/2021 Python - Jupyter Notebook\n",
    "localhost:8889/notebooks/Documents/GitHub/Public/Python/Python.ipynb 71/118The reduce() function is defined in the functools  python module.The reduce() function\n",
    "receives two arguments, a function and an iterable. However , it doesn't return another iterable,\n",
    "instead it returns a single value.\n",
    "Working:\n",
    "1) Apply a function to the first two items in an iterable and generate a partial result.\n",
    "2) The function is then called again with the result obtained in step 1  and the next value in the\n",
    "sequence. This process keeps on repeating until there are items in the sequence.\n",
    "3) The final returned result is returned and printed on console.\n",
    "Syntax:"
   ]
  },
  {
   "cell_type": "markdown",
   "id": "539680d0",
   "metadata": {},
   "source": [
    "392]:"
   ]
  },
  {
   "cell_type": "markdown",
   "id": "73f28b20",
   "metadata": {},
   "source": [
    "393]:"
   ]
  },
  {
   "cell_type": "markdown",
   "id": "b3b79a3c",
   "metadata": {},
   "source": [
    "394]:"
   ]
  },
  {
   "cell_type": "markdown",
   "id": "124db367",
   "metadata": {},
   "source": [
    "364]:"
   ]
  },
  {
   "cell_type": "code",
   "execution_count": null,
   "id": "a7814888",
   "metadata": {},
   "outputs": [],
   "source": [
    "370]:15 \n",
    "30 \n",
    "13 \n",
    "Out[364]: (30, 100, 280)\n",
    "Out[370]: (60, 150)addition  = lambda a : a + 10  # This lambda function adds value 10 to an argument\n",
    "print(addition (5))\n",
    "product = lambda a, b : a * b #This lambda function takes two arguments (a,b) and\n",
    "print(product(5, 6))\n",
    "addition  = lambda a, b, c : a + b + c  #This lambda function takes three argument\n",
    "print(addition (5, 6, 2))\n",
    "res = (lambda *args: sum(args))  # This lambda function can take any number of ar\n",
    "res(10,20) , res(10,20,30,40) ,  res(10,20,30,40,50,60,70)\n",
    "res1 = (lambda **kwargs: sum(kwargs.values())) # This lambda function can take an\n",
    "res1(a = 10 , b= 20 , c = 30) , res1(a = 10 , b= 20 , c = 30, d = 40 , e = 50)\n",
    "3/25/2021 Python - Jupyter Notebook\n",
    "localhost:8889/notebooks/Documents/GitHub/Public/Python/Python.ipynb 72/118"
   ]
  },
  {
   "cell_type": "markdown",
   "id": "9682a322",
   "metadata": {},
   "source": [
    "386]:"
   ]
  },
  {
   "cell_type": "markdown",
   "id": "239cd768",
   "metadata": {},
   "source": [
    "446]:"
   ]
  },
  {
   "cell_type": "markdown",
   "id": "433bdeaa",
   "metadata": {},
   "source": [
    "447]:"
   ]
  },
  {
   "cell_type": "markdown",
   "id": "b417104e",
   "metadata": {},
   "source": [
    "437]:"
   ]
  },
  {
   "cell_type": "code",
   "execution_count": null,
   "id": "7efff702",
   "metadata": {},
   "outputs": [],
   "source": [
    "438]:Out[386]: (60, 150)\n",
    "Out[446]: (6000, 12000000)\n",
    "15 \n",
    "25 \n",
    "35 \n",
    "Out[437]: [1, 3, 5, 7, 9]\n",
    "Out[438]: [1, 3, 5, 7, 9]res1 = (lambda **kwargs: sum(kwargs.values())) # This lambda function can take an\n",
    "res1(a = 10 , b= 20 , c = 30) , res1(a = 10 , b= 20 , c = 30, d = 40 , e = 50)\n",
    "# User defined function to find product of numbers\n",
    "def product(nums):  \n",
    "    total = 1\n",
    "    for i in nums:\n",
    "        total *= i  \n",
    "    return total\n",
    " \n",
    "# This lambda function can take any number of arguments and return thier product.\n",
    "res1 = (lambda **kwargs: product(kwargs.values())) \n",
    "res1(a = 10 , b= 20 , c = 30) , res1(a = 10 , b= 20 , c = 30, d = 40 , e = 50)\n",
    "def myfunc(n):\n",
    "  return lambda a : a + n\n",
    " \n",
    "add10 = myfunc(10)\n",
    "add20 = myfunc(20)\n",
    "add30 = myfunc(30)\n",
    " \n",
    "print(add10(5))\n",
    "print(add20(5))\n",
    "print(add30(5))\n",
    "list1 = [1,2,3,4,5,6,7,8,9]\n",
    " \n",
    "def odd(n):\n",
    "    if n%2 ==1: return True\n",
    "    else: return False\n",
    "    \n",
    "odd_num = list(filter(odd,list1)) # This Filter function filters list1 and passes\n",
    "odd_num\n",
    "list1 = [1,2,3,4,5,6,7,8,9]\n",
    "# The below Filter function filters \"list1\" and passes all odd numbers using lamb\n",
    "odd_num = list(filter(lambda n: n%2 ==1 ,list1)) \n",
    "odd_num\n",
    "3/25/2021 Python - Jupyter Notebook\n",
    "localhost:8889/notebooks/Documents/GitHub/Public/Python/Python.ipynb 73/118"
   ]
  },
  {
   "cell_type": "markdown",
   "id": "a8d5d73a",
   "metadata": {},
   "source": [
    "439]:"
   ]
  },
  {
   "cell_type": "markdown",
   "id": "f103dc34",
   "metadata": {},
   "source": [
    "440]:"
   ]
  },
  {
   "cell_type": "markdown",
   "id": "b9e75f0b",
   "metadata": {},
   "source": [
    "441]:"
   ]
  },
  {
   "cell_type": "markdown",
   "id": "a8785faa",
   "metadata": {},
   "source": [
    "442]:"
   ]
  },
  {
   "cell_type": "code",
   "execution_count": null,
   "id": "97b56ce9",
   "metadata": {},
   "outputs": [],
   "source": [
    "448]:\n",
    "Out[439]: [2, 6, 10, 14, 18]\n",
    "Out[440]: [2, 6, 10, 14, 18]\n",
    "Out[441]: 50\n",
    "Out[442]: 50\n",
    "Out[448]: 50def twice(n):\n",
    "    return n*2\n",
    "  \n",
    "doubles = list(map(twice,odd_num)) # The map function will apply user defined \"tw\n",
    "doubles\n",
    "doubles = list(map(lambda n:n*2,odd_num)) # This map function will double all ite\n",
    "doubles\n",
    "from functools  import reduce\n",
    " \n",
    "def add(a,b):\n",
    "    return a+b\n",
    "  \n",
    "sum_all = reduce(add,doubles) # This reduce function will perform sum of all item\n",
    "sum_all\n",
    "#The below reduce() function will perform sum of all items in the list using lamb\n",
    "sum_all = reduce(lambda a,b : a+b,doubles)\n",
    "sum_all\n",
    "# Putting all together \n",
    " \n",
    "sum_all = reduce(lambda a,b : a+b,list(map(lambda n:n*2,list(filter(lambda n: n%2\n",
    "sum_all\n",
    "3/25/2021 Python - Jupyter Notebook\n",
    "localhost:8889/notebooks/Documents/GitHub/Public/Python/Python.ipynb 74/118"
   ]
  },
  {
   "cell_type": "markdown",
   "id": "47d89779",
   "metadata": {},
   "source": [
    "]:"
   ]
  },
  {
   "cell_type": "code",
   "execution_count": null,
   "id": "530470c0",
   "metadata": {},
   "outputs": [],
   "source": [
    "497]:\n",
    "--------  \n",
    "[2, 4, 6, 8, 10]  \n",
    "[1, 3, 5, 7, 9]  \n",
    "--------  \n",
    "['TWO', 'FOUR']  \n",
    "['one', 'three']  \n",
    "--------  \n",
    "['one'] \n",
    "['88', '99', '102']  \n",
    "['one', 'two2', 'three3', '88', '99', '102']  \n",
    "--------  # More examples on Map , Filter , Reduce  \n",
    "list1 = [1,2,3,4,5,6,7,8,9,10]\n",
    "even = list(filter(lambda n: n%2 ==0 ,list1)) # Filter even numbers from the list\n",
    "odd =  list(filter(lambda n: n%2 !=0 ,list1))   # Filter odd numbers from the lis\n",
    " \n",
    "print('--------' )\n",
    "print(even)\n",
    "print(odd)\n",
    "print('--------' )\n",
    " \n",
    "list2 = ['one' , 'TWO' , 'three' , 'FOUR']\n",
    " \n",
    "upper = list(filter(lambda x: x.isupper() , list2)) # filter uppercase strings fr\n",
    " \n",
    "lower = list(filter(lambda x: x.islower() , list2)) # filter lowercase strings fr\n",
    " \n",
    " \n",
    "print(upper)\n",
    "print(lower)\n",
    "print('--------' )\n",
    " \n",
    "list3 = ['one' , 'two2' , 'three3'  ,'88' , '99' , '102']\n",
    " \n",
    "numeric = list(filter(lambda x:x.isnumeric (), list3))  # filter numbers from the \n",
    " \n",
    "alpha = list(filter(lambda x:x.isalpha(), list3))      # filter character strings\n",
    " \n",
    "alphanum  = list(filter(lambda x:x.isalnum(), list3)) # filtr numbers & character \n",
    " \n",
    " \n",
    "print(alpha)\n",
    "print(numeric)\n",
    "print(alphanum )\n",
    "print('--------' )\n",
    " \n",
    " \n",
    "#Vowel Test\n",
    " \n",
    "3/25/2021 Python - Jupyter Notebook\n",
    "localhost:8889/notebooks/Documents/GitHub/Public/Python/Python.ipynb 75/118"
   ]
  },
  {
   "cell_type": "code",
   "execution_count": null,
   "id": "f5457cec",
   "metadata": {},
   "outputs": [],
   "source": [
    "501]:\n",
    "---------------  \n",
    "[2, 4, 6, 8]  \n",
    "[6, 8, 10, 12]  \n",
    "[1, 4, 9, 16]  \n",
    "---------------  \n",
    "[2, 4, 6, 8]  \n",
    "[6, 8, 10, 12]  \n",
    "[1, 4, 9, 16]  \n",
    "---------------  list1 = [1,2,3,4]\n",
    "list2 = [5,6,7,8]\n",
    " \n",
    "def double(x):\n",
    "    return x+x\n",
    " \n",
    "def add(x,y):\n",
    "    return x+y\n",
    " \n",
    "def square(x):\n",
    "    return x*x\n",
    " \n",
    "print('---------------' )\n",
    " \n",
    "print(list(map(double, list1))) # Double each number using map & User defined fun\n",
    "print(list(map(add, list1, list2))) # add two items  using map & User defined fun\n",
    "print(list(map(square, list1))) #Square numbers using map & User defined function\n",
    " \n",
    "print('---------------' )\n",
    " \n",
    "print(list(map(lambda x: x + x, list1))) # Double each number using map & lambda\n",
    "print(list(map(lambda x, y: x + y, list1, list2))) # add two items  using map & l\n",
    "print(list(map(lambda x: x*x, list1))) #Square numbers using map & lambda\n",
    " \n",
    "print('---------------' )\n",
    "3/25/2021 Python - Jupyter Notebook\n",
    "localhost:8889/notebooks/Documents/GitHub/Public/Python/Python.ipynb 76/118"
   ]
  },
  {
   "cell_type": "markdown",
   "id": "f77a28e9",
   "metadata": {},
   "source": [
    "459]:"
   ]
  },
  {
   "cell_type": "code",
   "execution_count": null,
   "id": "a857af9c",
   "metadata": {},
   "outputs": [],
   "source": [
    "461]:24 \n",
    "10 \n",
    "Python Rocks  \n",
    "Hello Hello Hello  \n",
    "1 \n",
    "4 \n",
    "Out[461]: (1, 4)list2 = [1,2,3,4]\n",
    " \n",
    "product = reduce (operator .mul,list2) # Product of all numbers in a list\n",
    " \n",
    "add = reduce(operator .add,list2) # Add all numbers in the list\n",
    " \n",
    "concat_str  = reduce(operator .add , ['Python'  , ' ' , 'Rocks']) # Concatenate stri\n",
    " \n",
    "prod = reduce(operator .mul,['Hello '  , 3]) #Repeat a string multiple times\n",
    " \n",
    "min_num = reduce(lambda a, b: a if a < b else b, list2) # Minimum number in the l\n",
    " \n",
    "max_num = reduce(lambda a, b: a if a > b else b, list2) # Maximum number in the l\n",
    " \n",
    "print(product)\n",
    " \n",
    "print(add)\n",
    " \n",
    "print(concat_str )\n",
    " \n",
    "print(prod)\n",
    " \n",
    "print(min_num)\n",
    " \n",
    "print(max_num)\n",
    "def min_func (a, b):\n",
    "        return a if a < b else b\n",
    " \n",
    " \n",
    "def max_func (a, b):\n",
    "    return a if a > b else b\n",
    " \n",
    "min_num = reduce(min_func , list2) # Minimum number in the list using reduce () & \n",
    " \n",
    "max_num = reduce(max_func , list2) # Maximum number in the list using reduce () & \n",
    " \n",
    "min_num , max_num\n",
    "3/25/2021 Python - Jupyter Notebook\n",
    "localhost:8889/notebooks/Documents/GitHub/Public/Python/Python.ipynb 77/118"
   ]
  },
  {
   "cell_type": "code",
   "execution_count": null,
   "id": "7cfd8413",
   "metadata": {},
   "outputs": [],
   "source": [
    "474]:\n",
    "Classes & Objects\n",
    "A Class is an object constructor or a \"blueprint\" for creating objects.\n",
    "Objects are nothing but an encapsulation of variables and functions into a single entity .\n",
    "Objects get their variables and functions from classes.\n",
    "To create a class we use the keyword class .\n",
    "The first string inside the class is called docstring which gives the brief description about the\n",
    "class.\n",
    "All classes have a function called  which is always executed when the class is\n",
    "being initiated.\n",
    "We can use  function to assign values to object properties or other operations\n",
    "that are necessary to perform when the object is being created\n",
    "The self parameter is a reference to the current instance of the class and is used to access\n",
    "class variables.\n",
    "self must be the first parameter of any function in the class\n",
    "The super()  builtin function returns a temporary object of the superclass that allows us to\n",
    "access methods of the base class.\n",
    "super()  allows us to avoid using the base class name explicitly and to enable multiple\n",
    "inheritance.\n",
    "Syntax____init____()\n",
    "____init____()------ \n",
    "False \n",
    "True \n",
    "False \n",
    "------ \n",
    "False \n",
    "True \n",
    "True \n",
    "------ print('------' )\n",
    "print(reduce(lambda a, b: bool(a and b), [0, 0, 1, 0, 0])) # Returns True if all \n",
    "print(reduce(lambda a, b: bool(a and b), [2, 3, 1, 5, 6])) # Returns True if all \n",
    "print(reduce(lambda a, b: bool(a and b), [8, 9, 1, 0, 9])) # Returns True if all \n",
    " \n",
    "print('------' )\n",
    " \n",
    "print(reduce(lambda a, b: bool(a or b), [0, 0, 0, 0, 0]))  # Returns True if any \n",
    "print(reduce(lambda a, b: bool(a or b), [2, 3, 1, 5, 6]))  # Returns True if any \n",
    "print(reduce(lambda a, b: bool(a or b), [8, 9, 1, 0, 9]))  # Returns True if any \n",
    " \n",
    "print('------' )\n",
    "3/25/2021 Python - Jupyter Notebook\n",
    "localhost:8889/notebooks/Documents/GitHub/Public/Python/Python.ipynb 78/118"
   ]
  },
  {
   "cell_type": "code",
   "execution_count": null,
   "id": "1fcf4f19",
   "metadata": {},
   "outputs": [],
   "source": [
    "49]:\n",
    "10 # Create a class with property \"var1\"\n",
    "class myclass:\n",
    "    var1 = 10\n",
    "    \n",
    "obj1 = myclass() # Create an object of class \"myclass()\"\n",
    "print(obj1.var1)\n",
    "3/25/2021 Python - Jupyter Notebook\n",
    "localhost:8889/notebooks/Documents/GitHub/Public/Python/Python.ipynb 79/118"
   ]
  },
  {
   "cell_type": "markdown",
   "id": "8a270dfe",
   "metadata": {},
   "source": [
    "70]:"
   ]
  },
  {
   "cell_type": "markdown",
   "id": "5873d5ab",
   "metadata": {},
   "source": [
    "71]:"
   ]
  },
  {
   "cell_type": "markdown",
   "id": "3804f243",
   "metadata": {},
   "source": [
    "72]:"
   ]
  },
  {
   "cell_type": "markdown",
   "id": "307cb1b1",
   "metadata": {},
   "source": [
    "73]:"
   ]
  },
  {
   "cell_type": "code",
   "execution_count": null,
   "id": "92219a70",
   "metadata": {},
   "outputs": [],
   "source": [
    "75]:Name :-  Asif  \n",
    "Employee ID :-  34163  \n",
    "Thanks for joining ABC Company Asif!!  \n",
    "Out[71]: 'Basit'\n",
    "---------------------------------------------------------------------------  \n",
    "AttributeError                             Traceback (most recent call last)  \n",
    "<ipython-input-72-b111c8b828fc>  in <module>  \n",
    "     1 del emp1.empid   # Delete Object Properties  \n",
    "----> 2 emp1.empid \n",
    "AttributeError : 'Employee' object has no attribute 'empid'  \n",
    "---------------------------------------------------------------------------  \n",
    "NameError                                  Traceback (most recent call last)  \n",
    "<ipython-input-73-db2cb77ec9fb>  in <module>  \n",
    "      1 del emp1 # Delete the object  \n",
    "----> 2 emp1 \n",
    " \n",
    "NameError : name 'emp1' is not defined  \n",
    " \n",
    "Name :-  Michael  \n",
    "Employee ID :-  34162  \n",
    "Thanks for joining ABC Company Michael!!  # Create an employee class\n",
    "class Employee :\n",
    "  def __init__ (self, name, empid): # __init__() function is used to assign values\n",
    "    self.name = name\n",
    "    self.empid = empid\n",
    "  def greet(self): # Class Method\n",
    "    print(\"Thanks for joining ABC Company {}!!\" .format(self.name))\n",
    " \n",
    "emp1 = Employee (\"Asif\", 34163)  # Create an employee object\n",
    " \n",
    "print('Name :- ' ,emp1.name)\n",
    "print('Employee ID :- ' ,emp1.empid)\n",
    "emp1.greet()\n",
    "emp1.name = 'Basit' # Modify Object Properties\n",
    "emp1.name\n",
    "del emp1.empid   # Delete Object Properties\n",
    "emp1.empid\n",
    "del emp1 # Delete the object\n",
    "emp1\n",
    "emp2 = Employee (\"Michael\" , 34162)  # Create an employee object\n",
    " \n",
    "print('Name :- ' ,emp2.name)\n",
    "print('Employee ID :- ' ,emp2.empid)\n",
    "emp2.greet()\n",
    "3/25/2021 Python - Jupyter Notebook\n",
    "localhost:8889/notebooks/Documents/GitHub/Public/Python/Python.ipynb 80/118"
   ]
  },
  {
   "cell_type": "code",
   "execution_count": null,
   "id": "e844bb7a",
   "metadata": {},
   "outputs": [],
   "source": [
    "77]:\n",
    "Inheritance\n",
    "Inheritance is a powerful feature in object oriented programming.\n",
    "Inheritance provides code reusability in the program because we can use an existing class\n",
    "(Super Class/ Parent Class / Base Class) to create a new class (Sub Class / Child Class /\n",
    "Derived Class) instead of creating it from scratch.\n",
    "The child class inherits data definitions and methods from the parent class which facilitates the\n",
    "reuse of features already available. The child class can add few more definitions or redefine a\n",
    "base class method.\n",
    "Inheritance comes into picture when a new class possesses the ' IS A' relationship with an\n",
    "existing class. E.g Student is a person. Hence person is the base class and student is derived\n",
    "class.Out[77]: 'India'emp2.country = 'India' #instance variable can be created manually\n",
    "emp2.country\n",
    "3/25/2021 Python - Jupyter Notebook\n",
    "localhost:8889/notebooks/Documents/GitHub/Public/Python/Python.ipynb 81/118\n",
    "\n",
    "3/25/2021 Python - Jupyter Notebook\n",
    "localhost:8889/notebooks/Documents/GitHub/Public/Python/Python.ipynb 82/118"
   ]
  },
  {
   "cell_type": "code",
   "execution_count": null,
   "id": "10ae9b53",
   "metadata": {},
   "outputs": [],
   "source": [
    "163]:\n",
    "Student Details  \n",
    "---------------  \n",
    "Name :- Asif  class person:   # Parent Class\n",
    "    def __init__ (self, name , age , gender):\n",
    "        self.name = name\n",
    "        self.age = age\n",
    "        self.gender = gender\n",
    "    \n",
    "    def PersonInfo (self):\n",
    "        print('Name :- {}' .format(self.name))\n",
    "        print('Age :- {}' .format(self.age))\n",
    "        print('Gender :- {}' .format(self.gender))\n",
    " \n",
    "        \n",
    "        \n",
    "        \n",
    "class student(person): # Child Class\n",
    "    def __init__ (self,name,age,gender,studentid ,fees):\n",
    "        person.__init__ (self,name,age,gender)\n",
    "        self.studentid  = studentid\n",
    "        self.fees = fees\n",
    "    \n",
    "    def StudentInfo (self):\n",
    "        print('Student ID :- {}' .format(self.studentid ))\n",
    "        print('Fees :- {}' .format(self.fees))\n",
    "        \n",
    " \n",
    "        \n",
    "class teacher(person): # Child Class\n",
    "    def __init__ (self,name,age,gender,empid,salary):\n",
    "        person.__init__ (self,name,age,gender)\n",
    "        self.empid = empid\n",
    "        self.salary = salary\n",
    "    \n",
    "    def TeacherInfo (self):\n",
    "        print('Employee ID :- {}' .format(self.empid))\n",
    "        print('Salary :- {}' .format(self.salary))\n",
    " \n",
    " \n",
    "        \n",
    "stud1 = student('Asif' , 24 , 'Male' , 123 , 1200)\n",
    "print('Student Details' )\n",
    "print('---------------' )\n",
    "stud1.PersonInfo ()    # PersonInfo() method presnt in Parent Class will be access\n",
    "stud1.StudentInfo ()\n",
    "print()\n",
    " \n",
    " \n",
    " \n",
    "teacher1  = teacher('Basit' , 36 , 'Male' , 456 , 80000)\n",
    "print('Employee Details' )\n",
    "print('---------------' )\n",
    "teacher1 .PersonInfo ()    # PersonInfo() method presnt in Parent Class will be acc\n",
    "teacher1 .TeacherInfo ()\n",
    "3/25/2021 Python - Jupyter Notebook\n",
    "localhost:8889/notebooks/Documents/GitHub/Public/Python/Python.ipynb 83/118"
   ]
  },
  {
   "cell_type": "code",
   "execution_count": null,
   "id": "01deae9c",
   "metadata": {},
   "outputs": [],
   "source": [
    "4]:Age :- 24  \n",
    "Gender :- Male  \n",
    "Student ID :- 123  \n",
    "Fees :- 1200  \n",
    "Employee Details  \n",
    "---------------  \n",
    "Name :- Basit  \n",
    "Age :- 36  \n",
    "Gender :- Male  \n",
    "Employee ID :- 456  \n",
    "Salary :- 80000  \n",
    "Student Details  \n",
    "---------------  \n",
    "Name :- Asif  \n",
    "Age :- 24  \n",
    "Gender :- Male  \n",
    "Student ID :- 123  \n",
    "Fees :- 1200  class person:   # Parent Class\n",
    "    def __init__ (self, name , age , gender):\n",
    "        self.name = name\n",
    "        self.age = age\n",
    "        self.gender = gender\n",
    "    \n",
    "    def PersonInfo (self):\n",
    "        print('Name :- {}' .format(self.name))\n",
    "        print('Age :- {}' .format(self.age))\n",
    "        print('Gender :- {}' .format(self.gender))\n",
    " \n",
    "        \n",
    "        \n",
    "        \n",
    "class student(person): # Child Class\n",
    "    def __init__ (self,name,age,gender,studentid ,fees):\n",
    "        person.__init__ (self,name,age,gender)\n",
    "        self.studentid  = studentid\n",
    "        self.fees = fees\n",
    "    \n",
    "    def StudentInfo (self):\n",
    "        print('Student ID :- {}' .format(self.studentid ))\n",
    "        print('Fees :- {}' .format(self.fees))\n",
    "        \n",
    "        \n",
    "stud1 = student('Asif' , 24 , 'Male' , 123 , 1200)\n",
    "print('Student Details' )\n",
    "print('---------------' )\n",
    "stud1.PersonInfo ()    # PersonInfo() method presnt in Parent Class will be access\n",
    "stud1.StudentInfo ()\n",
    "print()\n",
    "3/25/2021 Python - Jupyter Notebook\n",
    "localhost:8889/notebooks/Documents/GitHub/Public/Python/Python.ipynb 84/118"
   ]
  },
  {
   "cell_type": "code",
   "execution_count": null,
   "id": "636d4266",
   "metadata": {},
   "outputs": [],
   "source": [
    "182]:\n",
    "Multi-level Inheritance\n",
    "In this type of inheritance, a class can inherit from a child class or derived class.\n",
    "Multilevel Inheritance can be of any depth in pythonName :- Asif  \n",
    "Age :- 24  \n",
    "Gender :- Male  \n",
    "Student ID :- 123  \n",
    "Fees :- 1200  # super() builtin function allows us to access methods of the base class.\n",
    " \n",
    "class person:   # Parent Class\n",
    "    def __init__ (self, name , age , gender):\n",
    "        self.name = name\n",
    "        self.age = age\n",
    "        self.gender = gender\n",
    "    \n",
    "    def PersonInfo (self):\n",
    "        print('Name :- {}' .format(self.name))\n",
    "        print('Age :- {}' .format(self.age))\n",
    "        print('Gender :- {}' .format(self.gender))\n",
    " \n",
    "        \n",
    "        \n",
    "        \n",
    "class student(person): # Child Class\n",
    "    def __init__ (self,name,age,gender,studentid ,fees):\n",
    "        super().__init__ (name,age,gender)  \n",
    "        self.studentid  = studentid\n",
    "        self.fees = fees\n",
    "    \n",
    "    def StudentInfo (self):\n",
    "        super().PersonInfo ()\n",
    "        print('Student ID :- {}' .format(self.studentid ))\n",
    "        print('Fees :- {}' .format(self.fees))\n",
    "        \n",
    "stud = student('Asif' , 24 , 'Male' , 123 , 1200)\n",
    "print('Student Details' )\n",
    "print('---------------' )\n",
    "stud.StudentInfo ()\n",
    "3/25/2021 Python - Jupyter Notebook\n",
    "localhost:8889/notebooks/Documents/GitHub/Public/Python/Python.ipynb 85/118\n",
    "\n",
    "3/25/2021 Python - Jupyter Notebook\n",
    "localhost:8889/notebooks/Documents/GitHub/Public/Python/Python.ipynb 86/118\n",
    "\n",
    "3/25/2021 Python - Jupyter Notebook\n",
    "localhost:8889/notebooks/Documents/GitHub/Public/Python/Python.ipynb 87/118"
   ]
  },
  {
   "cell_type": "code",
   "execution_count": null,
   "id": "72621375",
   "metadata": {},
   "outputs": [],
   "source": [
    "196]: class person:   # Parent Class\n",
    "    def __init__ (self, name , age , gender):\n",
    "        self.name = name\n",
    "        self.age = age\n",
    "        self.gender = gender\n",
    "    \n",
    "    def PersonInfo (self):\n",
    "        print('Name :- {}' .format(self.name))\n",
    "        print('Age :- {}' .format(self.age))\n",
    "        print('Gender :- {}' .format(self.gender))\n",
    " \n",
    "        \n",
    "        \n",
    "        \n",
    "class employee (person): # Child Class\n",
    "    def __init__ (self,name,age,gender,empid,salary):\n",
    "        person.__init__ (self,name,age,gender)\n",
    "        self.empid = empid\n",
    "        self.salary = salary\n",
    "    \n",
    "    def employeeInfo (self):\n",
    "        print('Employee ID :- {}' .format(self.empid))\n",
    "        print('Salary :- {}' .format(self.salary))\n",
    "        \n",
    "        \n",
    " \n",
    "        \n",
    "class fulltime (employee ): # Grand Child Class\n",
    "    def __init__ (self,name,age,gender,empid,salary,WorkExperience ):\n",
    "        employee .__init__ (self,name,age,gender,empid,salary)\n",
    "        self.WorkExperience  = WorkExperience\n",
    "    \n",
    "    def FulltimeInfo (self):\n",
    "        print('Work Experience :- {}' .format(self.WorkExperience ))\n",
    "        \n",
    "        \n",
    "        \n",
    " \n",
    "class contractual (employee ): # Grand Child Class\n",
    "    def __init__ (self,name,age,gender,empid,salary,ContractExpiry ):\n",
    "        employee .__init__ (self,name,age,gender,empid,salary)\n",
    "        self.ContractExpiry  = ContractExpiry\n",
    "    \n",
    "    def ContractInfo (self):\n",
    "        print('Contract Expiry :- {}' .format(self.ContractExpiry ))\n",
    " \n",
    "        \n",
    "print('Contractual Employee Details' )\n",
    "print('****************************' )\n",
    "contract1  = contractual ('Basit' , 36 , 'Male' , 456 , 80000,'21-12-2021' )\n",
    "contract1 .PersonInfo ()\n",
    "contract1 .employeeInfo ()\n",
    "contract1 .ContractInfo ()\n",
    " \n",
    "print('\\n \\n')\n",
    " \n",
    "3/25/2021 Python - Jupyter Notebook\n",
    "localhost:8889/notebooks/Documents/GitHub/Public/Python/Python.ipynb 88/118Multiple Inheritance\n",
    "Multiple inheritance is a feature in which a class (derived class) can inherit attributes and\n",
    "methods from more than one parent class.\n",
    "The derived class inherits all the features of the base case.Contractual Employee Details  \n",
    "****************************  \n",
    "Name :- Basit  \n",
    "Age :- 36  \n",
    "Gender :- Male  \n",
    "Employee ID :- 456  \n",
    "Salary :- 80000  \n",
    "Contract Expiry :- 21-12-2021  \n",
    " \n",
    "Fulltime Employee Details  \n",
    "****************************  \n",
    "Name :- Asif  \n",
    "Age :- 22  \n",
    "Gender :- Male  \n",
    "Employee ID :- 567  \n",
    "Salary :- 70000  \n",
    "Work Experience :- 12  print('Fulltime Employee Details' )\n",
    "print('****************************' )\n",
    "fulltim1 = fulltime ('Asif' , 22 , 'Male' , 567 , 70000, 12)\n",
    "fulltim1 .PersonInfo ()\n",
    "fulltim1 .employeeInfo ()\n",
    "fulltim1 .FulltimeInfo ()\n",
    "3/25/2021 Python - Jupyter Notebook\n",
    "localhost:8889/notebooks/Documents/GitHub/Public/Python/Python.ipynb 89/118\n",
    "\n",
    "3/25/2021 Python - Jupyter Notebook\n",
    "localhost:8889/notebooks/Documents/GitHub/Public/Python/Python.ipynb 90/118"
   ]
  },
  {
   "cell_type": "markdown",
   "id": "17a9be5c",
   "metadata": {},
   "source": [
    "120]:"
   ]
  },
  {
   "cell_type": "code",
   "execution_count": null,
   "id": "6e5dbeca",
   "metadata": {},
   "outputs": [],
   "source": [
    "215]:\n",
    "Method Overriding\n",
    "Overriding is a very important part of object oreinted programming because it makes\n",
    "inheritance exploit its full power .My Name :-  Bill  \n",
    "Father : John  \n",
    "Mother : Kristen  \n",
    "2020-08-09 23:48:55  # Super Class\n",
    "class Father:\n",
    "    def __init__ (self):\n",
    "        self.fathername  = str()\n",
    " \n",
    "    \n",
    "# Super Class\n",
    "class Mother:\n",
    "    def __init__ (self):\n",
    "        self.mothername  = str()\n",
    "    \n",
    "    \n",
    "# Sub Class\n",
    "class Son(Father, Mother):\n",
    "    name = str()\n",
    "    def show(self):\n",
    "        print('My Name :- ' ,self.name)\n",
    "        print(\"Father :\" , self.fathername )\n",
    "        print(\"Mother :\" , self.mothername )\n",
    " \n",
    " \n",
    "s1 = Son()\n",
    "s1.name = 'Bill'\n",
    "s1.fathername  = \"John\"\n",
    "s1.mothername  = \"Kristen\"\n",
    "s1.show()\n",
    "class Date:\n",
    "    def __init__ (self,date):\n",
    "        self.date = date    \n",
    "        \n",
    "class Time:\n",
    "    def __init__ (self,time):\n",
    "        self.time = time\n",
    " \n",
    "class timestamp (CurrentDate ,CurrentTime ):\n",
    "    def __init__ (self,date,time):\n",
    "        CurrentDate .__init__ (self,date)\n",
    "        CurrentTime .__init__ (self,time)\n",
    "        DateTime  = self.date + ' ' + self.time\n",
    "        print(DateTime )\n",
    " \n",
    "datetime1  = timestamp ( '2020-08-09' , '23:48:55' )\n",
    "3/25/2021 Python - Jupyter Notebook\n",
    "localhost:8889/notebooks/Documents/GitHub/Public/Python/Python.ipynb 91/118Overriding is the ability of a class (Sub Class / Child Class / Derived Class) to change the\n",
    "implementation of a method provided by one of its parent classes.\n",
    "When a method in a subclass has the same name, same parameter and same return type as\n",
    "a method in its super-class, then the method in the subclass is said to override the method in\n",
    "the super-class.\n",
    "The version of a method that is executed will be determined by the object that is used to\n",
    "invoke it.\n",
    "If an object of a parent class is used to invoke the method, then the version in the parent class\n",
    "will be executed, but if an object of the subclass is used to invoke the method, then the\n",
    "version in the child class will be executed."
   ]
  },
  {
   "cell_type": "code",
   "execution_count": null,
   "id": "22335c08",
   "metadata": {},
   "outputs": [],
   "source": [
    "173]:\n",
    "Container\n",
    "Containers are data structures that hold data values.\n",
    "They support membership tests which means we can check whether a value exists in the\n",
    "container or not.\n",
    "Generally containers provide a way to access the contained objects and to iterate over them.\n",
    "Examples of containers include tuple, list, set, dict, strHello Student  \n",
    "Hello Person  class person:   # Parent Class\n",
    "    def __init__ (self, name , age , gender):\n",
    "        self.name = name\n",
    "        self.age = age\n",
    "        self.gender = gender\n",
    "        \n",
    "    def greet(self):\n",
    "        print(\"Hello Person\" )\n",
    "        \n",
    "        \n",
    "        \n",
    "class student(person): # Child Class\n",
    "    def __init__ (self,name,age,gender,studentid ,fees):\n",
    "        person.__init__ (self,name,age,gender)\n",
    "        self.studentid  = studentid\n",
    "        self.fees = fees\n",
    " \n",
    "    def greet(self):\n",
    "        print(\"Hello Student\" )\n",
    "        \n",
    "    \n",
    "stud = student('Gabriel'  , 56 , 'Male' , 45 , 345678)\n",
    "stud.greet() # greet() method defined in subclass will be triggered as \"stud\" is \n",
    " \n",
    "person1 = person('Gabriel'  , 56 , 'Male')\n",
    "person1.greet() # greet() method defined in superclass will be triggered because \n",
    "3/25/2021 Python - Jupyter Notebook\n",
    "localhost:8889/notebooks/Documents/GitHub/Public/Python/Python.ipynb 92/118apes o  cotaes cude tup e, st, set, d ct, st"
   ]
  },
  {
   "cell_type": "markdown",
   "id": "58dd016f",
   "metadata": {},
   "source": [
    "124]:"
   ]
  },
  {
   "cell_type": "markdown",
   "id": "a6a6117a",
   "metadata": {},
   "source": [
    "128]:"
   ]
  },
  {
   "cell_type": "markdown",
   "id": "720546e2",
   "metadata": {},
   "source": [
    "127]:"
   ]
  },
  {
   "cell_type": "markdown",
   "id": "71624652",
   "metadata": {},
   "source": [
    "130]:"
   ]
  },
  {
   "cell_type": "markdown",
   "id": "020dde84",
   "metadata": {},
   "source": [
    "131]:"
   ]
  },
  {
   "cell_type": "markdown",
   "id": "329190fb",
   "metadata": {},
   "source": [
    "132]:"
   ]
  },
  {
   "cell_type": "markdown",
   "id": "37af93a9",
   "metadata": {},
   "source": [
    "133]:"
   ]
  },
  {
   "cell_type": "code",
   "execution_count": null,
   "id": "aa6160ec",
   "metadata": {},
   "outputs": [],
   "source": [
    "134]:\n",
    "Iterable & Iterator\n",
    "An iterable  is an object that can be iterated upon. It can return an iterator object with the\n",
    "purpose of traversing through all the elements of an iterable.\n",
    "An iterable object implements __iter ()__ which is expected to return an iterator object. The\n",
    "iterator object uses the __next ()__ method. Every time next()  is called next element in the\n",
    "iterator stream is returned. When there are no more elements available StopIteration\n",
    "exception  is encountered. So any object that has a __next ()__ method is called an iterator .Out[124]: True\n",
    "---------------------------------------------------------------------------  \n",
    "AssertionError                             Traceback (most recent call last)  \n",
    "<ipython-input-127-f7bcea8c4682>  in <module>  \n",
    "----> 1 assert 'john1' in list1 \n",
    "AssertionError :  \n",
    "Out[130]: {'Name': 'Asif', 'ID': 12345, 'DOB': 1991, 'Address': 'Hilsinki'}\n",
    "Out[131]: False\n",
    "Out[132]: True\n",
    "Out[133]: True\n",
    "Out[134]: Truelist1 = ['asif' , 'john' , 'Michael'  , 'Basit']\n",
    " \n",
    "'asif' in list1  # Membership check using 'in' operator\n",
    "assert 'john' in list1  # If the condition returns true the program does nothing \n",
    "assert 'john1' in list1 # If the condition returns false, Assert will stop the pr\n",
    "mydict = {'Name':'Asif' , 'ID': 12345 , 'DOB': 1991 , 'Address'  : 'Hilsinki' }\n",
    "mydict\n",
    "'Asif' in mydict # Dictionary membership will always check the keys\n",
    "'Name' in mydict # Dictionary membership will always check the keys\n",
    "'DOB' in mydict\n",
    "mystr = 'asifbhat'\n",
    " \n",
    "'as' in mystr  # Check if substring is present\n",
    "3/25/2021 Python - Jupyter Notebook\n",
    "localhost:8889/notebooks/Documents/GitHub/Public/Python/Python.ipynb 93/118Python lists, tuples, dictionaries and sets are all examples of iterable objects.\n",
    "\n",
    "3/25/2021 Python - Jupyter Notebook\n",
    "localhost:8889/notebooks/Documents/GitHub/Public/Python/Python.ipynb 94/118"
   ]
  },
  {
   "cell_type": "markdown",
   "id": "bb9f146c",
   "metadata": {},
   "source": [
    "236]:"
   ]
  },
  {
   "cell_type": "markdown",
   "id": "ade25e28",
   "metadata": {},
   "source": [
    "238]:"
   ]
  },
  {
   "cell_type": "markdown",
   "id": "d458d0f9",
   "metadata": {},
   "source": [
    "247]:"
   ]
  },
  {
   "cell_type": "code",
   "execution_count": null,
   "id": "e5d7a817",
   "metadata": {},
   "outputs": [],
   "source": [
    "241]:Asif \n",
    "Basit \n",
    "John \n",
    "Michael \n",
    "---------------------------------------------------------------------------  \n",
    "StopIteration                              Traceback (most recent call last)  \n",
    "<ipython-input-236-a2095e242a65>  in <module>  \n",
    "      5 print(next(list_iter )) \n",
    "      6 print(next(list_iter )) \n",
    "----> 7 print(next(list_iter )) \n",
    " \n",
    "StopIteration :  \n",
    " \n",
    "Asif \n",
    "Basit \n",
    "John \n",
    "Michael \n",
    "Asif \n",
    "Basit \n",
    "John \n",
    "Michael \n",
    "Asif \n",
    "Basit \n",
    "John \n",
    "Michael mylist = ['Asif' , 'Basit' , 'John' , 'Michael' ]\n",
    "list_iter  = iter(mylist) # Create an iterator object using iter()\n",
    "print(next(list_iter ))  # return first element in the iterator stream\n",
    "print(next(list_iter ))  # return next element in the iterator stream\n",
    "print(next(list_iter ))\n",
    "print(next(list_iter ))\n",
    "print(next(list_iter ))\n",
    "mylist = ['Asif' , 'Basit' , 'John' , 'Michael' ]\n",
    "list_iter  = iter(mylist)     # Create an iterator object using iter()\n",
    "print(list_iter .__next__ ())  # return first element in the iterator stream\n",
    "print(list_iter .__next__ ())  # return next element in the iterator stream\n",
    "print(list_iter .__next__ ())\n",
    "print(list_iter .__next__ ())\n",
    "mylist = ['Asif' , 'Basit' , 'John' , 'Michael' ]\n",
    "list_iter  = iter(mylist)     # Create an iterator object using iter()\n",
    "for i in list_iter :\n",
    "    print(i)\n",
    "# Looping Through an Iterable (list) using for loop\n",
    " \n",
    "mylist = ['Asif' , 'Basit' , 'John' , 'Michael' ]\n",
    " \n",
    "for i in mylist:\n",
    "    print(i)\n",
    "3/25/2021 Python - Jupyter Notebook\n",
    "localhost:8889/notebooks/Documents/GitHub/Public/Python/Python.ipynb 95/118"
   ]
  },
  {
   "cell_type": "markdown",
   "id": "0c746306",
   "metadata": {},
   "source": [
    "242]:"
   ]
  },
  {
   "cell_type": "code",
   "execution_count": null,
   "id": "0daf61b2",
   "metadata": {},
   "outputs": [],
   "source": [
    "243]:Asif \n",
    "Basit \n",
    "John \n",
    "Michael \n",
    "H \n",
    "e \n",
    "l \n",
    "l \n",
    "o \n",
    "  \n",
    "P \n",
    "y \n",
    "t \n",
    "h \n",
    "o \n",
    "n # Looping Through an Iterable (tuple) using for loop\n",
    " \n",
    "mytuple = ('Asif' , 'Basit' , 'John' , 'Michael' )\n",
    " \n",
    "for i in mytuple:\n",
    "    print(i)\n",
    "# Looping Through an Iterable (string) using for loop\n",
    " \n",
    "mystr = \"Hello Python\"\n",
    " \n",
    "for i in mystr:\n",
    "    print(i)\n",
    "3/25/2021 Python - Jupyter Notebook\n",
    "localhost:8889/notebooks/Documents/GitHub/Public/Python/Python.ipynb 96/118"
   ]
  },
  {
   "cell_type": "code",
   "execution_count": null,
   "id": "d205b604",
   "metadata": {},
   "outputs": [],
   "source": [
    "255]:\n",
    "1 \n",
    "2 \n",
    "3 \n",
    "4 \n",
    "5 \n",
    "6 \n",
    "7 \n",
    "8 \n",
    "9 \n",
    "10 # This iterator produces all natural numbers from 1 to 10.\n",
    "class myiter:\n",
    "     def __init__ (self):\n",
    "            self.num = 0\n",
    "     \n",
    "     def __iter__ (self):\n",
    "            self.num = 1\n",
    "            return self\n",
    "     \n",
    "     def __next__ (self):\n",
    "        if self.num <= 10:\n",
    "            val = self.num\n",
    "            self.num += 1\n",
    "            return val\n",
    "        else:\n",
    "            raise StopIteration\n",
    " \n",
    "mynum = myiter()\n",
    "iter1 = iter(mynum)\n",
    "for i in iter1:\n",
    "    print(i)\n",
    "3/25/2021 Python - Jupyter Notebook\n",
    "localhost:8889/notebooks/Documents/GitHub/Public/Python/Python.ipynb 97/118"
   ]
  },
  {
   "cell_type": "code",
   "execution_count": null,
   "id": "87ac2ad8",
   "metadata": {},
   "outputs": [],
   "source": [
    "256]:\n",
    "1 \n",
    "3 \n",
    "5 \n",
    "7 \n",
    "9 \n",
    "11 \n",
    "13 \n",
    "15 \n",
    "17 \n",
    "19 # This iterator will produce odd numbers\n",
    "class myiter:\n",
    "     def __init__ (self):\n",
    "            self.num = 0\n",
    "     \n",
    "     def __iter__ (self):\n",
    "            self.num = 1\n",
    "            return self\n",
    "     \n",
    "     def __next__ (self):\n",
    "        if self.num <= 20 :\n",
    "            val = self.num\n",
    "            self.num += 2\n",
    "            return val\n",
    "        else:\n",
    "            raise StopIteration\n",
    " \n",
    "myodd = myiter()\n",
    "iter1 = iter(myodd)\n",
    "for i in iter1:\n",
    "    print(i)\n",
    "3/25/2021 Python - Jupyter Notebook\n",
    "localhost:8889/notebooks/Documents/GitHub/Public/Python/Python.ipynb 98/118"
   ]
  },
  {
   "cell_type": "code",
   "execution_count": null,
   "id": "60e41ad7",
   "metadata": {},
   "outputs": [],
   "source": [
    "257]:\n",
    "Generator\n",
    "Python generators are easy way of creating iterators. It generates values one at a time from a\n",
    "given sequence instead of returning the entire sequence at once.\n",
    "It is a special type of function which returns an iterator object.\n",
    "In a generator function, a yield  statement is used rather than a return  statement.\n",
    "The generator function cannot include the return keyword. If we include it then it will terminate\n",
    "the execution of the function.\n",
    "The dif ference between yield  and return  is that once yield returns a value the function is\n",
    "paused and the control is transferred to the caller .Local variables and their states are\n",
    "remembered between successive calls. In case of the return statement value is returned and\n",
    "the execution of the function is terminated.\n",
    "Methods like iter() and next() are implemented automatically in generator function.1 \n",
    "1 \n",
    "2 \n",
    "3 \n",
    "5 \n",
    "8 \n",
    "13 \n",
    "21 \n",
    "34 # This iterator will produce fibonacci numbers\n",
    " \n",
    "class myfibonacci :\n",
    "     def __init__ (self):\n",
    "            self.prev = 0\n",
    "            self.cur = 0\n",
    "     \n",
    "     def __iter__ (self):\n",
    "            self.prev = 0\n",
    "            self.cur = 1\n",
    "            return self\n",
    "     \n",
    "     def __next__ (self):\n",
    "        if self.cur <= 50:\n",
    "            val = self.cur\n",
    "            self.cur += self.prev\n",
    "            self.prev = val\n",
    "            return val\n",
    "        else:\n",
    "            raise StopIteration\n",
    " \n",
    "myfibo = myfibonacci ()\n",
    "iter1 = iter(myfibo)\n",
    "for i in iter1:\n",
    "    print(i)\n",
    "3/25/2021 Python - Jupyter Notebook\n",
    "localhost:8889/notebooks/Documents/GitHub/Public/Python/Python.ipynb 99/118__ ()__ __ ()__ p yg\n",
    "Simple generators can be easily created using generator expressions . Generator\n",
    "expressions create anonymous generator functions like lambda.\n",
    "The syntax for generator expression is similar to that of a list comprehension but the only\n",
    "difference is square brackets are replaced with round parentheses. Also list comprehension\n",
    "produces the entire list while the generator expression produces one item at a time which is\n",
    "more memory ef ficient than list comprehension."
   ]
  },
  {
   "cell_type": "code",
   "execution_count": null,
   "id": "88d44ea1",
   "metadata": {},
   "outputs": [],
   "source": [
    "258]:\n",
    "1 \n",
    "2 \n",
    "3 \n",
    "4 \n",
    "5 \n",
    "---------------------------------------------------------------------------  \n",
    "StopIteration                              Traceback (most recent call last)  \n",
    "<ipython-input-258-4c1c399db6dd>  in <module>  \n",
    "     24 print(next(mygen1)) \n",
    "     25 print(next(mygen1)) \n",
    "---> 26 print(next(mygen1)) \n",
    " \n",
    "StopIteration :  \n",
    " # Simple generator function that will generate numbers from 1 to 5.\n",
    "def mygen():\n",
    "    n = 1\n",
    "    yield n\n",
    " \n",
    "    n += 1\n",
    "    yield n\n",
    " \n",
    "    n += 1\n",
    "    yield n\n",
    " \n",
    "    n += 1\n",
    "    yield n\n",
    "    \n",
    "    n += 1\n",
    "    yield n\n",
    "    \n",
    "mygen1 = mygen()\n",
    " \n",
    "print(next(mygen1))\n",
    "print(next(mygen1))\n",
    "print(next(mygen1))\n",
    "print(next(mygen1))\n",
    "print(next(mygen1)) #Function will terminate here as all 5 values have been retur\n",
    "print(next(mygen1)) # As function is already terminated, StopIteration is raised \n",
    "3/25/2021 Python - Jupyter Notebook\n",
    "localhost:8889/notebooks/Documents/GitHub/Public/Python/Python.ipynb 100/118"
   ]
  },
  {
   "cell_type": "markdown",
   "id": "8e679658",
   "metadata": {},
   "source": [
    "272]:"
   ]
  },
  {
   "cell_type": "code",
   "execution_count": null,
   "id": "5d2721fd",
   "metadata": {},
   "outputs": [],
   "source": [
    "274]:1 \n",
    "2 \n",
    "3 \n",
    "4 \n",
    "5 \n",
    "6 \n",
    "7 \n",
    "8 \n",
    "9 \n",
    "10 \n",
    "11 \n",
    "12 \n",
    "13 \n",
    "14 \n",
    "15 \n",
    "16 \n",
    "17 \n",
    "18 \n",
    "19 \n",
    "Out[274]: [1, 2, 3, 4, 5, 6, 7, 8, 9, 10, 11, 12, 13, 14, 15, 16, 17, 18, 19]# Simple generator function that will generate natural numbers from 1 to 20.\n",
    "def mygen():\n",
    "    for i in range(1,20):\n",
    "        yield i\n",
    " \n",
    "    \n",
    "mygen1 = mygen()\n",
    " \n",
    "for i in mygen1:\n",
    "    print(i)\n",
    "num = list(mygen()) # Store all values generated by generator function in a list\n",
    "num\n",
    "3/25/2021 Python - Jupyter Notebook\n",
    "localhost:8889/notebooks/Documents/GitHub/Public/Python/Python.ipynb 101/118"
   ]
  },
  {
   "cell_type": "markdown",
   "id": "e226032c",
   "metadata": {},
   "source": [
    "275]:"
   ]
  },
  {
   "cell_type": "markdown",
   "id": "3b8d92c3",
   "metadata": {},
   "source": [
    "276]:"
   ]
  },
  {
   "cell_type": "code",
   "execution_count": null,
   "id": "fdab8c88",
   "metadata": {},
   "outputs": [],
   "source": [
    "277]:2 \n",
    "4 \n",
    "6 \n",
    "8 \n",
    "10 \n",
    "12 \n",
    "14 \n",
    "16 \n",
    "18 \n",
    "0 \n",
    "1 \n",
    "1 \n",
    "2 \n",
    "3 \n",
    "5 \n",
    "8 \n",
    "13 \n",
    "21 \n",
    "34 \n",
    "Out[277]: [0, 1, 1, 2, 3, 5, 8, 13, 21, 34]# Simple generator function that will generate even numbers from 1 to 20.\n",
    "def mygen():\n",
    "    for i in range(1,20):\n",
    "        if i%2 == 0:\n",
    "            yield i\n",
    " \n",
    "    \n",
    "mygen1 = mygen()\n",
    " \n",
    "for i in mygen1:\n",
    "    print(i)\n",
    "# This Generator function will generate ten numbers of fibonacci series.\n",
    "def myfibo():\n",
    "    num1 , num2 = 0,1\n",
    "    count = 0\n",
    "    while count < 10:\n",
    "            yield num1\n",
    "            num1,num2 = num2,num1+num2\n",
    "            count+=1\n",
    " \n",
    "            \n",
    "fibo = myfibo()\n",
    " \n",
    "for i in fibo:\n",
    "    print(i)\n",
    "list1 = list(myfibo()) # Store the fibonacci series in a list\n",
    "list1\n",
    "3/25/2021 Python - Jupyter Notebook\n",
    "localhost:8889/notebooks/Documents/GitHub/Public/Python/Python.ipynb 102/118"
   ]
  },
  {
   "cell_type": "markdown",
   "id": "0f1d21dc",
   "metadata": {},
   "source": [
    "283]:"
   ]
  },
  {
   "cell_type": "markdown",
   "id": "0c2e7eb6",
   "metadata": {},
   "source": [
    "280]:"
   ]
  },
  {
   "cell_type": "markdown",
   "id": "27551300",
   "metadata": {},
   "source": [
    "282]:"
   ]
  },
  {
   "cell_type": "code",
   "execution_count": null,
   "id": "f45450fc",
   "metadata": {},
   "outputs": [],
   "source": [
    "288]:\n",
    "Decorator\n",
    "Decorator  is very powerful and useful tool in Python as it allows us to wrap another function in\n",
    "order to extend the behavior of wrapped function without permanently modifying it.Out[283]: [0, 1, 4, 9, 16, 25, 36, 49, 64, 81]\n",
    "Out[280]: <generator object <genexpr> at 0x000001EF4B639848>\n",
    "1 \n",
    "4 \n",
    "9 \n",
    "16 \n",
    "25 \n",
    "0 \n",
    "2 \n",
    "4 \n",
    "6 \n",
    "8 \n",
    "10 \n",
    "12 \n",
    "14 \n",
    "16 \n",
    "18 \n",
    "20 \n",
    "22 \n",
    "24 \n",
    "26 \n",
    "28 \n",
    "30 \n",
    "32 \n",
    "34 \n",
    "36 \n",
    "38 list2 = [i**2 for i in range(10)]  # List comprehension\n",
    "list2\n",
    "gen2 = (i**2 for i in range(10)) # Generator expression\n",
    "gen2\n",
    "print(next(gen2))\n",
    "print(next(gen2))\n",
    "print(next(gen2))\n",
    "print(next(gen2))\n",
    "print(next(gen2))\n",
    "gen2 = (i for i in range(40) if i%2 == 0) # Generator expression to generate even\n",
    "gen2\n",
    " \n",
    "for i in gen2:\n",
    "    print(i)\n",
    "3/25/2021 Python - Jupyter Notebook\n",
    "localhost:8889/notebooks/Documents/GitHub/Public/Python/Python.ipynb 103/118In Decorators functions are taken as the argument into another function and then called inside the\n",
    "wrapper function.\n",
    "Advantages  -\n",
    "Logging & debugging\n",
    "Access control and authentication"
   ]
  },
  {
   "cell_type": "markdown",
   "id": "c80eb7de",
   "metadata": {},
   "source": [
    "2]:"
   ]
  },
  {
   "cell_type": "markdown",
   "id": "da041e3c",
   "metadata": {},
   "source": [
    "6]:"
   ]
  },
  {
   "cell_type": "code",
   "execution_count": null,
   "id": "6d36153b",
   "metadata": {},
   "outputs": [],
   "source": [
    "20]:Result is :-  2  \n",
    "Result is :-  -2  \n",
    "Result is :-  2  \n",
    "Result is :-  2  def subtract (num1 , num2):\n",
    "    res = num1 - num2\n",
    "    print('Result is :- ' , res)\n",
    "    \n",
    "subtract (4,2)\n",
    "subtract (2,4)\n",
    "''' We now want subtract() function to always subtract lower number from higher o\n",
    "    So when we pass (2,4) it should perform 4-2 not 2-4. To acheive this we will \n",
    "    \n",
    " \n",
    "def sub_decorator (func):\n",
    "    def wrapper(num1,num2):\n",
    "        if num1 < num2:\n",
    "            num1,num2 = num2,num1\n",
    "            return func(num1,num2)\n",
    "    return wrapper\n",
    "            \n",
    "sub = sub_decorator (subtract )\n",
    " \n",
    "sub(2,4)\n",
    "@sub_decorator    # we can use @ syntax for decorating a function in one step\n",
    "def subtract (num1 , num2):\n",
    "    res = num1 - num2\n",
    "    print('Result is :- ' , res)\n",
    "subtract (2,4)\n",
    "3/25/2021 Python - Jupyter Notebook\n",
    "localhost:8889/notebooks/Documents/GitHub/Public/Python/Python.ipynb 104/118"
   ]
  },
  {
   "cell_type": "code",
   "execution_count": null,
   "id": "358056d7",
   "metadata": {},
   "outputs": [],
   "source": [
    "60]:\n",
    "Linux installation has started  \n",
    " \n",
    "Windows installation has started  \n",
    " \n",
    "Mac installation has started  \n",
    " \n",
    " \n",
    "Please accept terms & conditions  \n",
    "Linux installation has started  \n",
    " \n",
    "Please accept terms & conditions  \n",
    "Windows installation has started  \n",
    "  \n",
    "Please accept terms & conditions  \n",
    "Mac installation has started  \n",
    " def InstallLinux ():\n",
    "    print('Linux installation has started \\n' )\n",
    "    \n",
    "def InstallWindows ():\n",
    "    print('Windows installation has started \\n' )\n",
    "    \n",
    "def InstallMac ():\n",
    "    print('Mac installation has started \\n' )\n",
    " \n",
    "    \n",
    "InstallLinux ()\n",
    "InstallWindows ()\n",
    "InstallMac ()\n",
    " \n",
    "print()\n",
    " \n",
    " \n",
    "''' Now suppose if we want to print message :- \"Please accept terms & conditions\"\n",
    "    then easy way will be to create one decorator function which will present thi\n",
    "  \n",
    "    \n",
    " \n",
    "def InstallDecorator (func):\n",
    "    def wrapper():\n",
    "        print('Please accept terms & conditions' )\n",
    "        return func()\n",
    "    return wrapper()\n",
    " \n",
    "@InstallDecorator     # we can use @ syntax for decorating a function in one step\n",
    "def InstallLinux ():\n",
    "    print('Linux installation has started \\n' )\n",
    "  \n",
    "@InstallDecorator\n",
    "def InstallWindows ():\n",
    "    print('Windows installation has started \\n ' )\n",
    " \n",
    "@InstallDecorator\n",
    "def InstallMac ():\n",
    "    print('Mac installation has started \\n' )\n",
    "3/25/2021 Python - Jupyter Notebook\n",
    "localhost:8889/notebooks/Documents/GitHub/Public/Python/Python.ipynb 105/118"
   ]
  },
  {
   "cell_type": "code",
   "execution_count": null,
   "id": "80802985",
   "metadata": {},
   "outputs": [],
   "source": [
    "69]:\n",
    "File Management\n",
    "Python has several built-in modules and functions for creating,\n",
    "reading, updating and deleting files.\n",
    "Please accept terms & conditions...  \n",
    " \n",
    "Please enter correct license key...  \n",
    " \n",
    "Please enter partitioning choice...  \n",
    " \n",
    "Linux installation has started  \n",
    " # Apply multiple decorator on a single function\n",
    " \n",
    "def InstallDecorator1 (func):\n",
    "    def wrapper():\n",
    "        print('Please accept terms & conditions...\\n' )\n",
    "        func()\n",
    "    return wrapper\n",
    " \n",
    "def InstallDecorator2 (func):\n",
    "    def wrapper():\n",
    "        print('Please enter correct license key...\\n' )\n",
    "        return func()\n",
    "    return wrapper\n",
    " \n",
    " \n",
    "def InstallDecorator3 (func):\n",
    "    def wrapper():\n",
    "        print('Please enter partitioning choice...\\n' )\n",
    "        return func()\n",
    "    return wrapper\n",
    " \n",
    "@InstallDecorator1\n",
    "@InstallDecorator2\n",
    "@InstallDecorator3\n",
    "def InstallLinux ():\n",
    "    print('Linux installation has started \\n' )\n",
    " \n",
    "InstallLinux ()\n",
    "3/25/2021 Python - Jupyter Notebook\n",
    "localhost:8889/notebooks/Documents/GitHub/Public/Python/Python.ipynb 106/118Open File"
   ]
  },
  {
   "cell_type": "markdown",
   "id": "8847e1e2",
   "metadata": {},
   "source": [
    "69]:"
   ]
  },
  {
   "cell_type": "markdown",
   "id": "15ebbe63",
   "metadata": {},
   "source": [
    "70]:"
   ]
  },
  {
   "cell_type": "markdown",
   "id": "c50d3e41",
   "metadata": {},
   "source": [
    "71]:"
   ]
  },
  {
   "cell_type": "markdown",
   "id": "ba814be0",
   "metadata": {},
   "source": [
    "72]:\n",
    "Close File"
   ]
  },
  {
   "cell_type": "markdown",
   "id": "6616b7d7",
   "metadata": {},
   "source": [
    "73]:\n",
    "Read File"
   ]
  },
  {
   "cell_type": "markdown",
   "id": "42c36f04",
   "metadata": {},
   "source": [
    "84]:"
   ]
  },
  {
   "cell_type": "markdown",
   "id": "b534a8a5",
   "metadata": {},
   "source": [
    "85]:"
   ]
  },
  {
   "cell_type": "code",
   "execution_count": null,
   "id": "c6fb7891",
   "metadata": {},
   "outputs": [],
   "source": [
    "86]:Out[85]: 'Python generators are easy way of creating iterators. It generates values one  \n",
    "at a time from a given sequence instead of returning the entire sequence at onc\n",
    "e.\\nIt is a special type of function which returns an iterator object.\\nIn a ge\n",
    "nerator function, a yield statement is used rather than a return statement.\\nTh\n",
    "e generator function cannot include the return keyword. If we include it then i\n",
    "t will terminate the execution of the function.\\nThe difference between yield a\n",
    "nd return is that once yield returns a value the function is paused and the con\n",
    "trol is transferred to the caller.Local variables and their states are remember\n",
    "ed between successive calls. In case of the return statement value is returned  \n",
    "and the execution of the function is terminated.\\nMethods like __iter()__ and _\n",
    "_next()__ are implemented automatically in generator function.\\nSimple generato\n",
    "rs can be easily created using generator expressions. Generator expressions cre\n",
    "ate anonymous generator functions like lambda.\\nThe syntax for generator expres\n",
    "sion is similar to that of a list comprehension but the only difference is squa\n",
    "re brackets are replaced with round parentheses. Also list comprehension produc\n",
    "es the entire list while the generator expression produces one item at a time w\n",
    "hich is more memory efficient than list comprehension.'\n",
    "Out[86]: ''fileobj = open('test1.txt' )  # Open file in read/text mode\n",
    "fileobj = open('test1.txt' , 'r') # Open file in read mode\n",
    "fileobj = open('test1.txt' , 'w') # Open file in write mode\n",
    "fileobj = open('test1.txt' , 'a') # Open file in append mode\n",
    "fileobj.close()\n",
    "fileobj = open('test1.txt' ) \n",
    "fileobj.read() #Read whole file\n",
    "fileobj.read() #File cursor is already at the end of the file so it won't be able\n",
    "3/25/2021 Python - Jupyter Notebook\n",
    "localhost:8889/notebooks/Documents/GitHub/Public/Python/Python.ipynb 107/118"
   ]
  },
  {
   "cell_type": "markdown",
   "id": "9b817138",
   "metadata": {},
   "source": [
    "87]:"
   ]
  },
  {
   "cell_type": "markdown",
   "id": "438c4433",
   "metadata": {},
   "source": [
    "88]:"
   ]
  },
  {
   "cell_type": "markdown",
   "id": "220d88bb",
   "metadata": {},
   "source": [
    "89]:"
   ]
  },
  {
   "cell_type": "code",
   "execution_count": null,
   "id": "a1abb4c3",
   "metadata": {},
   "outputs": [],
   "source": [
    "90]:Out[87]: 'Python generators are easy way of creating iterators. It generates values one  \n",
    "at a time from a given sequence instead of returning the entire sequence at onc\n",
    "e.\\nIt is a special type of function which returns an iterator object.\\nIn a ge\n",
    "nerator function, a yield statement is used rather than a return statement.\\nTh\n",
    "e generator function cannot include the return keyword. If we include it then i\n",
    "t will terminate the execution of the function.\\nThe difference between yield a\n",
    "nd return is that once yield returns a value the function is paused and the con\n",
    "trol is transferred to the caller.Local variables and their states are remember\n",
    "ed between successive calls. In case of the return statement value is returned  \n",
    "and the execution of the function is terminated.\\nMethods like __iter()__ and _\n",
    "_next()__ are implemented automatically in generator function.\\nSimple generato\n",
    "rs can be easily created using generator expressions. Generator expressions cre\n",
    "ate anonymous generator functions like lambda.\\nThe syntax for generator expres\n",
    "sion is similar to that of a list comprehension but the only difference is squa\n",
    "re brackets are replaced with round parentheses. Also list comprehension produc\n",
    "es the entire list while the generator expression produces one item at a time w\n",
    "hich is more memory efficient than list comprehension.'\n",
    "Out[88]: 'generators are easy way of creating iterators. It generates values one at a ti\n",
    "me from a given sequence instead of returning the entire sequence at once.\\nIt  \n",
    "is a special type of function which returns an iterator object.\\nIn a generator  \n",
    "function, a yield statement is used rather than a return statement.\\nThe genera\n",
    "tor function cannot include the return keyword. If we include it then it will t\n",
    "erminate the execution of the function.\\nThe difference between yield and retur\n",
    "n is that once yield returns a value the function is paused and the control is  \n",
    "transferred to the caller.Local variables and their states are remembered betwe\n",
    "en successive calls. In case of the return statement value is returned and the  \n",
    "execution of the function is terminated.\\nMethods like __iter()__ and __next()_\n",
    "_ are implemented automatically in generator function.\\nSimple generators can b\n",
    "e easily created using generator expressions. Generator expressions create anon\n",
    "ymous generator functions like lambda.\\nThe syntax for generator expression is  \n",
    "similar to that of a list comprehension but the only difference is square brack\n",
    "ets are replaced with round parentheses. Also list comprehension produces the e\n",
    "ntire list while the generator expression produces one item at a time which is  \n",
    "more memory efficient than list comprehension.'\n",
    "Out[89]: 'Python generator'\n",
    "Out[90]: 16fileobj.seek(0) # Bring file cursor to initial position.\n",
    "fileobj.read()  \n",
    "fileobj.seek(7) # place file cursor at loc 7\n",
    "fileobj.read()\n",
    "fileobj.seek(0)\n",
    " \n",
    "fileobj.read(16) # Return the first 16 characters of the file\n",
    "fileobj.tell() # Get the file cursor position\n",
    "3/25/2021 Python - Jupyter Notebook\n",
    "localhost:8889/notebooks/Documents/GitHub/Public/Python/Python.ipynb 108/118"
   ]
  },
  {
   "cell_type": "markdown",
   "id": "15606c4d",
   "metadata": {},
   "source": [
    "91]:"
   ]
  },
  {
   "cell_type": "code",
   "execution_count": null,
   "id": "885448f2",
   "metadata": {},
   "outputs": [],
   "source": [
    "92]:Python generators are easy way of creating iterators. It generates values one a\n",
    "t a time from a given sequence instead of returning the entire sequence at onc\n",
    "e. \n",
    "It is a special type of function which returns an iterator object.  \n",
    "In a generator function, a yield statement is used rather than a return stateme\n",
    "nt. \n",
    "Out[92]: ['Python generators are easy way of creating iterators. It generates values one  \n",
    "at a time from a given sequence instead of returning the entire sequence at onc\n",
    "e.\\n', \n",
    "'It is a special type of function which returns an iterator object.\\n',  \n",
    "'In a generator function, a yield statement is used rather than a return state\n",
    "ment.\\n',  \n",
    "'The generator function cannot include the return keyword. If we include it th\n",
    "en it will terminate the execution of the function.\\n',  \n",
    "'The difference between yield and return is that once yield returns a value th\n",
    "e function is paused and the control is transferred to the caller.Local variabl\n",
    "es and their states are remembered between successive calls. In case of the ret\n",
    "urn statement value is returned and the execution of the function is terminate\n",
    "d.\\n', \n",
    "'Methods like __iter()__ and __next()__ are implemented automatically in gener\n",
    "ator function.\\n',  \n",
    "'Simple generators can be easily created using generator expressions. Generato\n",
    "r expressions create anonymous generator functions like lambda.\\n',  \n",
    "'The syntax for generator expression is similar to that of a list comprehensio\n",
    "n but the only difference is square brackets are replaced with round parenthese\n",
    "s. Also list comprehension produces the entire list while the generator express\n",
    "ion produces one item at a time which is more memory efficient than list compre\n",
    "hension.']fileobj.seek(0)\n",
    " \n",
    "print(fileobj.readline ()) # Read first line of a file.\n",
    " \n",
    "print(fileobj.readline ()) # Read second line of a file.\n",
    " \n",
    "print(fileobj.readline ()) # Read third line of a file.\n",
    "fileobj.seek(0)\n",
    " \n",
    "fileobj.readlines () # Read all lines of a file.            \n",
    "3/25/2021 Python - Jupyter Notebook\n",
    "localhost:8889/notebooks/Documents/GitHub/Public/Python/Python.ipynb 109/118"
   ]
  },
  {
   "cell_type": "code",
   "execution_count": null,
   "id": "7176e7d3",
   "metadata": {},
   "outputs": [],
   "source": [
    "93]:\n",
    "Python generators are easy way of creating iterators. It generates values one a\n",
    "t a time from a given sequence instead of returning the entire sequence at onc\n",
    "e. \n",
    "It is a special type of function which returns an iterator object.  \n",
    "In a generator function, a yield statement is used rather than a return stateme\n",
    "nt. \n",
    "The generator function cannot include the return keyword. If we include it then  \n",
    "it will terminate the execution of the function.\n",
    "The difference between yield and return is that once yield returns a value the  \n",
    "function is paused and the control is transferred to the caller.Local variables  \n",
    "and their states are remembered between successive calls. In case of the return  \n",
    "statement value is returned and the execution of the function is terminated.  # Read first 5 lines of a file using readline()\n",
    "fileobj.seek(0)\n",
    " \n",
    "count = 0\n",
    "for i in range(5):\n",
    "    if (count < 5):\n",
    "        print(fileobj.readline ())\n",
    "    else:\n",
    "        break\n",
    "    count+=1\n",
    "3/25/2021 Python - Jupyter Notebook\n",
    "localhost:8889/notebooks/Documents/GitHub/Public/Python/Python.ipynb 110/118"
   ]
  },
  {
   "cell_type": "code",
   "execution_count": null,
   "id": "4e64a905",
   "metadata": {},
   "outputs": [],
   "source": [
    "94]:\n",
    "Write FilePython generators are easy way of creating iterators. It generates values one a\n",
    "t a time from a given sequence instead of returning the entire sequence at onc\n",
    "e. \n",
    "It is a special type of function which returns an iterator object.  \n",
    "In a generator function, a yield statement is used rather than a return stateme\n",
    "nt. \n",
    "The generator function cannot include the return keyword. If we include it then  \n",
    "it will terminate the execution of the function.\n",
    "The difference between yield and return is that once yield returns a value the  \n",
    "function is paused and the control is transferred to the caller.Local variables  \n",
    "and their states are remembered between successive calls. In case of the return  \n",
    "statement value is returned and the execution of the function is terminated.  # Read first 5 lines of a file using readlines()\n",
    "fileobj.seek(0)\n",
    " \n",
    "count = 0\n",
    "for i in fileobj.readlines ():\n",
    "    if (count < 5):\n",
    "        print(i)\n",
    "    else:\n",
    "        break\n",
    "    count+=1\n",
    "3/25/2021 Python - Jupyter Notebook\n",
    "localhost:8889/notebooks/Documents/GitHub/Public/Python/Python.ipynb 111/118"
   ]
  },
  {
   "cell_type": "markdown",
   "id": "6cb14ebd",
   "metadata": {},
   "source": [
    "95]:"
   ]
  },
  {
   "cell_type": "code",
   "execution_count": null,
   "id": "6b89785a",
   "metadata": {},
   "outputs": [],
   "source": [
    "96]:Out[95]: 'Python generators are easy way of creating iterators. It generates values one  \n",
    "at a time from a given sequence instead of returning the entire sequence at onc\n",
    "e.\\nIt is a special type of function which returns an iterator object.\\nIn a ge\n",
    "nerator function, a yield statement is used rather than a return statement.\\nTh\n",
    "e generator function cannot include the return keyword. If we include it then i\n",
    "t will terminate the execution of the function.\\nThe difference between yield a\n",
    "nd return is that once yield returns a value the function is paused and the con\n",
    "trol is transferred to the caller.Local variables and their states are remember\n",
    "ed between successive calls. In case of the return statement value is returned  \n",
    "and the execution of the function is terminated.\\nMethods like __iter()__ and _\n",
    "_next()__ are implemented automatically in generator function.\\nSimple generato\n",
    "rs can be easily created using generator expressions. Generator expressions cre\n",
    "ate anonymous generator functions like lambda.\\nThe syntax for generator expres\n",
    "sion is similar to that of a list comprehension but the only difference is squa\n",
    "re brackets are replaced with round parentheses. Also list comprehension produc\n",
    "es the entire list while the generator expression produces one item at a time w\n",
    "hich is more memory efficient than list comprehension.THIS IS THE NEW CONTENT A\n",
    "PPENDED IN THE FILE'\n",
    "Out[96]: 'NEW CONTENT ADDED IN THE FILE. PREVIOUS CONTENT HAS BEEN OVERWRITTEN'fileobj = open('test1.txt' , 'a')\n",
    " \n",
    "fileobj.write('THIS IS THE NEW CONTENT APPENDED IN THE FILE' ) # Append content to\n",
    " \n",
    "fileobj.close()\n",
    " \n",
    "fileobj = open('test1.txt' )\n",
    " \n",
    "fileobj.read()\n",
    "fileobj = open(\"test1.txt\" , \"w\")\n",
    " \n",
    "fileobj.write(\"NEW CONTENT ADDED IN THE FILE. PREVIOUS CONTENT HAS BEEN OVERWRITT\n",
    " \n",
    "fileobj.close()\n",
    " \n",
    "fileobj = open('test1.txt' )\n",
    " \n",
    "fileobj.read()\n",
    "3/25/2021 Python - Jupyter Notebook\n",
    "localhost:8889/notebooks/Documents/GitHub/Public/Python/Python.ipynb 112/118"
   ]
  },
  {
   "cell_type": "markdown",
   "id": "ef6ae9cd",
   "metadata": {},
   "source": [
    "114]:\n",
    "Delete file"
   ]
  },
  {
   "cell_type": "markdown",
   "id": "8796de81",
   "metadata": {},
   "source": [
    "115]:"
   ]
  },
  {
   "cell_type": "markdown",
   "id": "39ef8571",
   "metadata": {},
   "source": [
    "116]:"
   ]
  },
  {
   "cell_type": "markdown",
   "id": "0c8985a9",
   "metadata": {},
   "source": [
    "117]:"
   ]
  },
  {
   "cell_type": "code",
   "execution_count": null,
   "id": "de6a2c27",
   "metadata": {},
   "outputs": [],
   "source": [
    "118]:\n",
    "Error & Exception Handling\n",
    "Python has many built-in exceptions (ArithmeticError , ZeroDivisionError , EOFError , IndexError ,\n",
    "KeyError , SyntaxError , IndentationError , FileNotFoundError etc) that are raised when your\n",
    "program encounters an error .Out[114]: ['First Line\\n',  \n",
    " 'Second Line\\n',  \n",
    " 'Third Line\\n',  \n",
    " 'Fourth Line\\n',  \n",
    " 'Fifth Line\\n']\n",
    "---------------------------------------------------------------------------  \n",
    "FileNotFoundError                          Traceback (most recent call last)  \n",
    "<ipython-input-116-fecc9f240170>  in <module>  \n",
    "----> 1 os.remove(\"test3.txt\" ) \n",
    "FileNotFoundError : [WinError 2] The system cannot find the file specified: 'tes\n",
    "t3.txt' \n",
    "---------------------------------------------------------------------------  \n",
    "FileNotFoundError                          Traceback (most recent call last)  \n",
    "<ipython-input-118-e9e89c9edbf0>  in <module>  \n",
    "----> 1 os.rmdir('folder1/' )\n",
    "FileNotFoundError : [WinError 2] The system cannot find the file specified: 'fol\n",
    "der1/' fileobj = open(\"test2.txt\" , \"w\") # Create a new file\n",
    " \n",
    "fileobj.write(\"First Line\\n\" ) \n",
    "fileobj.write(\"Second Line\\n\" )\n",
    "fileobj.write(\"Third Line\\n\" ) \n",
    "fileobj.write(\"Fourth Line\\n\" )\n",
    "fileobj.write(\"Fifth Line\\n\" )\n",
    "fileobj.close()\n",
    " \n",
    "fileobj = open('test2.txt' )\n",
    " \n",
    "fileobj.readlines ()\n",
    "os.remove(\"test3.txt\" ) # Delete file\n",
    "os.remove(\"test3.txt\" )\n",
    "os.rmdir('folder1/' )  # Delete folder\n",
    "os.rmdir('folder1/' )\n",
    "3/25/2021 Python - Jupyter Notebook\n",
    "localhost:8889/notebooks/Documents/GitHub/Public/Python/Python.ipynb 113/118When the exception occurs Python interpreter stops the current process and passes it to the\n",
    "calling process until it is handled. If exception is not handled the program will crash.\n",
    "Exceptions in python can be handled using a try statement. The try block lets you test a block\n",
    "of code for errors.\n",
    "The block of code which can raise an exception is placed inside the try clause. The code that\n",
    "will handle the exceptions is written in the except  clause.\n",
    "The finally  code block will execute regardless of the result of the try and except blocks.\n",
    "We can also use the else keyword to define a block of code to be executed if no exceptions\n",
    "were raised.\n",
    "Python also allows us to create our own exceptions that can be raised from the program using\n",
    "the raise  keyword and caught using the except  clause. W e can define what kind of error to\n",
    "raise, and the text to print to the user .\n",
    "\n",
    "3/25/2021 Python - Jupyter Notebook\n",
    "localhost:8889/notebooks/Documents/GitHub/Public/Python/Python.ipynb 114/118"
   ]
  },
  {
   "cell_type": "markdown",
   "id": "56cfbbb7",
   "metadata": {},
   "source": [
    "130]:"
   ]
  },
  {
   "cell_type": "code",
   "execution_count": null,
   "id": "78660a74",
   "metadata": {},
   "outputs": [],
   "source": [
    "134]:division by zero Exception occured  \n",
    "Run this block of code always  \n",
    "Variable x is not defined  try:\n",
    "    print(100/0) # ZeroDivisionError will be encountered here. So the control wil\n",
    "    \n",
    "except:\n",
    "    print(sys.exc_info ()[1] , 'Exception occured' ) # This statement will be execu\n",
    "    \n",
    "else:\n",
    "    print('No exception occurred' ) # This will be skipped as code block inside tr\n",
    " \n",
    "finally:\n",
    "    print('Run this block of code always' ) # This will be always executed \n",
    "    \n",
    "try:\n",
    "    print(x)  # NameError exception will be encountered as variable x is not defi\n",
    " \n",
    "except:\n",
    "    print('Variable x is not defined' )\n",
    "3/25/2021 Python - Jupyter Notebook\n",
    "localhost:8889/notebooks/Documents/GitHub/Public/Python/Python.ipynb 115/118"
   ]
  },
  {
   "cell_type": "markdown",
   "id": "71474e75",
   "metadata": {},
   "source": [
    "137]:"
   ]
  },
  {
   "cell_type": "code",
   "execution_count": null,
   "id": "02b52cc1",
   "metadata": {},
   "outputs": [],
   "source": [
    "141]:BELOW EXCEPTION OCCURED  \n",
    "[WinError 2] The system cannot find the file specified: 'test3.txt'  \n",
    " \n",
    "Run this block of code always  \n",
    "Enter first number :- 12  \n",
    "Enter first number :- 13  \n",
    "0.9230769230769231  \n",
    "FileNotFoundError exception occurred  try:\n",
    "    os.remove(\"test3.txt\" ) # FileNotFoundError will be encountered as \"test3.txt\"\n",
    "    \n",
    "except:                     # Below statement will be executed as exception occur\n",
    "    print(\"BELOW EXCEPTION OCCURED\" ) \n",
    "    print(sys.exc_info ()[1])\n",
    "    \n",
    "else:\n",
    "    print('\\nNo exception occurred' )\n",
    " \n",
    "finally:\n",
    "    print('\\nRun this block of code always' )\n",
    "# Handling specific exceptions\n",
    "try:\n",
    "    x = int(input('Enter first number :- ' ))\n",
    "    y =  int(input('Enter first number :- ' ))  # If input entered is non-zero the\n",
    "    print(x/y)\n",
    "    os.remove(\"test3.txt\" )\n",
    " \n",
    "except NameError :\n",
    "    print('NameError exception occurred' )\n",
    " \n",
    "except FileNotFoundError :\n",
    "    print('FileNotFoundError exception occurred' )\n",
    "    \n",
    "except ZeroDivisionError :\n",
    "    print('ZeroDivisionError exception occurred' )  \n",
    "3/25/2021 Python - Jupyter Notebook\n",
    "localhost:8889/notebooks/Documents/GitHub/Public/Python/Python.ipynb 116/118"
   ]
  },
  {
   "cell_type": "markdown",
   "id": "e6bd8aab",
   "metadata": {},
   "source": [
    "142]:"
   ]
  },
  {
   "cell_type": "markdown",
   "id": "84b4d309",
   "metadata": {},
   "source": [
    "144]:\n",
    "Built-in Exceptions"
   ]
  },
  {
   "cell_type": "code",
   "execution_count": null,
   "id": "dddeb6f1",
   "metadata": {},
   "outputs": [],
   "source": [
    "149]:Enter first number :- 10  \n",
    "Enter first number :- 0  \n",
    "ZeroDivisionError exception occurred  \n",
    "Enter first number :- 100  \n",
    "<class 'ValueError'>  \n",
    "(<class 'OverflowError'>, OverflowError('math range error'), <traceback object  \n",
    "at 0x000002B2B12EFB88>)  # Handling specific exceptions\n",
    "try:\n",
    "    x = int(input('Enter first number :- ' ))\n",
    "    y =  int(input('Enter first number :- ' )) # If the input entered is zero the \n",
    "    print(x/y)\n",
    "    os.remove(\"test3.txt\" )\n",
    " \n",
    "except NameError :\n",
    "    print('NameError exception occurred' )\n",
    " \n",
    "except FileNotFoundError :\n",
    "    print('FileNotFoundError exception occurred' )\n",
    "    \n",
    "except ZeroDivisionError :\n",
    "    print('ZeroDivisionError exception occurred' ) \n",
    "try:\n",
    "    x = int(input('Enter first number :- ' ))\n",
    "    if x > 50:\n",
    "        raise ValueError (x) # If value of x is greater than 50 ValueError excepti\n",
    "except:\n",
    "    print(sys.exc_info ()[0])\n",
    "# OverflowError - This exception is raised when the result of a numeric calculati\n",
    " \n",
    "try:  \n",
    "    import math\n",
    "    print(math.exp(1000))\n",
    "except OverflowError :  \n",
    "        print (sys.exc_info ())\n",
    "else:  \n",
    "    print (\"Success, no error!\" )\n",
    "3/25/2021 Python - Jupyter Notebook\n",
    "localhost:8889/notebooks/Documents/GitHub/Public/Python/Python.ipynb 117/118"
   ]
  },
  {
   "cell_type": "markdown",
   "id": "5bdfca20",
   "metadata": {},
   "source": [
    "150]:"
   ]
  },
  {
   "cell_type": "markdown",
   "id": "98ac2034",
   "metadata": {},
   "source": [
    "152]:"
   ]
  },
  {
   "cell_type": "markdown",
   "id": "d5f6816f",
   "metadata": {},
   "source": [
    "155]:"
   ]
  },
  {
   "cell_type": "markdown",
   "id": "959e7ece",
   "metadata": {},
   "source": [
    "157]:"
   ]
  },
  {
   "cell_type": "code",
   "execution_count": null,
   "id": "2a70a5ba",
   "metadata": {},
   "outputs": [],
   "source": [
    "160]:Enter first number :- 100  \n",
    "Enter first number :- 0  \n",
    "ZeroDivisionError exception occurred  \n",
    "NameError exception occurred  \n",
    "Assertion Exception Raised.  \n",
    "ModuleNotFoundError Exception Raised.  \n",
    "KeyError Exception Raised.  # ZeroDivisionError - This exception is raised when the second operator in a divi\n",
    " \n",
    "try:\n",
    "    x = int(input('Enter first number :- ' ))\n",
    "    y =  int(input('Enter first number :- ' ))\n",
    "    print(x/y)\n",
    "    \n",
    "except ZeroDivisionError :\n",
    "    print('ZeroDivisionError exception occurred' )\n",
    "# NameError - This exception is raised when a variable does not exist\n",
    " \n",
    "try:\n",
    "    print(x1)\n",
    " \n",
    "except NameError :\n",
    "    print('NameError exception occurred' )\n",
    "# AssertionError - This exception is raised when an assert statement fails\n",
    " \n",
    "try:  \n",
    "    a = 50\n",
    "    b = \"Asif\"\n",
    "    assert a == b\n",
    "except AssertionError :  \n",
    "        print (\"Assertion Exception Raised.\" )\n",
    "# ModuleNotFoundError - This exception is raised when an imported module does not\n",
    " \n",
    "try:\n",
    "    import MyModule\n",
    " \n",
    "except ModuleNotFoundError :  \n",
    "        print (\"ModuleNotFoundError Exception Raised.\" )\n",
    "# KeyError - This exception is raised when key does not exist in a dictionary\n",
    " \n",
    "try:\n",
    "    mydict = {1:'Asif', 2:'Basit', 3:'Michael' }\n",
    "    print (mydict[4])\n",
    " \n",
    "except KeyError :\n",
    "     print (\"KeyError Exception Raised.\" )\n",
    "3/25/2021 Python - Jupyter Notebook\n",
    "localhost:8889/notebooks/Documents/GitHub/Public/Python/Python.ipynb 118/118"
   ]
  },
  {
   "cell_type": "markdown",
   "id": "9acc051c",
   "metadata": {},
   "source": [
    "162]:"
   ]
  },
  {
   "cell_type": "markdown",
   "id": "7080351a",
   "metadata": {},
   "source": [
    "165]:"
   ]
  },
  {
   "cell_type": "markdown",
   "id": "f9c73297",
   "metadata": {},
   "source": [
    "171]:"
   ]
  },
  {
   "cell_type": "code",
   "execution_count": null,
   "id": "1253e0c9",
   "metadata": {},
   "outputs": [],
   "source": [
    "]:\n",
    "ENDIndexError Exception Raised.  \n",
    "TypeError Exception Raised.  \n",
    "AttributeError Exception Raised.  # IndexError - This exception is raised when an index of a sequence does not exis\n",
    " \n",
    "try:\n",
    "    mylist = [1,2,3,4,5,6]\n",
    "    print (mylist[10])\n",
    " \n",
    "except IndexError :\n",
    "     print (\"IndexError Exception Raised.\" )\n",
    "# TypeError - This exception is raised when two different datatypes are combined\n",
    " \n",
    "try:  \n",
    "    a = 50\n",
    "    b = \"Asif\"\n",
    "    c = a/b\n",
    "except TypeError :  \n",
    "        print (\"TypeError Exception Raised.\" )\n",
    "# AttributeError: - This exception is raised when attribute reference or assignme\n",
    " \n",
    "try:  \n",
    "    a = 10\n",
    "    b = a.upper()\n",
    "    print(b)\n",
    "except AttributeError :  \n",
    "        print (\"AttributeError Exception Raised.\" )\n",
    "try:\n",
    "    x = input('Enter first number :- ' )\n",
    " \n",
    "    \n",
    "except:\n",
    "    print('ZeroDivisionError exception occurred' )"
   ]
  }
 ],
 "metadata": {
  "language_info": {
   "name": "python"
  }
 },
 "nbformat": 4,
 "nbformat_minor": 5
}
