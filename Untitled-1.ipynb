{
 "cells": [
  {
   "cell_type": "code",
   "execution_count": 1,
   "id": "93df998c",
   "metadata": {},
   "outputs": [],
   "source": [
    "#number is positive,negative  or zero "
   ]
  },
  {
   "cell_type": "code",
   "execution_count": 4,
   "id": "5055a154",
   "metadata": {},
   "outputs": [
    {
     "name": "stdout",
     "output_type": "stream",
     "text": [
      "negative number\n"
     ]
    }
   ],
   "source": [
    "n = int(input(\"enter a number\"))\n",
    "if n>0:\n",
    "     print(\"positive number\");\n",
    "elif n < 0:\n",
    "     print(\"negative number\")\n",
    "else:\n",
    "     print(\"the give number zero\")"
   ]
  },
  {
   "cell_type": "code",
   "execution_count": null,
   "id": "7211995d",
   "metadata": {},
   "outputs": [],
   "source": [
    "name = input(\"enter your name:\")\n",
    "age = int(input(\"enter your age: \"))\n",
    "if age < 0:\n",
    "     print(\"invalid age please try again\")\n",
    "elif age < 18:\n",
    "     print(f\"{name} is young to get lic\")\n",
    "elif age >= 18 and age  < 60:\n",
    "     print(f\"{name} can get driving lic\")\n",
    "else:\n",
    "     print(f\"{name} is too old for geting lic\")\n",
    "\n",
    "\n",
    "\n"
   ]
  },
  {
   "cell_type": "code",
   "execution_count": null,
   "id": "7243bc46",
   "metadata": {},
   "outputs": [],
   "source": [
    "n = int(input(\"enter a number\"))\n",
    "if n > 0:\n",
    "     if n%2 == 0:\n",
    "          print(\"n is postive and even\")\n",
    "     else:\n",
    "          print(\"n is postive and odd\")\n",
    "else:\n",
    "     print(\"negative number\")\n"
   ]
  },
  {
   "cell_type": "code",
   "execution_count": 2,
   "id": "ddfad0c7",
   "metadata": {},
   "outputs": [
    {
     "name": "stdout",
     "output_type": "stream",
     "text": [
      "Welcome\n"
     ]
    }
   ],
   "source": [
    "correct_pin = 1234;\n",
    "pin = int(input(\"enter your atm pin: \"));\n",
    "if pin == correct_pin:\n",
    "     print(\"Welcome\")\n",
    "else:\n",
    "     print(\"Try again \")\n"
   ]
  },
  {
   "cell_type": "code",
   "execution_count": null,
   "id": "055ac435",
   "metadata": {},
   "outputs": [],
   "source": [
    "age = int(input(\"enter your age: \"))#9\n",
    "if age <13:\n",
    "     print(\"your child\")\n",
    "elif age >= 13 and age <= 19:\n",
    "     print(\"Teen\")\n",
    "elif age >=20 and age <= 59:\n",
    "     print(\"Adult\")\n",
    "else:\n",
    "     print(\"Senior citizens\")\n"
   ]
  },
  {
   "cell_type": "code",
   "execution_count": 3,
   "id": "60c252bb",
   "metadata": {},
   "outputs": [
    {
     "name": "stdout",
     "output_type": "stream",
     "text": [
      "20% discount\n"
     ]
    }
   ],
   "source": [
    "amount = int(input(\"enter amount\"))\n",
    "if amount < 1000:\n",
    "     print(\"no discount\");\n",
    "elif amount >= 1000 and amount <= 4999:\n",
    "     print(\"10% discount\")\n",
    "elif amount >= 5000 and amount <= 9999:\n",
    "     print(\"20% discount\")\n",
    "else:\n",
    "     print(\"30% discount\");"
   ]
  },
  {
   "cell_type": "code",
   "execution_count": null,
   "id": "b0680cd9",
   "metadata": {},
   "outputs": [],
   "source": [
    "a= int(input(\"enter a  value: \"))\n",
    "b= int(input(\"enter b value: \"))\n",
    "c= int(input(\"enter c value: \"))\n",
    "if a >= b and a >=c:\n",
    "     print(\"a is largest num\")\n",
    "elif b >=c:\n",
    "     print(\"b is largest\")\n",
    "else:\n",
    "     print(\"c is largest\");\n"
   ]
  },
  {
   "cell_type": "code",
   "execution_count": null,
   "id": "f2052b5d",
   "metadata": {},
   "outputs": [],
   "source": [
    "marks= int(input(\"enter your marks: \"))\n",
    "if marks >= 90 and marks <= 100:\n",
    "     print(\"A\")\n",
    "elif marks >= 80 and marks <= 89:\n",
    "     print(\"B\")\n",
    "elif marks >= 70 and marks <= 79:\n",
    "     print(\"c\")\n",
    "elif marks >= 60 and marks <= 69:\n",
    "     print(\"D\")\n",
    "else:\n",
    "     print(\"F\")\n"
   ]
  },
  {
   "cell_type": "code",
   "execution_count": null,
   "id": "989ab062",
   "metadata": {},
   "outputs": [],
   "source": [
    "weight = float(input(\"enter your weight: \"))\n",
    "height = float(input(\"enter your height: \"))\n",
    "bmi = weight/(height * height)\n",
    "if bmi <18.5:\n",
    "     print(\"Under weight\")\n",
    "elif bmi >= 18.5 and bmi <= 24.9:\n",
    "     print(\"normal\")\n",
    "elif bmi >= 25 and bmi <= 29.9:\n",
    "     print(\"over weight\")\n",
    "else:\n",
    "     print(\"Obese\")\n",
    "\n"
   ]
  },
  {
   "cell_type": "code",
   "execution_count": 6,
   "id": "2b899700",
   "metadata": {},
   "outputs": [
    {
     "name": "stdout",
     "output_type": "stream",
     "text": [
      "you can ride roller coaster\n",
      "you have to pay $7\n"
     ]
    }
   ],
   "source": [
    "height = float(input(\"enter your height: \"))\n",
    "age = int(input(\"enter your age: \"))\n",
    "if height >120:\n",
    "     print(\"you can ride roller coaster\")\n",
    "     if age > 18:\n",
    "          print(\"you have to pay $12\")\n",
    "     elif age >= 12 and age <= 18:\n",
    "          print(\"you have to pay $7\")\n",
    "     else:\n",
    "          print(\"you have to pay $5\")\n",
    "else:\n",
    "     print(\"you can't ride roller coaster\")"
   ]
  },
  {
   "cell_type": "code",
   "execution_count": 9,
   "id": "1e73822c",
   "metadata": {},
   "outputs": [
    {
     "name": "stdout",
     "output_type": "stream",
     "text": [
      "n is postive odd\n"
     ]
    }
   ],
   "source": [
    "n = int(input(\"enter a number\"))\n",
    "if n%2 == 0:\n",
    "     print(\"n is  even\")\n",
    "else:\n",
    "     print(\"n is postive odd\")"
   ]
  },
  {
   "cell_type": "code",
   "execution_count": 12,
   "id": "ee517bed",
   "metadata": {},
   "outputs": [],
   "source": [
    "# range(start,end -1,step)"
   ]
  },
  {
   "cell_type": "code",
   "execution_count": 15,
   "id": "594d4503",
   "metadata": {},
   "outputs": [
    {
     "name": "stdout",
     "output_type": "stream",
     "text": [
      "0\n",
      "1\n",
      "2\n",
      "3\n",
      "4\n",
      "5\n"
     ]
    }
   ],
   "source": [
    "for i in range(6):\n",
    "     print(i)"
   ]
  },
  {
   "cell_type": "code",
   "execution_count": null,
   "id": "e1020097",
   "metadata": {},
   "outputs": [],
   "source": [
    "for i in range(1,6):\n",
    "     print(i)"
   ]
  },
  {
   "cell_type": "code",
   "execution_count": 23,
   "id": "9a82498c",
   "metadata": {},
   "outputs": [
    {
     "name": "stdout",
     "output_type": "stream",
     "text": [
      "10\n",
      "11\n",
      "12\n",
      "13\n",
      "14\n",
      "15\n",
      "16\n",
      "17\n",
      "18\n",
      "19\n",
      "20\n"
     ]
    }
   ],
   "source": [
    "for i in range(10,21):\n",
    "     print(i)"
   ]
  },
  {
   "cell_type": "code",
   "execution_count": null,
   "id": "deaafa10",
   "metadata": {},
   "outputs": [
    {
     "name": "stdout",
     "output_type": "stream",
     "text": [
      "10\n",
      "9\n",
      "8\n",
      "7\n",
      "6\n",
      "5\n",
      "4\n",
      "3\n",
      "2\n"
     ]
    }
   ],
   "source": []
  },
  {
   "cell_type": "code",
   "execution_count": 30,
   "id": "5df6be64",
   "metadata": {},
   "outputs": [
    {
     "name": "stdout",
     "output_type": "stream",
     "text": [
      "10\n",
      "9\n",
      "8\n",
      "7\n",
      "6\n",
      "5\n",
      "4\n",
      "3\n",
      "2\n",
      "1\n"
     ]
    }
   ],
   "source": [
    "for i in range(10,0,-1):\n",
    "     print(i)\n"
   ]
  },
  {
   "cell_type": "code",
   "execution_count": 2,
   "id": "1094f19f",
   "metadata": {},
   "outputs": [
    {
     "name": "stdout",
     "output_type": "stream",
     "text": [
      "0\n",
      "1\n",
      "2\n",
      "3\n",
      "4\n",
      "5\n"
     ]
    }
   ],
   "source": [
    "for i in range(6):\n",
    "     print(i)     # start:0 ,end -1,step: 1"
   ]
  },
  {
   "cell_type": "code",
   "execution_count": 3,
   "id": "17c5233b",
   "metadata": {},
   "outputs": [
    {
     "name": "stdout",
     "output_type": "stream",
     "text": [
      "1\n",
      "2\n",
      "3\n",
      "4\n",
      "5\n",
      "6\n",
      "7\n",
      "8\n",
      "9\n",
      "10\n"
     ]
    }
   ],
   "source": [
    "for i in range(1,11):\n",
    "     print(i)"
   ]
  },
  {
   "cell_type": "code",
   "execution_count": 4,
   "id": "343d2317",
   "metadata": {},
   "outputs": [
    {
     "name": "stdout",
     "output_type": "stream",
     "text": [
      "sum of ten numbers:  55\n"
     ]
    }
   ],
   "source": [
    "sum = 0;\n",
    "for i in range(1,11):\n",
    "     #sum = sum + i\n",
    "     sum += i\n",
    "print(\"sum of ten numbers: \",sum)\n"
   ]
  },
  {
   "cell_type": "code",
   "execution_count": 7,
   "id": "017b3351",
   "metadata": {},
   "outputs": [
    {
     "name": "stdout",
     "output_type": "stream",
     "text": [
      "sum of n numbers:  210\n"
     ]
    }
   ],
   "source": [
    "n = int(input(\"enter n value:\"));\n",
    "sum = 0;\n",
    "for x in range(1,n+1):\n",
    "     sum += x;\n",
    "print(\"sum of n numbers: \",sum)"
   ]
  },
  {
   "cell_type": "code",
   "execution_count": null,
   "id": "0f7e231f",
   "metadata": {},
   "outputs": [
    {
     "name": "stdout",
     "output_type": "stream",
     "text": [
      "1\n",
      "3\n",
      "5\n",
      "7\n",
      "9\n"
     ]
    }
   ],
   "source": [
    "for i in range(1,10,2):\n",
    "     print(i)"
   ]
  },
  {
   "cell_type": "code",
   "execution_count": 15,
   "id": "5e88501d",
   "metadata": {},
   "outputs": [
    {
     "name": "stdout",
     "output_type": "stream",
     "text": [
      "❌ you lost  \n",
      "❌ you lost  \n",
      "❌ you lost  \n",
      "❌ you lost  \n",
      "you win the lottery ticket\n",
      "❌ you lost  \n",
      "❌ you lost  \n",
      "❌ you lost  \n",
      "❌ you lost  \n"
     ]
    }
   ],
   "source": [
    "for i in range(1,10):\n",
    "     if i == 5:\n",
    "          print(\"you win the lottery ticket\");   \n",
    "     else:\n",
    "          print(\"❌ you lost  \")"
   ]
  },
  {
   "cell_type": "code",
   "execution_count": null,
   "id": "72611daa",
   "metadata": {},
   "outputs": [
    {
     "name": "stdout",
     "output_type": "stream",
     "text": [
      "the given 2 is even number\n",
      "the given 4 is even number\n"
     ]
    }
   ],
   "source": [
    "for i in range(1,6):\n",
    "     if i%2 == 0:\n",
    "          print(f\"the given {i} is even number\")"
   ]
  },
  {
   "cell_type": "code",
   "execution_count": 20,
   "id": "02db7a20",
   "metadata": {},
   "outputs": [
    {
     "name": "stdout",
     "output_type": "stream",
     "text": [
      "5\n",
      "4\n",
      "3\n",
      "2\n",
      "1\n"
     ]
    }
   ],
   "source": [
    " #ass end - 1 #desc end+1\n",
    "for  i in range(5,0,-1):\n",
    "     print(i)"
   ]
  },
  {
   "cell_type": "code",
   "execution_count": null,
   "id": "412beac0",
   "metadata": {},
   "outputs": [],
   "source": [
    "initialization of variable\n",
    "while(condition):\n",
    "     last line increment or decrement"
   ]
  },
  {
   "cell_type": "code",
   "execution_count": 2,
   "id": "82f099d2",
   "metadata": {},
   "outputs": [
    {
     "name": "stdout",
     "output_type": "stream",
     "text": [
      "0\n",
      "1\n",
      "2\n",
      "3\n",
      "4\n",
      "5\n"
     ]
    }
   ],
   "source": [
    "i = 0;\n",
    "while(i <= 5):\n",
    "     print(i)\n",
    "     i += 1"
   ]
  },
  {
   "cell_type": "code",
   "execution_count": 8,
   "id": "ce6b34f7",
   "metadata": {},
   "outputs": [
    {
     "name": "stdout",
     "output_type": "stream",
     "text": [
      "1\n",
      "2\n",
      "3\n",
      "4\n",
      "5\n",
      "6\n",
      "7\n",
      "8\n",
      "9\n",
      "10\n"
     ]
    }
   ],
   "source": [
    "i = 1;\n",
    "while i <= 10:\n",
    "     print(i)\n",
    "     i += 1"
   ]
  },
  {
   "cell_type": "code",
   "execution_count": null,
   "id": "48341c64",
   "metadata": {},
   "outputs": [
    {
     "name": "stdout",
     "output_type": "stream",
     "text": [
      "sum of 10 value is 55\n"
     ]
    }
   ],
   "source": [
    "n = int(input(\"enter n value:\"));\n",
    "sum = 0;\n",
    "i = 1;\n",
    "while i <= n:\n",
    "     sum += i\n",
    "     i += 1\n",
    "print(f\"sum of {n} value is {sum}\")"
   ]
  },
  {
   "cell_type": "code",
   "execution_count": 11,
   "id": "8e1147eb",
   "metadata": {},
   "outputs": [
    {
     "name": "stdout",
     "output_type": "stream",
     "text": [
      "5\n",
      "4\n",
      "3\n",
      "2\n",
      "1\n"
     ]
    }
   ],
   "source": [
    "i = 5;\n",
    "while i >= 1:\n",
    "     print(i)\n",
    "     i -= 1"
   ]
  },
  {
   "cell_type": "code",
   "execution_count": 15,
   "id": "f06fcaab",
   "metadata": {},
   "outputs": [
    {
     "name": "stdout",
     "output_type": "stream",
     "text": [
      "the given 1 is odd number\n",
      "the given 3 is odd number\n",
      "the given 5 is odd number\n"
     ]
    }
   ],
   "source": [
    "# n even numbers\n",
    "n = int(input(\"enter n value:\"))\n",
    "i = 1;\n",
    "while i <= n:\n",
    "     if i%2 != 0:\n",
    "          print(f\"the given {i} is odd number\")\n",
    "     i += 1"
   ]
  },
  {
   "cell_type": "code",
   "execution_count": 22,
   "id": "0ec888ec",
   "metadata": {},
   "outputs": [
    {
     "name": "stdout",
     "output_type": "stream",
     "text": [
      "1\n",
      "2\n",
      "3\n",
      "exit using break\n"
     ]
    }
   ],
   "source": [
    "for i in range(1,6):\n",
    "     if i == 4:\n",
    "          print(\"exit using break\")\n",
    "          break\n",
    "     print(i)"
   ]
  },
  {
   "cell_type": "code",
   "execution_count": 21,
   "id": "83f17d0f",
   "metadata": {},
   "outputs": [
    {
     "name": "stdout",
     "output_type": "stream",
     "text": [
      "1\n",
      "2\n",
      "3\n",
      "skip\n",
      "5\n"
     ]
    }
   ],
   "source": [
    "for i in range(1,6):\n",
    "     if i == 4:\n",
    "          print(\"skip\")\n",
    "          continue\n",
    "     print(i)"
   ]
  },
  {
   "cell_type": "code",
   "execution_count": 4,
   "id": "dd337e92",
   "metadata": {},
   "outputs": [
    {
     "name": "stdout",
     "output_type": "stream",
     "text": [
      "1\n",
      "3\n",
      "5\n"
     ]
    }
   ],
   "source": [
    "i = 1;\n",
    "while i <= 5:\n",
    "     if i% 2 == 0:\n",
    "          i += 1\n",
    "          continue\n",
    "     print(i)\n",
    "     i += 1\n",
    "     "
   ]
  },
  {
   "cell_type": "code",
   "execution_count": 1,
   "id": "622481d3",
   "metadata": {},
   "outputs": [
    {
     "name": "stdout",
     "output_type": "stream",
     "text": [
      "python\n"
     ]
    }
   ],
   "source": [
    "s = \"python\"\n",
    "print(s)"
   ]
  },
  {
   "cell_type": "code",
   "execution_count": null,
   "id": "fc2012e8",
   "metadata": {},
   "outputs": [],
   "source": [
    "# 1. we have to indexing it support both postive and negative"
   ]
  },
  {
   "cell_type": "code",
   "execution_count": 3,
   "id": "612bdfc3",
   "metadata": {},
   "outputs": [
    {
     "name": "stdout",
     "output_type": "stream",
     "text": [
      "python\n"
     ]
    }
   ],
   "source": [
    "print(s)"
   ]
  },
  {
   "cell_type": "code",
   "execution_count": 12,
   "id": "8b45d2c2",
   "metadata": {},
   "outputs": [
    {
     "name": "stdout",
     "output_type": "stream",
     "text": [
      "p\n",
      "y\n",
      "n\n",
      "n\n",
      "t\n",
      "o\n"
     ]
    }
   ],
   "source": [
    "print(s[0])\n",
    "print(s[1])\n",
    "print(s[len(s) - 1])\n",
    "print(s[-1])\n",
    "print(s[2])\n",
    "print(s[-2])"
   ]
  },
  {
   "cell_type": "code",
   "execution_count": 19,
   "id": "49f0de8b",
   "metadata": {},
   "outputs": [
    {
     "name": "stdout",
     "output_type": "stream",
     "text": [
      "to know the length:  7\n",
      "c\n",
      "m\n",
      "m\n",
      "w\n"
     ]
    }
   ],
   "source": [
    "g = \"welcome\";\n",
    "print(\"to know the length: \",len(g))\n",
    "print(g[3])\n",
    "print(g[5])\n",
    "print(g[5])\n",
    "print(g[-7])\n",
    "#print(g[23])\n"
   ]
  },
  {
   "cell_type": "code",
   "execution_count": 21,
   "id": "df4fe236",
   "metadata": {},
   "outputs": [
    {
     "name": "stdout",
     "output_type": "stream",
     "text": [
      "pythonlanguage\n"
     ]
    }
   ],
   "source": [
    "l = \"pythonlanguage\";\n",
    "print(l)"
   ]
  },
  {
   "cell_type": "code",
   "execution_count": 46,
   "id": "1fa00dff",
   "metadata": {},
   "outputs": [
    {
     "name": "stdout",
     "output_type": "stream",
     "text": [
      "python\n",
      "th\n",
      "age\n",
      "ython\n",
      "\n",
      "\n",
      "\n",
      "th\n",
      "\n",
      "\n"
     ]
    }
   ],
   "source": [
    "print(l[0:6])\n",
    "print(l[2:4])\n",
    "# if didn't mention end value we will get until end of string\n",
    "print(l[-3:])\n",
    "print(l[1:6]) \n",
    "# don't start with -1 & end with 0 result is 0 empty string\n",
    "print(l[-1:0]) \n",
    "print(l[4:0])\n",
    "print(l[4:2])\n",
    "print(l[2:4])\n",
    "print(l[5:2])\n",
    "print(l[6:4])\n"
   ]
  },
  {
   "cell_type": "code",
   "execution_count": null,
   "id": "8dd5e138",
   "metadata": {},
   "outputs": [
    {
     "name": "stdout",
     "output_type": "stream",
     "text": [
      "script\n",
      "\n",
      "tpircsavaj\n",
      "javascript\n",
      "vascrip\n",
      "jvsrp javascript\n"
     ]
    }
   ],
   "source": [
    "a = \"javascript\";\n",
    "print(a[4:])\n",
    "print(a[6:2])\n",
    "# reverse the string\n",
    "print(a[::-1])\n",
    "print(a[::1])\n",
    "print(a[2:-1]) # end + 1 -2 \n",
    "print(a[0:-1:2],a)"
   ]
  },
  {
   "cell_type": "code",
   "execution_count": 68,
   "id": "8399edd4",
   "metadata": {},
   "outputs": [
    {
     "name": "stdout",
     "output_type": "stream",
     "text": [
      "ONEPIECE\n",
      "python\n",
      "Welcome to programming world\n",
      "Welcome To Programming World\n",
      "hello  \n",
      "  hello\n",
      "hello\n",
      "hell o\n"
     ]
    }
   ],
   "source": [
    "a = \"onepiece\"\n",
    "b = \"PYTHON\"\n",
    "#methods\n",
    "print(a.upper())\n",
    "print(b.lower())\n",
    "print(\"welcome to programming world\".capitalize())\n",
    "print(\"welcome to programming world\".title())\n",
    "print(\"  hello  \".lstrip())\n",
    "print(\"  hello  \".rstrip())\n",
    "print(\"  hello  \".strip())\n",
    "print(\"  hell o  \".strip())"
   ]
  },
  {
   "cell_type": "code",
   "execution_count": 100,
   "id": "b7d96c75",
   "metadata": {},
   "outputs": [
    {
     "name": "stdout",
     "output_type": "stream",
     "text": [
      "1\n",
      "5\n",
      "2\n",
      "0\n",
      "5\n",
      "2\n",
      "8\n",
      "0\n",
      "5\n",
      "-1\n",
      "2\n",
      "1\n",
      "Hello\n",
      "True\n",
      "False\n",
      "False\n",
      "False\n",
      "['javascript']\n",
      "True\n",
      "True\n",
      "True\n"
     ]
    }
   ],
   "source": [
    "c = \"python\";\n",
    "print(c.index(\"y\"))\n",
    "print(c.index(\"n\"))\n",
    "print(c.index(\"t\"))\n",
    "# print(c.index(\"x\"))\n",
    "d = \"hellohello\";\n",
    "print(d.index(\"h\"))\n",
    "print(d.rindex(\"h\"))\n",
    "print(d.index(\"l\"))\n",
    "print(d.rindex(\"l\"))\n",
    "print(d.find(\"h\"))\n",
    "print(d.rfind(\"h\"))\n",
    "print(d.find(\"r\"))\n",
    "# print(d.rindex(\"r\"))\n",
    "print(\"hello\".count(\"l\"))\n",
    "print(\"hello\".count(\"h\"))\n",
    "print(\"hello\".replace(\"h\",\"H\"))\n",
    "print(\"python\".startswith(\"p\"))\n",
    "print(\"python\".startswith(\"y\"))\n",
    "print(\"python\".startswith(\"y\"))\n",
    "print(\"python\".endswith(\"y\"))\n",
    "print(\"javascript\".split())\n",
    "print(\"123\".isdigit())\n",
    "print(\"py\".isalpha())\n",
    "print(\"python3\".isalnum())"
   ]
  },
  {
   "cell_type": "code",
   "execution_count": 2,
   "id": "8c3c5b02",
   "metadata": {},
   "outputs": [
    {
     "name": "stdout",
     "output_type": "stream",
     "text": [
      "p\n",
      "y\n",
      "t\n",
      "h\n",
      "o\n",
      "n\n",
      "p\n",
      "y\n",
      "t\n",
      "h\n",
      "o\n",
      "n\n"
     ]
    }
   ],
   "source": [
    "s  = \"python\";\n",
    "for i in s:\n",
    "     print(i)\n",
    "i = 0;\n",
    "while i < len(s):\n",
    "     print(s[i]) \n",
    "     i += 1         "
   ]
  },
  {
   "cell_type": "code",
   "execution_count": 2,
   "id": "1e210584",
   "metadata": {},
   "outputs": [
    {
     "name": "stdout",
     "output_type": "stream",
     "text": [
      "<class 'list'>\n",
      "<class 'list'>\n"
     ]
    }
   ],
   "source": [
    "l = [10,20,30,40,50];\n",
    "print(type(l))\n",
    "# empty list\n",
    "l1 = []\n",
    "print(type(l1))"
   ]
  },
  {
   "cell_type": "code",
   "execution_count": null,
   "id": "767b0a26",
   "metadata": {},
   "outputs": [
    {
     "name": "stdout",
     "output_type": "stream",
     "text": [
      "10\n",
      "50\n",
      "30\n",
      "40\n"
     ]
    }
   ],
   "source": [
    "print(l[0])\n",
    "print(l[-1])\n",
    "print(l[2])\n",
    "print(l[-2])"
   ]
  },
  {
   "cell_type": "code",
   "execution_count": 29,
   "id": "5ffc428b",
   "metadata": {},
   "outputs": [
    {
     "name": "stdout",
     "output_type": "stream",
     "text": [
      "<class 'list'>\n",
      "[10, 'js', 20]\n",
      "['js']\n",
      "['py']\n",
      "[]\n",
      "[(10+5j), True, 'java']\n",
      "[]\n",
      "[10, 'js', 20, 'py', 'java', True, (10+5j)]\n"
     ]
    }
   ],
   "source": [
    "l = [10,\"js\",20,\"py\",\"java\",True,10+5j]\n",
    "print(type(l))\n",
    "#slicing\n",
    "print(l[:3])\n",
    "print(l[1:2])\n",
    "print(l[3:4])\n",
    "print(l[-1:5])\n",
    "print(l[-1:-4:-1])\n",
    "print(l[5:2])\n",
    "print(l)"
   ]
  },
  {
   "cell_type": "code",
   "execution_count": 31,
   "id": "8517ae9d",
   "metadata": {},
   "outputs": [
    {
     "name": "stdout",
     "output_type": "stream",
     "text": [
      "1605543929984\n",
      "['c', 'js', 20, 'py', 'java', True, (10+5j)]\n",
      "1605543929984\n"
     ]
    }
   ],
   "source": [
    "# updating existing elements using index\n",
    "print(id(l))\n",
    "l[0] = \"c\"\n",
    "print(l)\n",
    "print(id(l))"
   ]
  },
  {
   "cell_type": "code",
   "execution_count": 32,
   "id": "f2ed6869",
   "metadata": {},
   "outputs": [
    {
     "name": "stdout",
     "output_type": "stream",
     "text": [
      "['c', 'js', 'js', 'py', 'java', True, (10+5j)]\n"
     ]
    }
   ],
   "source": [
    "l[2] = \"js\";\n",
    "print(l)"
   ]
  },
  {
   "cell_type": "code",
   "execution_count": null,
   "id": "01c199df",
   "metadata": {},
   "outputs": [
    {
     "name": "stdout",
     "output_type": "stream",
     "text": [
      "helloworld\n",
      "hellohellohellohellohello\n",
      "[20, 30, 'red', 'blue']\n",
      "[20, 30, 'red', 'blue', 20, 30, 'red', 'blue']\n"
     ]
    },
    {
     "ename": "TypeError",
     "evalue": "can't multiply sequence by non-int of type 'list'",
     "output_type": "error",
     "traceback": [
      "\u001b[1;31m---------------------------------------------------------------------------\u001b[0m",
      "\u001b[1;31mTypeError\u001b[0m                                 Traceback (most recent call last)",
      "Cell \u001b[1;32mIn[37], line 9\u001b[0m\n\u001b[0;32m      7\u001b[0m \u001b[38;5;28mprint\u001b[39m(l3)\n\u001b[0;32m      8\u001b[0m \u001b[38;5;28mprint\u001b[39m(l3 \u001b[38;5;241m*\u001b[39m \u001b[38;5;241m2\u001b[39m)\n\u001b[1;32m----> 9\u001b[0m \u001b[38;5;28mprint\u001b[39m(\u001b[43ml1\u001b[49m\u001b[43m \u001b[49m\u001b[38;5;241;43m*\u001b[39;49m\u001b[43m \u001b[49m\u001b[43ml2\u001b[49m)\n",
      "\u001b[1;31mTypeError\u001b[0m: can't multiply sequence by non-int of type 'list'"
     ]
    }
   ],
   "source": [
    "# math operator in strings & list\n",
    "print(\"hello\" + \"world\");\n",
    "print(\"hello\" * 5);\n",
    "l1 = [20,30];\n",
    "l2 = ['red',\"blue\"];\n",
    "l3 = l1 + l2\n",
    "print(l3)\n",
    "print(l3 * 2)\n",
    "# print(l1 * l2)"
   ]
  },
  {
   "cell_type": "code",
   "execution_count": null,
   "id": "d1f15c6b",
   "metadata": {},
   "outputs": [
    {
     "name": "stdout",
     "output_type": "stream",
     "text": [
      "True\n",
      "the element is not present in sequence\n"
     ]
    }
   ],
   "source": [
    "l = [\"py\",\"js\",\"c\",\"java\"];\n",
    "s = input(\"enter a string:\");\n",
    "if s in l:\n",
    "     print(f\"the element is present at {l.index(s)}\")\n",
    "else:\n",
    "     print(\"the element is not present in sequence\")"
   ]
  },
  {
   "cell_type": "code",
   "execution_count": 66,
   "id": "6ac2a765",
   "metadata": {},
   "outputs": [
    {
     "name": "stdout",
     "output_type": "stream",
     "text": [
      "['py', 10]\n"
     ]
    }
   ],
   "source": [
    "# methods in list\n",
    "l = [\"py\"];\n",
    "# adding element\n",
    "l.append(10)\n",
    "l.append(\"java\")\n",
    "l.append(20)\n",
    "# remove element\n",
    "l.pop()\n",
    "l.pop()\n",
    "print(l)"
   ]
  },
  {
   "cell_type": "code",
   "execution_count": 67,
   "id": "11a8aaf3",
   "metadata": {},
   "outputs": [
    {
     "name": "stdout",
     "output_type": "stream",
     "text": [
      "['py', 10]\n",
      "[20, 100, 'py', 10]\n"
     ]
    }
   ],
   "source": [
    "# inserting specific index\n",
    "print(l)\n",
    "l.insert(0,20);\n",
    "l.insert(1,100)\n",
    "print(l)"
   ]
  },
  {
   "cell_type": "code",
   "execution_count": 68,
   "id": "7d4b9cc7",
   "metadata": {},
   "outputs": [
    {
     "name": "stdout",
     "output_type": "stream",
     "text": [
      "[20]\n"
     ]
    }
   ],
   "source": [
    "# removing at specific index\n",
    "l.pop();\n",
    "l.remove(100);\n",
    "l.remove('py')\n",
    "print(l)"
   ]
  },
  {
   "cell_type": "code",
   "execution_count": 80,
   "id": "b9b22242",
   "metadata": {},
   "outputs": [
    {
     "name": "stdout",
     "output_type": "stream",
     "text": [
      "[10, 20, 30, 40, True]\n",
      "5\n",
      "2\n",
      "[]\n",
      "1605551261696 1605551261696\n",
      "[100, 'two'] [100, 'two']\n",
      "[100, 'two'] [100, 200]\n"
     ]
    }
   ],
   "source": [
    "l = [10,20]\n",
    "l.extend([30,40,True])\n",
    "print(l)\n",
    "print(len(l))\n",
    "print(l.index(30))\n",
    "# print(l.index(50))\n",
    "l.clear()\n",
    "print(l)\n",
    "#important\n",
    "l = [\"one\",\"two\"];\n",
    "l1 = l\n",
    "print(id(l),id(l1))\n",
    "l1[0] = 100;\n",
    "print(l,l1)\n",
    "l2 = l.copy()\n",
    "l2[-1] = 200;\n",
    "print(l,l2)"
   ]
  },
  {
   "cell_type": "code",
   "execution_count": 85,
   "id": "a22a58b1",
   "metadata": {},
   "outputs": [
    {
     "name": "stdout",
     "output_type": "stream",
     "text": [
      "2\n",
      "[200, 100, 100, 10]\n"
     ]
    }
   ],
   "source": [
    "l = [100,10,200,100];\n",
    "print(l.count(100))\n",
    "l.sort()\n",
    "l.reverse()\n",
    "print(l)"
   ]
  },
  {
   "cell_type": "code",
   "execution_count": null,
   "id": "5db8ddce",
   "metadata": {},
   "outputs": [
    {
     "name": "stdout",
     "output_type": "stream",
     "text": [
      "(10, 20, 30) <class 'tuple'>\n",
      "<class 'tuple'>\n",
      "<class 'tuple'>\n"
     ]
    }
   ],
   "source": [
    "# tuples\n",
    "#1 way \n",
    "t = (10,20,30);\n",
    "print(t,type(t))\n",
    "t1 = (10,);\n",
    "print(type(t1))\n",
    "# 2 way\n",
    "t2 = 10,\n",
    "print(type(t2))"
   ]
  },
  {
   "cell_type": "code",
   "execution_count": null,
   "id": "146d9527",
   "metadata": {},
   "outputs": [],
   "source": [
    " # Union of A and B (All elements from both sets. NO DUPLICATES\n",
    " # Intersection of A and B (Common items in both sets)\n",
    " # difference set of elements that are only in A but not in B\n",
    "\n",
    "# Dictionary is a mutable data type in Python.\n",
    "# A python dictionary is a collection of key and value pairs separated by a colon (:) & enclosed in curly braces {}.\n",
    "# Keys must be unique in a dictionary, duplicate values are allowed."
   ]
  },
  {
   "cell_type": "code",
   "execution_count": 8,
   "id": "37820dfc",
   "metadata": {},
   "outputs": [
    {
     "name": "stdout",
     "output_type": "stream",
     "text": [
      "[[10, 'py', [100, 200]], ['js', 20], [30, 'c']] <class 'list'>\n",
      "200\n"
     ]
    }
   ],
   "source": [
    "l = [[10,\"py\",[100,200]],[\"js\",20],[30,\"c\"]]\n",
    "print(l,type(l))\n",
    "print(l[0][-1][-1])"
   ]
  },
  {
   "cell_type": "code",
   "execution_count": 7,
   "id": "b8e81b53",
   "metadata": {},
   "outputs": [
    {
     "name": "stdout",
     "output_type": "stream",
     "text": [
      "10\n",
      "20\n"
     ]
    }
   ],
   "source": [
    "print(l[0][0])\n",
    "print(l[1][1])"
   ]
  },
  {
   "cell_type": "code",
   "execution_count": 15,
   "id": "09928568",
   "metadata": {},
   "outputs": [
    {
     "name": "stdout",
     "output_type": "stream",
     "text": [
      "50\n",
      "20\n",
      "(30,)\n",
      "(50, 40)\n",
      "()\n",
      "()\n"
     ]
    }
   ],
   "source": [
    "t = (10,20,30,40,50);\n",
    "print(t[-1])\n",
    "print(t[-4])\n",
    "print(t[2:3])\n",
    "print(t[-1:-3:-1])\n",
    "print(t[-1:-4:1])\n",
    "print(t[4:0:1])"
   ]
  },
  {
   "cell_type": "code",
   "execution_count": 21,
   "id": "d2ab5be5",
   "metadata": {},
   "outputs": [
    {
     "name": "stdout",
     "output_type": "stream",
     "text": [
      "(10, 20, 30, 40)\n",
      "(10, 20, 55, 66)\n",
      "[10, 20, 55, 66]\n",
      "(10, 20, 10, 20)\n"
     ]
    }
   ],
   "source": [
    "# math\n",
    "t1 = 10,20;\n",
    "t2 = (30,40);\n",
    "print(t1 + t2)\n",
    "print(t1 + tuple([55,66]))\n",
    "print(list(t1) + [55,66])\n",
    "print(t1 * 2)"
   ]
  },
  {
   "cell_type": "code",
   "execution_count": 2,
   "id": "b177f015",
   "metadata": {},
   "outputs": [
    {
     "name": "stdout",
     "output_type": "stream",
     "text": [
      "True\n",
      "False\n",
      "True\n",
      "False\n"
     ]
    }
   ],
   "source": [
    "t = 10,20,30,40,50;\n",
    "print(20 in t)\n",
    "print(60 in t)\n",
    "print(60 not in t)#t\n",
    "print(20 not in t)#f"
   ]
  },
  {
   "cell_type": "code",
   "execution_count": 27,
   "id": "2767c332",
   "metadata": {},
   "outputs": [
    {
     "name": "stdout",
     "output_type": "stream",
     "text": [
      "(10, 20, 30, 40, 50)\n",
      "10\n",
      "doesn't exist\n",
      "20\n",
      "doesn't exist\n",
      "30\n",
      "doesn't exist\n",
      "40\n",
      "The element is found\n",
      "50\n",
      "doesn't exist\n"
     ]
    }
   ],
   "source": [
    "print(t)\n",
    "for i in t:\n",
    "     print(i)\n",
    "     if i == 40:\n",
    "          print(\"The element is found\")\n",
    "     else:\n",
    "          print(\"doesn't exist\")\n"
   ]
  },
  {
   "cell_type": "code",
   "execution_count": 34,
   "id": "549a6500",
   "metadata": {},
   "outputs": [
    {
     "name": "stdout",
     "output_type": "stream",
     "text": [
      "10\n",
      "20\n",
      "30\n",
      "40\n",
      "50\n"
     ]
    }
   ],
   "source": [
    "for i in t:\n",
    "     print(i)"
   ]
  },
  {
   "cell_type": "code",
   "execution_count": 5,
   "id": "45e2d2c1",
   "metadata": {},
   "outputs": [
    {
     "name": "stdout",
     "output_type": "stream",
     "text": [
      "10 0 -5\n",
      "20 1 -4\n",
      "30 2 -3\n",
      "40 3 -2\n",
      "50 4 -1\n"
     ]
    }
   ],
   "source": [
    "i = 0;\n",
    "while i < len(t):\n",
    "     print(t[i],i,i - len(t))\n",
    "     i += 1"
   ]
  },
  {
   "cell_type": "code",
   "execution_count": null,
   "id": "85ddc5ac",
   "metadata": {},
   "outputs": [
    {
     "name": "stdout",
     "output_type": "stream",
     "text": [
      "2\n",
      "2\n"
     ]
    },
    {
     "ename": "ValueError",
     "evalue": "tuple.index(x): x not in tuple",
     "output_type": "error",
     "traceback": [
      "\u001b[1;31m---------------------------------------------------------------------------\u001b[0m",
      "\u001b[1;31mValueError\u001b[0m                                Traceback (most recent call last)",
      "Cell \u001b[1;32mIn[9], line 5\u001b[0m\n\u001b[0;32m      3\u001b[0m \u001b[38;5;28mprint\u001b[39m((\u001b[38;5;241m10\u001b[39m,\u001b[38;5;241m10\u001b[39m,\u001b[38;5;241m20\u001b[39m,\u001b[38;5;241m30\u001b[39m)\u001b[38;5;241m.\u001b[39mcount(\u001b[38;5;241m10\u001b[39m))\n\u001b[0;32m      4\u001b[0m \u001b[38;5;28mprint\u001b[39m((\u001b[38;5;241m10\u001b[39m,\u001b[38;5;241m20\u001b[39m,\u001b[38;5;241m30\u001b[39m)\u001b[38;5;241m.\u001b[39mindex(\u001b[38;5;241m30\u001b[39m))\n\u001b[1;32m----> 5\u001b[0m \u001b[38;5;28mprint\u001b[39m(\u001b[43m(\u001b[49m\u001b[38;5;241;43m10\u001b[39;49m\u001b[43m,\u001b[49m\u001b[38;5;241;43m20\u001b[39;49m\u001b[43m,\u001b[49m\u001b[38;5;241;43m30\u001b[39;49m\u001b[43m)\u001b[49m\u001b[38;5;241;43m.\u001b[39;49m\u001b[43mindex\u001b[49m\u001b[43m(\u001b[49m\u001b[38;5;241;43m40\u001b[39;49m\u001b[43m)\u001b[49m)\n",
      "\u001b[1;31mValueError\u001b[0m: tuple.index(x): x not in tuple"
     ]
    }
   ],
   "source": [
    "#methods in tuple\n",
    "# t[0] = 100\n",
    "print((10,10,20,30).count(10))\n",
    "print((10,20,30).index(30))\n",
    "# print((10,20,30).index(40))"
   ]
  },
  {
   "cell_type": "code",
   "execution_count": 16,
   "id": "d937a6de",
   "metadata": {},
   "outputs": [
    {
     "name": "stdout",
     "output_type": "stream",
     "text": [
      "{200, 'python', 100} <class 'set'>\n",
      "{'js', 'py'}\n",
      "{10, 20, 30}\n"
     ]
    }
   ],
   "source": [
    "# creating sets 2 ways\n",
    "# 1 way\n",
    "s = {100,200,\"python\",200,\"python\"}\n",
    "print(s,type(s))\n",
    "# 2 way \n",
    "t = \"py\",'js',\"py\",\"js\"\n",
    "l = [10,30,20]\n",
    "s1 = set(t);\n",
    "s2 = set(l)\n",
    "print(s1)\n",
    "print(s2)"
   ]
  },
  {
   "cell_type": "code",
   "execution_count": 22,
   "id": "2b822635",
   "metadata": {},
   "outputs": [
    {
     "name": "stdout",
     "output_type": "stream",
     "text": [
      "[] 0 <class 'list'>\n",
      "() 0 <class 'tuple'>\n",
      "{} 0 <class 'dict'>\n",
      "set() 0 <class 'set'>\n"
     ]
    }
   ],
   "source": [
    "# how to create empty sets\n",
    "l = [];\n",
    "print(l,len(l),type(l))\n",
    "t = ();\n",
    "print(t,len(t),type(t))\n",
    "s = {};\n",
    "print(s,len(s),type(s))\n",
    "# empty set we have use set fun\n",
    "s = set()\n",
    "print(s,len(s),type(s))"
   ]
  },
  {
   "cell_type": "code",
   "execution_count": 30,
   "id": "15a01852",
   "metadata": {},
   "outputs": [
    {
     "ename": "KeyError",
     "evalue": "30",
     "output_type": "error",
     "traceback": [
      "\u001b[1;31m---------------------------------------------------------------------------\u001b[0m",
      "\u001b[1;31mKeyError\u001b[0m                                  Traceback (most recent call last)",
      "Cell \u001b[1;32mIn[30], line 7\u001b[0m\n\u001b[0;32m      5\u001b[0m s\u001b[38;5;241m.\u001b[39mpop() \u001b[38;5;66;03m# any random element\u001b[39;00m\n\u001b[0;32m      6\u001b[0m s\u001b[38;5;241m.\u001b[39mremove(\u001b[38;5;241m20\u001b[39m)\n\u001b[1;32m----> 7\u001b[0m \u001b[43ms\u001b[49m\u001b[38;5;241;43m.\u001b[39;49m\u001b[43mremove\u001b[49m\u001b[43m(\u001b[49m\u001b[38;5;241;43m30\u001b[39;49m\u001b[43m)\u001b[49m\n\u001b[0;32m      8\u001b[0m \u001b[38;5;28mprint\u001b[39m(s)\n",
      "\u001b[1;31mKeyError\u001b[0m: 30"
     ]
    }
   ],
   "source": [
    "s = {10};\n",
    "#methods inside set\n",
    "s.add(20)\n",
    "s.add(50)\n",
    "s.pop() # any random element\n",
    "s.remove(20)\n",
    "s.remove(30)\n",
    "print(s)\n",
    "\n",
    "\n"
   ]
  },
  {
   "cell_type": "code",
   "execution_count": null,
   "id": "2ade88db",
   "metadata": {},
   "outputs": [
    {
     "name": "stdout",
     "output_type": "stream",
     "text": [
      "[10, -5, 1, -2, 200, 50, -120, 500]\n",
      "[10, 1, 200, 50, 500]\n",
      "[-5, -2, -120]\n",
      "10\n",
      "1\n",
      "200\n",
      "50\n",
      "500\n",
      "the sum of postive: 761\n"
     ]
    }
   ],
   "source": [
    "# write a program for separate postive  and negative numbers into different arrays\n",
    "l = [10,-5,1,-2,200,50,-120,500];\n",
    "p = [];\n",
    "n = [];\n",
    "for i in l:\n",
    "     if i > 0:\n",
    "          p.append(i)\n",
    "     else:\n",
    "          n.append(i)\n",
    "print(l);\n",
    "print(p);\n",
    "print(n)\n",
    "\n",
    "sum_positive = 0;\n",
    "sum_negative = 0;\n",
    "\n",
    "for x in p:\n",
    "    sum_positive = sum_positive + x\n",
    "print(\"the sum of postive:\",sum_positive)"
   ]
  },
  {
   "cell_type": "code",
   "execution_count": 9,
   "id": "78759c71",
   "metadata": {},
   "outputs": [
    {
     "name": "stdout",
     "output_type": "stream",
     "text": [
      "python\n",
      "node.js\n",
      "['java', 'c++']\n"
     ]
    }
   ],
   "source": [
    "# unpacking values from tuple\n",
    "t = (\"python\",\"node.js\",\"java\",\"c++\");\n",
    "(p,n,*i) = t;\n",
    "print(p);\n",
    "print(n)\n",
    "print(i)"
   ]
  },
  {
   "cell_type": "code",
   "execution_count": null,
   "id": "2705d616",
   "metadata": {},
   "outputs": [
    {
     "name": "stdout",
     "output_type": "stream",
     "text": [
      "{10, 20, 30}\n",
      "<class 'dict'>\n",
      "<class 'set'>\n"
     ]
    }
   ],
   "source": [
    "# creating a set \n",
    "s = {10,20,20,30};\n",
    "print(s)\n",
    "# empty set\n",
    "s1 = {};\n",
    "print(type(s1))\n",
    "s2 = set();\n",
    "print(type(s2))"
   ]
  },
  {
   "cell_type": "code",
   "execution_count": 17,
   "id": "7cb2a247",
   "metadata": {},
   "outputs": [
    {
     "name": "stdout",
     "output_type": "stream",
     "text": [
      "4\n",
      "{True, 'b', 'py', 5.5, 10, 'a', 'telugu', 'js', 'hindi', 'c'} 10\n",
      "None\n",
      "{True, 'b', 5.5, 10, 'a', 'telugu', 'js', 'c'}\n",
      "{10, 20} {'py', 10, 20}\n",
      "set()\n"
     ]
    }
   ],
   "source": [
    "# index or slicing will not apply for set\n",
    "# print(s[0])\n",
    "# add or remove elements from set\n",
    "s = {\"py\",10,True,5.5};\n",
    "print(len(s))\n",
    "# add method will insert a single element\n",
    "s.add(\"telugu\");\n",
    "# update will add multiple elements with any iterable\n",
    "s.update([\"hindi\",\"telugu\",\"js\"])\n",
    "s.update({\"a\",\"b\",\"c\",\"a\"})\n",
    "print(s,len(s))\n",
    "# remove elements from set\n",
    "s.remove(\"hindi\");\n",
    "# s.remove(500) error\n",
    "s.discard(\"py\")\n",
    "print(s.discard(500))\n",
    "print(s)\n",
    "# copy method to avoid mutation of data\n",
    "s1 = {10,20};\n",
    "s2 = s1.copy();\n",
    "s2.add(\"py\");\n",
    "print(s1,s2)\n",
    "# clear;\n",
    "s1.clear();\n",
    "print(s1)\n"
   ]
  },
  {
   "cell_type": "code",
   "execution_count": 22,
   "id": "c67e91a5",
   "metadata": {},
   "outputs": [
    {
     "name": "stdout",
     "output_type": "stream",
     "text": [
      "[10, 20, 500]\n",
      "True\n"
     ]
    }
   ],
   "source": [
    "#math operations\n",
    "s1 = {10,20};\n",
    "s2 = {10,30};\n",
    "#print(s1  + s2) # + will not work\n",
    "print([10,20] + [500])\n",
    "# print(s1 * 2) not work \n",
    "# membership operators\n",
    "print(10 in s1)"
   ]
  },
  {
   "cell_type": "code",
   "execution_count": null,
   "id": "75dca31f",
   "metadata": {},
   "outputs": [
    {
     "name": "stdout",
     "output_type": "stream",
     "text": [
      "[80, 20, 40, 60]\n",
      "Updated values  of set: {80, 40, 20, 60}\n"
     ]
    }
   ],
   "source": [
    "# loops in set final output{20,40,60,80}\n",
    "s = {10,20,30,30,40};\n",
    "l = [];\n",
    "double = set();# empty for new values\n",
    "for x in s:\n",
    "     l.append(x * 2);\n",
    "print(l)\n",
    "double.update(l); # multiple list values\n",
    "print(\"Updated values  of set:\",double)\n"
   ]
  },
  {
   "cell_type": "code",
   "execution_count": 36,
   "id": "a6bc9d5b",
   "metadata": {},
   "outputs": [
    {
     "name": "stdout",
     "output_type": "stream",
     "text": [
      "{100, 200, 300, 400, 500}\n",
      "[100, 200, 100, 300, 200, 400, 500] [100, 200, 300, 400, 500]\n"
     ]
    }
   ],
   "source": [
    "l = [100,200,100,300,200,400,500];\n",
    "s = set(l)\n",
    "print(s)\n",
    "new_list = list(s)\n",
    "print(l,new_list)"
   ]
  },
  {
   "cell_type": "code",
   "execution_count": 42,
   "id": "a1c05973",
   "metadata": {},
   "outputs": [
    {
     "name": "stdout",
     "output_type": "stream",
     "text": [
      "{1, 2, 3, 4, 5}\n",
      "{3}\n",
      "{1, 2}\n",
      "{4, 5}\n",
      "3\n",
      "1\n"
     ]
    }
   ],
   "source": [
    "s1 = {1,2,3};\n",
    "s2 = {3,4,5};\n",
    "# set operations\n",
    "print(s1.union(s2))\n",
    "print(s1.intersection(s2))\n",
    "print(s1.difference(s2))\n",
    "print(s2.difference(s1))\n",
    "print(max(s1))\n",
    "print(min(s1))\n"
   ]
  },
  {
   "cell_type": "code",
   "execution_count": null,
   "id": "fcaa2374",
   "metadata": {},
   "outputs": [
    {
     "name": "stdout",
     "output_type": "stream",
     "text": [
      "{'name': 'sai', 'age': 60, 'job': 'bank manager', 1: 'ravi'} <class 'dict'>\n",
      "4\n",
      "sai\n",
      "bank manager\n",
      "60\n",
      "{'name': 'sai', 'age': 60, 'job': 'bank manager', 1: 'ravi', 'address': 'ap'}\n",
      "None\n",
      "dict_keys(['name', 'age', 'job', 1, 'address'])\n",
      "dict_values(['sai', 60, 'bank manager', 'ravi', 'ap'])\n",
      "dict_items([('name', 'sai'), ('age', 60), ('job', 'bank manager'), (1, 'ravi'), ('address', 'ap')])\n"
     ]
    },
    {
     "ename": "TypeError",
     "evalue": "update expected at most 1 argument, got 2",
     "output_type": "error",
     "traceback": [
      "\u001b[1;31m---------------------------------------------------------------------------\u001b[0m",
      "\u001b[1;31mTypeError\u001b[0m                                 Traceback (most recent call last)",
      "Cell \u001b[1;32mIn[62], line 19\u001b[0m\n\u001b[0;32m     17\u001b[0m \u001b[38;5;28mprint\u001b[39m(d\u001b[38;5;241m.\u001b[39mvalues())\n\u001b[0;32m     18\u001b[0m \u001b[38;5;28mprint\u001b[39m(d\u001b[38;5;241m.\u001b[39mitems())\n\u001b[1;32m---> 19\u001b[0m \u001b[43md\u001b[49m\u001b[38;5;241;43m.\u001b[39;49m\u001b[43mupdate\u001b[49m\u001b[43m(\u001b[49m\u001b[38;5;124;43m\"\u001b[39;49m\u001b[38;5;124;43mage\u001b[39;49m\u001b[38;5;124;43m\"\u001b[39;49m\u001b[43m,\u001b[49m\u001b[38;5;241;43m10\u001b[39;49m\u001b[43m)\u001b[49m \n\u001b[0;32m     20\u001b[0m \u001b[38;5;28mprint\u001b[39m(d)\n",
      "\u001b[1;31mTypeError\u001b[0m: update expected at most 1 argument, got 2"
     ]
    }
   ],
   "source": [
    "d = {\"name\":\"sai\",\"age\":60,\"job\":\"bank manager\",1:\"ravi\"}\n",
    "print(d,type(d))\n",
    "print(len(d))\n",
    "#accessing values from dict\n",
    "print(d[\"name\"])\n",
    "print(d[\"job\"])\n",
    "# 2 way get \n",
    "print(d.get(\"age\"))\n",
    "# update dict \n",
    "d[\"address\"] = \"hyd\";\n",
    "d[\"address\"] = \"ap\"\n",
    "print(d)\n",
    "# print(d[2]);\n",
    "print(d.get(2))\n",
    "# methods in dict\n",
    "print(d.keys())\n",
    "print(d.values())\n",
    "print(d.items())\n",
    "d.update({\"age\":10})\n",
    "print(d)"
   ]
  },
  {
   "cell_type": "code",
   "execution_count": 24,
   "id": "14b1359e",
   "metadata": {},
   "outputs": [
    {
     "name": "stdout",
     "output_type": "stream",
     "text": [
      "4 {'name': 'rk', 'age': 25, 'gender': 'male', 'address': 'hyd'}\n",
      "rk\n",
      "25\n",
      "['sai', 'siva']\n",
      "NA\n",
      "dict_keys(['name', 'age', 'gender', 'address'])\n",
      "dict_values(['rk', 25, 'male', 'hyd'])\n",
      "dict_items([('name', 'rk'), ('age', 25), ('gender', 'male'), ('address', 'hyd')])\n",
      "('address', 'hyd')\n",
      "None\n",
      "{}\n",
      "2646061705280 2646062002624\n",
      "{1: 'python', 2: 20} {1: 10, 2: 20}\n"
     ]
    }
   ],
   "source": [
    "# empty dict\n",
    "student = {};\n",
    "# adding data to dict\n",
    "student[\"name\"] = \"rk\";\n",
    "student[\"age\"] = 20;\n",
    "# 2way update method will check if key is already existed it will update current value or else it add key and value to dict\n",
    "student.update({\"gender\":\"male\"})\n",
    "student.update({\"age\":25});\n",
    "student.update([(\"address\",\"hyd\")])\n",
    "print(len(student),student);\n",
    "# getting data\n",
    "print(student[\"name\"]);\n",
    "# print(student[\"friends\"]);\n",
    "print(student.get(\"age\"))\n",
    "print(student.get(\"friends\",[\"sai\",\"siva\"]));\n",
    "print(student.get(1,\"NA\"))\n",
    "print(student.keys())\n",
    "print(student.values())\n",
    "print(student.items())\n",
    "#remove elements \n",
    "print(student.popitem())\n",
    "student.pop(\"gender\")\n",
    "del student[\"age\"];\n",
    "# student.pop(\"friends\")\n",
    "# del student[\"friends\"]\n",
    "print(student.clear())\n",
    "print(student)\n",
    "#copy\n",
    "d1 = {1:10,2:20};\n",
    "d2 = d1.copy();\n",
    "print(id(d1),id(d2))\n",
    "d1[1] = \"python\";\n",
    "print(d1,d2)"
   ]
  },
  {
   "cell_type": "code",
   "execution_count": 36,
   "id": "a9f62fc0",
   "metadata": {},
   "outputs": [
    {
     "name": "stdout",
     "output_type": "stream",
     "text": [
      "name\n",
      "age\n",
      "gender\n",
      "married\n",
      "friends\n",
      "to get values\n",
      "sai\n",
      "25\n",
      "M\n",
      "False\n",
      "['rk', 'siva']\n",
      "name ------ sai\n",
      "age ------ 25\n",
      "gender ------ M\n",
      "married ------ False\n",
      "friends ------ ['rk', 'siva']\n"
     ]
    }
   ],
   "source": [
    "# for value in sequence\n",
    "d = {\n",
    "     \"name\":\"sai\",\n",
    "     \"age\":25,\n",
    "     \"gender\":\"M\",\n",
    "     \"married\":False,\n",
    "     \"friends\":[\"rk\",\"siva\"]\n",
    "}\n",
    "# we keys\n",
    "for i in d:\n",
    "     print(i)\n",
    "# to get values from dict\n",
    "print(\"to get values\");\n",
    "for i in d.values():\n",
    "     print(i)\n",
    "# get both key values\n",
    "for k,v in d.items():\n",
    "     print(k,\"------\",v)"
   ]
  },
  {
   "cell_type": "code",
   "execution_count": null,
   "id": "1931d6ef",
   "metadata": {},
   "outputs": [
    {
     "name": "stdout",
     "output_type": "stream",
     "text": [
      "10\n",
      "30\n",
      "array('i')\n",
      "2\n",
      "None\n",
      "array('i', [10, 20, 30, 50])\n"
     ]
    },
    {
     "name": "stderr",
     "output_type": "stream",
     "text": [
      "C:\\Users\\ramak\\AppData\\Local\\Temp\\ipykernel_10996\\1210204663.py:5: DeprecationWarning: The 'u' type code is deprecated and will be removed in Python 3.16\n",
      "  s = arr.array(\"u\",\"py\");\n"
     ]
    }
   ],
   "source": [
    "#array\n",
    "import array as arr\n",
    "a = arr.array(\"i\",[10,20,30]);\n",
    "# s = arr.array(\"i\",[1,\"a\"]);\n",
    "s = arr.array(\"u\",\"py\");\n",
    "print(a[0])\n",
    "print(a[-1])\n",
    "print(a[-1:0])\n",
    "print(a.index(30))\n",
    "print(a.append(50))"
   ]
  },
  {
   "cell_type": "code",
   "execution_count": 57,
   "id": "75fa9ed7",
   "metadata": {},
   "outputs": [
    {
     "name": "stdout",
     "output_type": "stream",
     "text": [
      "1 [1 2 3 4]\n",
      "2 [[10 20]\n",
      " [30 40]]\n",
      "3 [[[100 200]\n",
      "  [300 400]]]\n",
      "1 [0.]\n",
      "1 [0. 0.]\n"
     ]
    }
   ],
   "source": [
    "import numpy  as np\n",
    "# from numpy import array\n",
    "a1 = np.array([1,2,3,4]);\n",
    "a2 = np.array([[10,20],[30,40]]);\n",
    "a3 = np.array([[[100,200],[300,400]]])\n",
    "print(a1.ndim,a1);\n",
    "print(a2.ndim,a2);\n",
    "print(a3.ndim,a3);\n",
    "z1 = np.zeros(1)\n",
    "z2 = np.zeros((2))\n",
    "print(z1.ndim,z1)\n",
    "print(z2.ndim,z2)\n"
   ]
  },
  {
   "cell_type": "code",
   "execution_count": 4,
   "id": "7e974ec3",
   "metadata": {},
   "outputs": [
    {
     "name": "stdout",
     "output_type": "stream",
     "text": [
      "[1 2 3] 1\n",
      "[[10 20]\n",
      " [30 40]] 2\n",
      "[[[100 200 300]\n",
      "  [400 500 600]]] 3\n"
     ]
    }
   ],
   "source": [
    "#using np with arrays\n",
    "import numpy as np\n",
    "# from numpy import array\n",
    "a1 = np.array([1,2,3]);\n",
    "print(a1,a1.ndim)\n",
    "a2 = np.array([[10,20],[30,40]]);\n",
    "print(a2,a2.ndim)\n",
    "a3 = np.array([[[100,200,300],[400,500,600]]]);\n",
    "print(a3,a3.ndim)"
   ]
  },
  {
   "cell_type": "code",
   "execution_count": 8,
   "id": "c567fa5e",
   "metadata": {},
   "outputs": [
    {
     "name": "stdout",
     "output_type": "stream",
     "text": [
      "[10, 20, 30, 10, 20, 30]\n",
      "[20, 40, 60]\n",
      "[20 40 60]\n"
     ]
    }
   ],
   "source": [
    "l = [10,20,30];\n",
    "new = [];\n",
    "for i in l:\n",
    "     new.append(i * 2)\n",
    "print(l* 2)\n",
    "print(new)\n",
    "# numpy\n",
    "l1 = np.array([10,20,30]);\n",
    "print(l1 * 2)"
   ]
  },
  {
   "cell_type": "code",
   "execution_count": null,
   "id": "f4b90453",
   "metadata": {},
   "outputs": [
    {
     "name": "stdout",
     "output_type": "stream",
     "text": [
      "[10, 20, 30, 40]\n",
      "[40 60]\n",
      "[300 800]\n"
     ]
    }
   ],
   "source": [
    "l1 = [10,20];\n",
    "l2 = [30,40];\n",
    "print(l1 + l2)\n",
    "# numpy\n",
    "n1 = np.array([10,20]);\n",
    "n2 = np.array([30,40]);\n",
    "print(n1+n2)\n",
    "print(n1*n2)\n",
    "\n"
   ]
  },
  {
   "cell_type": "code",
   "execution_count": 20,
   "id": "5bc01021",
   "metadata": {},
   "outputs": [
    {
     "name": "stdout",
     "output_type": "stream",
     "text": [
      "[0. 0. 0. 0. 0.] 1\n",
      "[[0. 0. 0.]\n",
      " [0. 0. 0.]] 2\n",
      "[[1. 1. 1. 1. 1. 1. 1.]\n",
      " [1. 1. 1. 1. 1. 1. 1.]\n",
      " [1. 1. 1. 1. 1. 1. 1.]\n",
      " [1. 1. 1. 1. 1. 1. 1.]\n",
      " [1. 1. 1. 1. 1. 1. 1.]\n",
      " [1. 1. 1. 1. 1. 1. 1.]\n",
      " [1. 1. 1. 1. 1. 1. 1.]] 2\n",
      "[[5 5 5]\n",
      " [5 5 5]\n",
      " [5 5 5]] 2\n",
      "[[1. 0. 0. 0.]\n",
      " [0. 1. 0. 0.]\n",
      " [0. 0. 1. 0.]\n",
      " [0. 0. 0. 1.]]\n"
     ]
    }
   ],
   "source": [
    "# array creation methods\n",
    "z1 = np.zeros(5)\n",
    "print(z1,z1.ndim)\n",
    "z2 = np.zeros((2,3));\n",
    "print(z2,z2.ndim)\n",
    "one = np.ones((7,7));\n",
    "print(one,one.ndim)\n",
    "# z3 = np.five((5,5))\n",
    "z3 = np.full((3,3),5);\n",
    "print(z3,z3.ndim)\n",
    "\n",
    "z4 = np.eye(4);\n",
    "print(z4)\n"
   ]
  },
  {
   "cell_type": "code",
   "execution_count": null,
   "id": "64d1930d",
   "metadata": {},
   "outputs": [
    {
     "name": "stdout",
     "output_type": "stream",
     "text": [
      "[0 1 2 3 4 5 6 7 8 9]\n",
      "[ 1  2  3  4  5  6  7  8  9 10]\n"
     ]
    }
   ],
   "source": [
    "#arange\n",
    "a = np.arange(10);\n",
    "b = np.arange(1,11);\n",
    "print(a)\n",
    "print(b)"
   ]
  },
  {
   "cell_type": "code",
   "execution_count": 33,
   "id": "b7639f0b",
   "metadata": {},
   "outputs": [
    {
     "name": "stdout",
     "output_type": "stream",
     "text": [
      "1\n",
      "(2, 3) [[100 200 300]\n",
      " [300 400 500]] 2\n",
      "4\n",
      "6\n",
      "8\n",
      "32\n",
      "int64\n"
     ]
    }
   ],
   "source": [
    "#attributes\n",
    "a = np.array([10,20,30,40]);\n",
    "print(a.ndim);\n",
    "b = np.array([[100,200,300],[300,400,500]])\n",
    "print(b.shape,b,b.ndim);\n",
    "print(a.size)\n",
    "print(b.size)\n",
    "print(a.itemsize)\n",
    "print(a.nbytes)\n",
    "print(a.dtype)"
   ]
  },
  {
   "cell_type": "code",
   "execution_count": 44,
   "id": "df916c77",
   "metadata": {},
   "outputs": [
    {
     "name": "stdout",
     "output_type": "stream",
     "text": [
      "int64\n",
      "int16\n",
      "uint8\n",
      "float32\n"
     ]
    }
   ],
   "source": [
    "#data types\n",
    "a = np.array([10,20,30]);\n",
    "print(a.dtype)\n",
    "# by using int you can represent + or - num\n",
    "b = np.array([100,200,-20],dtype=\"int16\");\n",
    "c = np.array([40,50],dtype=\"uint8\");\n",
    "d = np.array([5.5,6.6],dtype=\"float32\")\n",
    "print(b.dtype)\n",
    "print(c.dtype)\n",
    "print(d.dtype)\n"
   ]
  },
  {
   "cell_type": "code",
   "execution_count": 59,
   "id": "b24616a2",
   "metadata": {},
   "outputs": [
    {
     "name": "stdout",
     "output_type": "stream",
     "text": [
      "[1 2 3 4 5 6 7 8 9] (9,)\n",
      "[[1 2 3]\n",
      " [4 5 6]\n",
      " [7 8 9]]\n",
      "None\n",
      "[[1 2 3]\n",
      " [4 5 6]\n",
      " [7 8 9]]\n",
      "2\n",
      "[[10 20 30]]\n"
     ]
    }
   ],
   "source": [
    "#shape and reshape\n",
    "a = np.arange(1,10);\n",
    "print(a,a.shape)\n",
    "print(a.reshape((3,3)))\n",
    "print(a.resize((3,3)));\n",
    "print(a)\n",
    "print(a[0][1])\n",
    "b = np.matrix([10,20,30]);\n",
    "print(b)"
   ]
  },
  {
   "cell_type": "code",
   "execution_count": 70,
   "id": "7ff1ccb3",
   "metadata": {},
   "outputs": [
    {
     "name": "stdout",
     "output_type": "stream",
     "text": [
      "hello welcome to functions\n",
      "hello\n",
      "bye\n",
      "hello\n",
      "bye\n",
      "None\n",
      "Welcome rk\n"
     ]
    }
   ],
   "source": [
    "print(\"hello welcome to functions\")\n",
    "def greetings():\n",
    "     print(\"hello\");\n",
    "     print(\"bye\")\n",
    "# calling the func\n",
    "greetings()\n",
    "print(greetings())\n",
    "def welcome():\n",
    "     print(\"Welcome rk\");\n",
    "welcome()"
   ]
  },
  {
   "cell_type": "code",
   "execution_count": null,
   "id": "a2227f0d",
   "metadata": {},
   "outputs": [],
   "source": [
    "a = 10;\n",
    "b = 20;\n",
    "print(\"sum is:\",a+b);\n",
    "print(\"sub is:\",a-b);\n",
    "print(\"product is :\",a *b)\n",
    "a = 100;\n",
    "b = 200;\n",
    "print(\"sum is:\",a+b);\n",
    "print(\"sub is:\",a-b);\n",
    "print(\"product is :\",a *b)\n"
   ]
  },
  {
   "cell_type": "code",
   "execution_count": 5,
   "id": "fe9335eb",
   "metadata": {},
   "outputs": [
    {
     "name": "stdout",
     "output_type": "stream",
     "text": [
      "Hello python\n",
      "Hello python\n",
      "Hello python\n",
      "Hello python\n",
      "None\n"
     ]
    }
   ],
   "source": [
    "#1. type of function with out parameters arguments and without return\n",
    "def welcome():\n",
    "     print(\"Hello python\");\n",
    "welcome()\n",
    "welcome()\n",
    "welcome()\n",
    "print(welcome())"
   ]
  },
  {
   "cell_type": "code",
   "execution_count": null,
   "id": "fd729b94",
   "metadata": {},
   "outputs": [
    {
     "name": "stdout",
     "output_type": "stream",
     "text": [
      "rk\n",
      "rk\n",
      "rk\n"
     ]
    }
   ],
   "source": [
    "def greetings():\n",
    "     print(\"rk\");\n",
    "greetings()\n",
    "greetings()\n",
    "greetings()"
   ]
  },
  {
   "cell_type": "code",
   "execution_count": null,
   "id": "7af295f4",
   "metadata": {},
   "outputs": [
    {
     "name": "stdout",
     "output_type": "stream",
     "text": [
      "welcome , rk\n",
      "welcome , kittu\n"
     ]
    }
   ],
   "source": [
    "# 2 type function with parameters and arguments without return type\n",
    "def display(name):\n",
    "     print(\"welcome ,\",name);\n",
    "display(\"rk\")\n",
    "display(\"kittu\")"
   ]
  },
  {
   "cell_type": "code",
   "execution_count": null,
   "id": "682c42c2",
   "metadata": {},
   "outputs": [],
   "source": []
  },
  {
   "cell_type": "code",
   "execution_count": 16,
   "id": "ea003a11",
   "metadata": {},
   "outputs": [
    {
     "name": "stdout",
     "output_type": "stream",
     "text": [
      "15\n",
      "15\n"
     ]
    }
   ],
   "source": [
    "# 3 type function with parameters and arguments with return type\n",
    "def sum(a,b):\n",
    "     return a + b;\n",
    "print(sum(5,10))\n",
    "# correct way to rev data from func\n",
    "result = sum(5,10);\n",
    "print(result)"
   ]
  },
  {
   "cell_type": "code",
   "execution_count": 23,
   "id": "3250e38c",
   "metadata": {},
   "outputs": [
    {
     "name": "stdout",
     "output_type": "stream",
     "text": [
      "my name is rk and age is 100\n",
      "my name is 100 and age is rk\n",
      "my name is rk and age is 100\n",
      "my name is rk and age is 100\n"
     ]
    }
   ],
   "source": [
    "# type of arguments\n",
    "#1. positional arguments \n",
    "def display(name,age):\n",
    "     print(f\"my name is {name} and age is {age}\")\n",
    "display(\"rk\",100)\n",
    "display(100,\"rk\")\n",
    "#2. keyword arguments to solve problem from positinal \n",
    "display(name=\"rk\",age=100)\n",
    "# for keyword argu order is not important\n",
    "display(age=100,name=\"rk\")\n",
    "# display(name=\"rk\",year=100)"
   ]
  },
  {
   "cell_type": "code",
   "execution_count": null,
   "id": "8072f7b9",
   "metadata": {},
   "outputs": [
    {
     "name": "stdout",
     "output_type": "stream",
     "text": [
      "15\n",
      "15\n",
      "60\n",
      "15\n",
      "80\n"
     ]
    }
   ],
   "source": [
    "# 3.default parameters\n",
    "def sum(a=30,b=50):\n",
    "     return a + b\n",
    "print(sum(10,5))\n",
    "print(sum(10,b=5))\n",
    "print(sum(10))\n",
    "print(sum(5,10))\n",
    "print(sum(a=50,b=100))"
   ]
  },
  {
   "cell_type": "code",
   "execution_count": null,
   "id": "da6fb4f1",
   "metadata": {},
   "outputs": [
    {
     "name": "stdout",
     "output_type": "stream",
     "text": [
      "()\n",
      "(10,)\n",
      "(5, 2, 3)\n",
      "(10, 20, 30, 40, 50)\n",
      "{'name': 'rk', 'age': '100', 'job': 't'}\n"
     ]
    }
   ],
   "source": [
    "# i want to create function it take any number of arguments\n",
    "#4.Variable-Length Arguments\n",
    "def square(*i):\n",
    "     print(i);\n",
    "square()\n",
    "square(10)\n",
    "square(5,2,3)\n",
    "square(10,20,30,40,50)\n"
   ]
  },
  {
   "cell_type": "code",
   "execution_count": 36,
   "id": "7cf85b26",
   "metadata": {},
   "outputs": [
    {
     "name": "stdout",
     "output_type": "stream",
     "text": [
      "{'name': 'rk', 'age': '100', 'job': 't'}\n",
      "name ------- rk\n",
      "age ------- 100\n",
      "job ------- t\n",
      "{}\n"
     ]
    }
   ],
   "source": [
    "#5. kwargs keyword Variable-Length Arguments\n",
    "def details(**k):\n",
    "     print(k)\n",
    "     for k,v in k.items():\n",
    "          print(k,\"-------\",v)\n",
    "details(name=\"rk\",age=\"100\",job = \"t\")\n",
    "details()"
   ]
  },
  {
   "cell_type": "code",
   "execution_count": null,
   "id": "6bbcb0c3",
   "metadata": {},
   "outputs": [
    {
     "name": "stdout",
     "output_type": "stream",
     "text": [
      "made in indian mobile:, lava mobiles\n",
      "we have international mobiles samsung\n",
      "lava mobiles\n"
     ]
    }
   ],
   "source": []
  },
  {
   "cell_type": "code",
   "execution_count": 8,
   "id": "993adec3",
   "metadata": {},
   "outputs": [
    {
     "name": "stdout",
     "output_type": "stream",
     "text": [
      "welcome to our shop\n",
      "i want to buy a good mobile samsung\n",
      "i want to buy indian mobile  lava\n",
      "jio\n",
      "micromax\n"
     ]
    }
   ],
   "source": [
    "sam = \"samsung\";\n",
    "m = \"karbon\"\n",
    "def shop():\n",
    "     print(\"welcome to our shop\")\n",
    "     global l\n",
    "     l = \"lava\"\n",
    "     global jr\n",
    "     jr = \"jio\"\n",
    "     global m\n",
    "     m = \"micromax\"\n",
    "     print(\"i want to buy a good mobile\",sam)\n",
    "shop()\n",
    "print(\"i want to buy indian mobile \",l)\n",
    "print(jr)\n",
    "\n",
    "print(m)\n"
   ]
  },
  {
   "cell_type": "code",
   "execution_count": 10,
   "id": "ad1476d9",
   "metadata": {},
   "outputs": [
    {
     "name": "stdout",
     "output_type": "stream",
     "text": [
      "you can get your father properties 50 lakhs\n"
     ]
    },
    {
     "ename": "NameError",
     "evalue": "name 'own' is not defined",
     "output_type": "error",
     "traceback": [
      "\u001b[1;31m---------------------------------------------------------------------------\u001b[0m",
      "\u001b[1;31mNameError\u001b[0m                                 Traceback (most recent call last)",
      "Cell \u001b[1;32mIn[10], line 9\u001b[0m\n\u001b[0;32m      7\u001b[0m      son()\n\u001b[0;32m      8\u001b[0m      \u001b[38;5;28mprint\u001b[39m(own)\n\u001b[1;32m----> 9\u001b[0m \u001b[43mfather\u001b[49m\u001b[43m(\u001b[49m\u001b[43m)\u001b[49m\n",
      "Cell \u001b[1;32mIn[10], line 8\u001b[0m, in \u001b[0;36mfather\u001b[1;34m()\u001b[0m\n\u001b[0;32m      6\u001b[0m      own \u001b[38;5;241m=\u001b[39m \u001b[38;5;124m\"\u001b[39m\u001b[38;5;124m1cr\u001b[39m\u001b[38;5;124m\"\u001b[39m\n\u001b[0;32m      7\u001b[0m son()\n\u001b[1;32m----> 8\u001b[0m \u001b[38;5;28mprint\u001b[39m(\u001b[43mown\u001b[49m)\n",
      "\u001b[1;31mNameError\u001b[0m: name 'own' is not defined"
     ]
    }
   ],
   "source": [
    "#enclosed scope\n",
    "def  father():\n",
    "     p = \"50 lakhs\"\n",
    "     def son():\n",
    "          print(\"you can get your father properties\",p)\n",
    "          own = \"1cr\"\n",
    "     son()\n",
    "     print(own)\n",
    "father()"
   ]
  },
  {
   "cell_type": "code",
   "execution_count": 16,
   "id": "fc1e658a",
   "metadata": {},
   "outputs": [
    {
     "name": "stdout",
     "output_type": "stream",
     "text": [
      "25\n",
      "100\n",
      "25\n",
      "9\n",
      "10 is largest\n",
      "pythonlanguage\n",
      "python language\n"
     ]
    }
   ],
   "source": [
    "#lambda func lambda  argument:expression \n",
    "def square(n):\n",
    "     return n*n\n",
    "print(square(5))\n",
    "print(square(10))\n",
    "# with lambda\n",
    "s = lambda n:n*n;\n",
    "print(s(5))\n",
    "sum = lambda a,b :a+b\n",
    "print(sum(5,4))\n",
    "x = 10;\n",
    "y = 5;\n",
    "\n",
    "l = lambda x,y:f\"{x} is largest\" if x >y else f\"{y} is the largest\";\n",
    "print(l(x,y))\n",
    "p = \"python\";\n",
    "l = \"language\";\n",
    "print(p+l)\n",
    "\n",
    "s = lambda a,b: a + \" \"+ b;\n",
    "print(s(p,l)) "
   ]
  },
  {
   "cell_type": "code",
   "execution_count": null,
   "id": "8d8850ec",
   "metadata": {},
   "outputs": [
    {
     "name": "stdout",
     "output_type": "stream",
     "text": [
      "postive\n",
      "even\n",
      "postive\n",
      "negative\n",
      "odd\n"
     ]
    }
   ],
   "source": [
    "#ternary operator\n",
    "x = 10;\n",
    "result = \"postive\" if x > 0 else \"negative\"\n",
    "r =\"even\" if x%2 == 0 else \"odd\"\n",
    "\n",
    "answer = lambda x:\"postive\"  if x > 0 else \"negative\";\n",
    "c = lambda y:\"even\" if y%2 ==0 else \"odd\"\n",
    "print(answer(7))\n",
    "print(answer(-5))\n",
    "print(c(23))"
   ]
  },
  {
   "cell_type": "code",
   "execution_count": 26,
   "id": "0964f4a1",
   "metadata": {},
   "outputs": [
    {
     "name": "stdout",
     "output_type": "stream",
     "text": [
      "[10, 20, 30, 10, 20, 30]\n",
      "[20, 40, 60]\n"
     ]
    }
   ],
   "source": [
    "l = [10,20,30];\n",
    "new = [];\n",
    "for i in l:\n",
    "     new.append(i * 2)\n",
    "print(l* 2)\n",
    "print(new)"
   ]
  },
  {
   "cell_type": "code",
   "execution_count": 28,
   "id": "77ea5be9",
   "metadata": {},
   "outputs": [
    {
     "name": "stdout",
     "output_type": "stream",
     "text": [
      "[20, 40, 60]\n"
     ]
    }
   ],
   "source": [
    "n = list(map(lambda i:i * 2,l));\n",
    "print(n)"
   ]
  },
  {
   "cell_type": "code",
   "execution_count": 38,
   "id": "440e20c4",
   "metadata": {},
   "outputs": [
    {
     "name": "stdout",
     "output_type": "stream",
     "text": [
      "[25, 100, 36]\n",
      "[25, 100, 36]\n",
      "[25, 100, 36]\n"
     ]
    }
   ],
   "source": [
    "def square(n):\n",
    "     return n*n\n",
    "l = [5,10,6];\n",
    "a = []\n",
    "for i in l:\n",
    "     a.append(i * i)\n",
    "print(a)\n",
    "s = list(map(square,l));\n",
    "s1 = list (map(lambda n:n*n,l))\n",
    "print(s)\n",
    "print(s1)"
   ]
  },
  {
   "cell_type": "code",
   "execution_count": null,
   "id": "8944c696",
   "metadata": {},
   "outputs": [
    {
     "name": "stdout",
     "output_type": "stream",
     "text": [
      "[5, 3]\n",
      "[-5, -3]\n",
      "38\n"
     ]
    }
   ],
   "source": [
    "l = [10,5,3,20];\n",
    "f = list(filter(lambda n:n%2 !=0,l));\n",
    "print(f)\n",
    "l2 = [10,-5,3,-3,2];\n",
    "f2 = list(filter(lambda n:n<0,l2));\n",
    "print(f2)\n",
    "from functools import reduce;\n",
    "result = reduce(lambda x,y:x+y,l);\n",
    "print(result)"
   ]
  },
  {
   "cell_type": "code",
   "execution_count": 22,
   "id": "7dd1d65d",
   "metadata": {},
   "outputs": [
    {
     "name": "stdout",
     "output_type": "stream",
     "text": [
      "10\n",
      "20\n",
      "30\n",
      "60\n",
      "60\n"
     ]
    }
   ],
   "source": [
    "l = [10,20,30];\n",
    "# with out reduce method\n",
    "# with reduce method\n",
    "sum = 0;\n",
    "for i in l:\n",
    "     print(i)\n",
    "     sum += i\n",
    "print(sum)\n",
    "\n",
    "from functools import reduce\n",
    "r = reduce(lambda x,y:x+y,l);\n",
    "print(r)"
   ]
  },
  {
   "cell_type": "code",
   "execution_count": 23,
   "id": "cd930477",
   "metadata": {},
   "outputs": [
    {
     "data": {
      "text/plain": [
       "[10, 20, 30]"
      ]
     },
     "execution_count": 23,
     "metadata": {},
     "output_type": "execute_result"
    }
   ],
   "source": [
    "l"
   ]
  },
  {
   "cell_type": "code",
   "execution_count": null,
   "id": "ae028480",
   "metadata": {},
   "outputs": [],
   "source": []
  },
  {
   "cell_type": "code",
   "execution_count": null,
   "id": "d964fef0",
   "metadata": {},
   "outputs": [
    {
     "name": "stdout",
     "output_type": "stream",
     "text": [
      "10\n",
      "20\n",
      "30\n",
      "[20, 40, 60]\n",
      "120\n"
     ]
    }
   ],
   "source": [
    "e = [];\n",
    "for i in l:\n",
    "     print(i)\n",
    "     e.append(i*2)\n",
    "print(e)\n",
    "\n",
    "d = reduce(lambda x,y:x+y,list(map(lambda x:x*2,l)))\n",
    "print(d)\n",
    "\n",
    "#use lambda func to find age >  18 \n"
   ]
  },
  {
   "cell_type": "code",
   "execution_count": 47,
   "id": "821b639e",
   "metadata": {},
   "outputs": [
    {
     "name": "stdout",
     "output_type": "stream",
     "text": [
      "<_io.TextIOWrapper name='details.txt' mode='r' encoding='cp1252'>\n",
      "welcome to python\n",
      "\n"
     ]
    }
   ],
   "source": [
    "#open \n",
    "#read\n",
    "#write\n",
    "#close\n",
    "#with\n",
    "\n",
    "#file name,mode r read,w write will overwrite the existing content ,a append will add content without deleting existing content\n",
    "file_obj = open(\"details.txt\",\"r\");\n",
    "print(file_obj)\n",
    "file_data = file_obj.read();\n",
    "print(file_data)\n",
    "file_obj.close()"
   ]
  },
  {
   "cell_type": "code",
   "execution_count": null,
   "id": "e7b8dcb8",
   "metadata": {},
   "outputs": [],
   "source": []
  }
 ],
 "metadata": {
  "kernelspec": {
   "display_name": "Python 3",
   "language": "python",
   "name": "python3"
  },
  "language_info": {
   "codemirror_mode": {
    "name": "ipython",
    "version": 3
   },
   "file_extension": ".py",
   "mimetype": "text/x-python",
   "name": "python",
   "nbconvert_exporter": "python",
   "pygments_lexer": "ipython3",
   "version": "3.13.5"
  }
 },
 "nbformat": 4,
 "nbformat_minor": 5
}
