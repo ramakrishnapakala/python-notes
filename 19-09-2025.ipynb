{
 "cells": [
  {
   "cell_type": "markdown",
   "id": "8dd5cd4b",
   "metadata": {},
   "source": [
    "lambda Function: a small anonymous function for one time use. We can define by using lambda keyword example ---> lambda arguments:expression"
   ]
  },
  {
   "cell_type": "code",
   "execution_count": 1,
   "id": "1b62bad8",
   "metadata": {},
   "outputs": [
    {
     "name": "stdout",
     "output_type": "stream",
     "text": [
      "25\n",
      "100\n",
      "25\n",
      "9\n"
     ]
    }
   ],
   "source": [
    "#lambda func lambda  argument:expression \n",
    "def square(n):\n",
    "     return n*n\n",
    "print(square(5))\n",
    "print(square(10))\n",
    "# with lambda\n",
    "s = lambda n:n*n;\n",
    "print(s(5))\n",
    "sum = lambda a,b :a+b\n",
    "print(sum(5,4))"
   ]
  },
  {
   "cell_type": "code",
   "execution_count": 2,
   "id": "5d65e2e9",
   "metadata": {},
   "outputs": [
    {
     "name": "stdout",
     "output_type": "stream",
     "text": [
      "postive\n",
      "negative\n",
      "odd\n"
     ]
    }
   ],
   "source": [
    "#ternary operator\n",
    "x = 10;\n",
    "result = \"postive\" if x > 0 else \"negative\"\n",
    "r =\"even\" if x%2 == 0 else \"odd\"\n",
    "\n",
    "answer = lambda x:\"postive\"  if x > 0 else \"negative\";\n",
    "c = lambda y:\"even\" if y%2 ==0 else \"odd\"\n",
    "print(answer(7))\n",
    "print(answer(-5))\n",
    "print(c(23))"
   ]
  },
  {
   "cell_type": "code",
   "execution_count": 3,
   "id": "4413cc29",
   "metadata": {},
   "outputs": [
    {
     "name": "stdout",
     "output_type": "stream",
     "text": [
      "[10, 20, 30, 10, 20, 30]\n",
      "[20, 40, 60]\n"
     ]
    }
   ],
   "source": [
    "l = [10,20,30];\n",
    "new = [];\n",
    "for i in l:\n",
    "     new.append(i * 2)\n",
    "print(l* 2)\n",
    "print(new)"
   ]
  },
  {
   "cell_type": "markdown",
   "id": "25e7da2c",
   "metadata": {},
   "source": [
    "map() function:For every element present in the given sequence,apply some functionality and generate new element with the required modification. For this requirement we should go for map() function.\n",
    "Syntax: map(function,sequence)\n",
    "** The function can be applied on each element of sequence and generates new sequence\n",
    "Eg: For every element present in the list perform double and generate new list of doubles."
   ]
  },
  {
   "cell_type": "code",
   "execution_count": 4,
   "id": "94c695bc",
   "metadata": {},
   "outputs": [
    {
     "name": "stdout",
     "output_type": "stream",
     "text": [
      "[20, 40, 60]\n"
     ]
    }
   ],
   "source": [
    "n = list(map(lambda i:i * 2,l));\n",
    "print(n)"
   ]
  },
  {
   "cell_type": "code",
   "execution_count": 5,
   "id": "f3e8568e",
   "metadata": {},
   "outputs": [
    {
     "name": "stdout",
     "output_type": "stream",
     "text": [
      "[25, 100, 36]\n",
      "[25, 100, 36]\n",
      "[25, 100, 36]\n"
     ]
    }
   ],
   "source": [
    "def square(n):\n",
    "     return n*n\n",
    "l = [5,10,6];\n",
    "a = []\n",
    "for i in l:\n",
    "     a.append(i * i)\n",
    "print(a)\n",
    "s = list(map(square,l));\n",
    "s1 = list (map(lambda n:n*n,l))\n",
    "print(s)\n",
    "print(s1)"
   ]
  },
  {
   "cell_type": "markdown",
   "id": "bb2de87b",
   "metadata": {},
   "source": [
    "filter() function: We can use filter() function to filter values from the given sequence based on some\n",
    "condition.\n",
    "\n",
    "filter(function,sequence)"
   ]
  },
  {
   "cell_type": "code",
   "execution_count": 1,
   "id": "fc6baab5-ffd5-469e-952a-e65f27c534ce",
   "metadata": {},
   "outputs": [
    {
     "name": "stdout",
     "output_type": "stream",
     "text": [
      "[5, 3]\n",
      "[-5, -3]\n"
     ]
    }
   ],
   "source": [
    "l = [10,5,3,20];\n",
    "f = list(filter(lambda n:n%2 !=0,l));\n",
    "print(f)\n",
    "l2 = [10,-5,3,-3,2];\n",
    "f2 = list(filter(lambda n:n<0,l2));\n",
    "print(f2)"
   ]
  },
  {
   "cell_type": "markdown",
   "id": "4648e4aa",
   "metadata": {},
   "source": [
    "reduce() function: reduce() function reduces sequence of elements into a single element by applying the\n",
    "specified function.\n",
    "\n",
    "reduce(function,sequence)\n",
    "\n",
    "reduce() function present in functools module and hence we should write import statement"
   ]
  },
  {
   "cell_type": "code",
   "execution_count": 6,
   "id": "7c114e2e",
   "metadata": {},
   "outputs": [
    {
     "name": "stdout",
     "output_type": "stream",
     "text": [
      "38\n"
     ]
    }
   ],
   "source": [
    "l = [10,5,3,20];\n",
    "from functools import reduce;\n",
    "result = reduce(lambda x,y:x+y,l);\n",
    "print(result)"
   ]
  }
 ],
 "metadata": {
  "kernelspec": {
   "display_name": "Python 3 (ipykernel)",
   "language": "python",
   "name": "python3"
  },
  "language_info": {
   "codemirror_mode": {
    "name": "ipython",
    "version": 3
   },
   "file_extension": ".py",
   "mimetype": "text/x-python",
   "name": "python",
   "nbconvert_exporter": "python",
   "pygments_lexer": "ipython3",
   "version": "3.13.5"
  }
 },
 "nbformat": 4,
 "nbformat_minor": 5
}
