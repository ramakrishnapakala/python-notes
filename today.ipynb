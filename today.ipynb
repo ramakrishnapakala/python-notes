{
 "cells": [
  {
   "cell_type": "markdown",
   "id": "8386409b-dea9-4dcd-880e-c72e0b767f6b",
   "metadata": {},
   "source": [
    "## Bitwise Operators\n",
    "## & bitwise  and - if both bits are 1 then result is 1 otherwise 0\n",
    "## | bitwise or if atleast one bits is 1 then result is 1 otherwise 0\n",
    "## ^  bitwise x-or  if both bits are different then result is 1 otherwise 0 \n",
    "## ~ complement operator  ~ reverse 1 bit to 0 and 0 to 1\n",
    "### the most significant bit(msb) acts as a sign bit(0 -> + number)(1 => -number)\n",
    "### +ve numbers will directly represented in memory \n",
    "### -ve numbers will represented in 2 compliment\n",
    "### 1 compliment  0 -> 1 1-> 0\n",
    "### 2 compliment 1 compliment + 1\n",
    "##  2 compliment<< left shift operator \n",
    "## >> right shif operator"
   ]
  },
  {
   "cell_type": "code",
   "execution_count": null,
   "id": "d8ea9c32-d2d8-4f73-8314-928a31a96ae2",
   "metadata": {},
   "outputs": [],
   "source": []
  },
  {
   "cell_type": "code",
   "execution_count": 2,
   "id": "40d4d8d2-7683-4831-b349-d7b4597fc4b0",
   "metadata": {},
   "outputs": [
    {
     "data": {
      "text/plain": [
       "4"
      ]
     },
     "execution_count": 2,
     "metadata": {},
     "output_type": "execute_result"
    }
   ],
   "source": [
    " 4 & 5"
   ]
  },
  {
   "cell_type": "code",
   "execution_count": null,
   "id": "84c5772c-dc47-4749-9088-d62c20a082cf",
   "metadata": {},
   "outputs": [],
   "source": []
  }
 ],
 "metadata": {
  "kernelspec": {
   "display_name": "Python 3 (ipykernel)",
   "language": "python",
   "name": "python3"
  },
  "language_info": {
   "codemirror_mode": {
    "name": "ipython",
    "version": 3
   },
   "file_extension": ".py",
   "mimetype": "text/x-python",
   "name": "python",
   "nbconvert_exporter": "python",
   "pygments_lexer": "ipython3",
   "version": "3.13.5"
  }
 },
 "nbformat": 4,
 "nbformat_minor": 5
}
