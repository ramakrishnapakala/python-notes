{
 "cells": [
  {
   "cell_type": "markdown",
   "id": "a906567d-60fa-4dd1-8b21-f381604ac7cd",
   "metadata": {},
   "source": [
    "# 1.identifiers:- A name in python program is a identifier\n",
    "### 1. variable name\n",
    "### 2. function name\n",
    "### 3. class name"
   ]
  },
  {
   "cell_type": "markdown",
   "id": "4c4513ff-e3e9-4b60-a008-44562bc450d6",
   "metadata": {},
   "source": [
    "# 2. variables are containers for storing values"
   ]
  },
  {
   "cell_type": "code",
   "execution_count": 1,
   "id": "d4d34f5d-aa30-4dda-9c72-a6c915a6dbf3",
   "metadata": {},
   "outputs": [
    {
     "name": "stdout",
     "output_type": "stream",
     "text": [
      "python\n"
     ]
    }
   ],
   "source": [
    "name = \"python\"\n",
    "print(name)"
   ]
  },
  {
   "cell_type": "code",
   "execution_count": 1,
   "id": "1c5bd4c6-4d20-474a-bb2e-2dfe986491c3",
   "metadata": {},
   "outputs": [
    {
     "name": "stdout",
     "output_type": "stream",
     "text": [
      "10\n"
     ]
    }
   ],
   "source": [
    "a = 10\n",
    "print(a)"
   ]
  },
  {
   "cell_type": "markdown",
   "id": "0404071c-df1b-4df5-9f86-6b81608c1073",
   "metadata": {},
   "source": [
    "## rules for creating identifier names"
   ]
  },
  {
   "cell_type": "code",
   "execution_count": 2,
   "id": "be4acf2d-2536-4c2b-9efc-3fb7f7fa513a",
   "metadata": {},
   "outputs": [
    {
     "name": "stdout",
     "output_type": "stream",
     "text": [
      "ravi\n",
      "teja\n",
      "siva\n"
     ]
    }
   ],
   "source": [
    "# 1. identifier name can only containe a to z, A to Z,numbers, underscore symbol\n",
    "person = \"ravi\"\n",
    "person2 = \"teja\";\n",
    "person_3 = \"siva\";\n",
    "print(person);\n",
    "print(person2);\n",
    "print(person_3);"
   ]
  },
  {
   "cell_type": "code",
   "execution_count": 3,
   "id": "d94a8075-caca-4439-a6b3-b8b36b2e2ee6",
   "metadata": {},
   "outputs": [
    {
     "ename": "SyntaxError",
     "evalue": "invalid decimal literal (3752845921.py, line 2)",
     "output_type": "error",
     "traceback": [
      "\u001b[1;36m  Cell \u001b[1;32mIn[3], line 2\u001b[1;36m\u001b[0m\n\u001b[1;33m    1a = 20;\u001b[0m\n\u001b[1;37m    ^\u001b[0m\n\u001b[1;31mSyntaxError\u001b[0m\u001b[1;31m:\u001b[0m invalid decimal literal\n"
     ]
    }
   ],
   "source": [
    "### 2. identifier name can't start with number\n",
    "1a = 20;\n",
    "print(1a)"
   ]
  },
  {
   "cell_type": "code",
   "execution_count": 4,
   "id": "16bc314e-97e7-471c-ab04-c76b8afe3d05",
   "metadata": {},
   "outputs": [
    {
     "name": "stdout",
     "output_type": "stream",
     "text": [
      "10\n"
     ]
    }
   ],
   "source": [
    "#3. identifier name can start with underscore(_)\n",
    "_a2 = 10;\n",
    "print(_a2)"
   ]
  },
  {
   "cell_type": "code",
   "execution_count": 5,
   "id": "dcfab6a9-cc7b-47ec-b5cc-c60130c9cb78",
   "metadata": {},
   "outputs": [
    {
     "name": "stdout",
     "output_type": "stream",
     "text": [
      "the c1 value is:  100\n",
      "the C1 value is:  200\n"
     ]
    }
   ],
   "source": [
    "### 4. python is a case sensitive language\n",
    "c1 = 100;\n",
    "C1 = 200;\n",
    "print(\"the c1 value is: \",c1)\n",
    "print(\"the C1 value is: \",C1)"
   ]
  },
  {
   "cell_type": "code",
   "execution_count": 7,
   "id": "c624612a-a660-4945-83c5-021e990ea7f6",
   "metadata": {},
   "outputs": [
    {
     "name": "stdout",
     "output_type": "stream",
     "text": [
      "Kittu\n",
      "kittu\n"
     ]
    }
   ],
   "source": [
    "Student = \"Kittu\";\n",
    "student = \"kittu\";\n",
    "print(Student)\n",
    "print(student)"
   ]
  },
  {
   "cell_type": "code",
   "execution_count": 8,
   "id": "e19da7f3-5807-4ce5-96dd-723a9de802d2",
   "metadata": {},
   "outputs": [
    {
     "ename": "SyntaxError",
     "evalue": "invalid syntax (4102230409.py, line 2)",
     "output_type": "error",
     "traceback": [
      "\u001b[1;36m  Cell \u001b[1;32mIn[8], line 2\u001b[1;36m\u001b[0m\n\u001b[1;33m    if = 80;\u001b[0m\n\u001b[1;37m       ^\u001b[0m\n\u001b[1;31mSyntaxError\u001b[0m\u001b[1;31m:\u001b[0m invalid syntax\n"
     ]
    }
   ],
   "source": [
    "### 5. we can't use reserved keywords\n",
    "if = 80;\n",
    "print(if)\n",
    "else = 100;\n",
    "print(else);"
   ]
  },
  {
   "cell_type": "code",
   "execution_count": 10,
   "id": "2b64ffad-b8fe-4ac1-abb2-69c56418a2fc",
   "metadata": {},
   "outputs": [
    {
     "data": {
      "text/plain": [
       "'luffy'"
      ]
     },
     "execution_count": 10,
     "metadata": {},
     "output_type": "execute_result"
    }
   ],
   "source": [
    "### 6. Dont start identifier name as a captial letter it is reserved for oops\n",
    "Person = \"luffy\"\n",
    "Person"
   ]
  },
  {
   "cell_type": "markdown",
   "id": "e45a4ff6-be69-4084-9bcb-077e72a4d143",
   "metadata": {},
   "source": [
    "# Reserved keywords:\n",
    "## in python some keywords are reserved to represent special meaning or functionality those words are called as reserved keywords\n",
    "## all reserved keywords small except False,True,None"
   ]
  },
  {
   "cell_type": "markdown",
   "id": "1ad3a05b-e3f9-4442-abac-dcaf73e4f44b",
   "metadata": {},
   "source": [
    "# in modular programming we have 2 types 1. built-in modules 2. userdefine modules"
   ]
  },
  {
   "cell_type": "markdown",
   "id": "6667a063-65d5-4fa7-9cea-f0d25cea31f0",
   "metadata": {},
   "source": [
    "# Data types :- data types represent type of data present inside variables\n",
    "## 1. primitive data types:- int,float,complex,str,boolean immutable(non-changeable) \n",
    "## 2. non-primitive data types:- list,tuple,set,dict mutable(changeable)"
   ]
  },
  {
   "cell_type": "markdown",
   "id": "b5e0c1c4-8c70-4c89-beb8-dbbd88c5020d",
   "metadata": {},
   "source": [
    "## type:- to check the type of variable\n",
    "## id:- to get address of variables\n",
    "## print:- to print value"
   ]
  },
  {
   "cell_type": "markdown",
   "id": "164fc839-e9a2-4baa-9647-8ad39fd6a420",
   "metadata": {},
   "source": [
    "## int (base 10 0 to 9 ) without decimal point"
   ]
  },
  {
   "cell_type": "markdown",
   "id": "2f49a6b4-4d59-4a7d-baab-f53772e4687d",
   "metadata": {},
   "source": [
    "## In immutablitity if any 2 variables shares the same address if you update 1 variable it won't affect anotherone\n",
    "## in mutable if you update one variable it will affect the other variables that shares same address"
   ]
  },
  {
   "cell_type": "markdown",
   "id": "6ec7c007-6ff5-4930-9d56-813917c3c416",
   "metadata": {},
   "source": [
    "## in dynamic languages we are not required to mention type manual based on value type will automatically given by pvm"
   ]
  },
  {
   "cell_type": "markdown",
   "id": "8713d3e2-48cc-47a7-a1a5-97f3eace52dd",
   "metadata": {},
   "source": [
    "## in python if any 2 variables have same value pvm won't create new memory object or address it shares the same address or object in primitive data types this concept will apply"
   ]
  },
  {
   "cell_type": "markdown",
   "id": "6015596f-8dcb-4c4e-8d41-5a339f5d8c34",
   "metadata": {},
   "source": [
    "# operator are used to peform operations on operands\n",
    "## 1.arithmetic\n",
    "## 2. relational operator\n",
    "## 3. logical operator\n",
    "## 4. assignment operator \n",
    "## 5. special operator(identity and membership)\n",
    "## 6. bitwise operator"
   ]
  },
  {
   "cell_type": "markdown",
   "id": "1418cc74-4b96-4deb-a912-d26326d5c4f9",
   "metadata": {},
   "source": [
    "## Arithmetic Operators \n",
    "### There 7 arithmetic operators \n",
    "### + ==>Addition\n",
    "### - ==>Subtraction \n",
    "### * ==>Multiplication \n",
    "### / ==> Division operator  always gives float point value as a results.\n",
    "### % ===>Modulo operator.\n",
    "### // ==>Floor Division operator if you provide both int values it gives int value as result and if one value is int another value is float it always gives float value as result.\n",
    "### ** ==>Exponent operator or power operator. "
   ]
  },
  {
   "cell_type": "markdown",
   "id": "1b34e195-5e57-499c-a022-3158f75002c9",
   "metadata": {},
   "source": [
    "# Relational Operators >,>=,<,<=,(== equal to is used to content comparision ,!= not equal to)"
   ]
  },
  {
   "cell_type": "code",
   "execution_count": null,
   "id": "aa538625-83ef-4897-a7b6-5da711762cb9",
   "metadata": {},
   "outputs": [],
   "source": []
  },
  {
   "cell_type": "markdown",
   "id": "1d15a77d-ac81-4654-af46-dbe097d50e9d",
   "metadata": {},
   "source": [
    "# Logical operator\n",
    "## and ==>If both arguments are True then only result is True ex: True and False  ==>False \n",
    "## non boolean values and 1.if x is true y is result 2.if x is false x is result \n",
    "## or ====>If atleast one arugemnt is True then result is True ex: True or False ===>True \n",
    "## non boolean values or 1.if x is true x is result 2.if x is false y is result\n",
    "## not ==>complement ex: not False  ==>True \n"
   ]
  },
  {
   "cell_type": "code",
   "execution_count": null,
   "id": "243c57b5-2608-44e7-adc6-bba8e6f5cbd6",
   "metadata": {},
   "outputs": [],
   "source": []
  },
  {
   "cell_type": "markdown",
   "id": "da50f150-4706-456d-9a58-d6cccbeb50d1",
   "metadata": {},
   "source": [
    "# Assignment Operators: We can use assignment operator to assign value to the variable.\n",
    "## Eg:x=10"
   ]
  },
  {
   "cell_type": "code",
   "execution_count": null,
   "id": "ad426a7c-aa12-445d-b476-3f1e14e1b5b1",
   "metadata": {},
   "outputs": [],
   "source": []
  },
  {
   "cell_type": "code",
   "execution_count": 9,
   "id": "1c82dbd6-2b4b-4e46-a97b-ca14e3b12775",
   "metadata": {},
   "outputs": [
    {
     "name": "stdout",
     "output_type": "stream",
     "text": [
      "array('f', [10.0, 20.0, 30.0])\n"
     ]
    }
   ],
   "source": [
    "from array import array\n",
    "a = array(\"f\",[10,20,30]);\n",
    "print(a)"
   ]
  },
  {
   "cell_type": "code",
   "execution_count": 8,
   "id": "b4fe6ad3-f21c-4bff-b17f-b8711cfe12ce",
   "metadata": {},
   "outputs": [
    {
     "name": "stdout",
     "output_type": "stream",
     "text": [
      "array('i')\n"
     ]
    }
   ],
   "source": [
    "print(a[-1:0])"
   ]
  },
  {
   "cell_type": "code",
   "execution_count": 12,
   "id": "411968ca-a237-4113-a0a4-33014f6f746a",
   "metadata": {},
   "outputs": [
    {
     "ename": "TypeError",
     "evalue": "array() takes at most 2 arguments (3 given)",
     "output_type": "error",
     "traceback": [
      "\u001b[1;31m---------------------------------------------------------------------------\u001b[0m",
      "\u001b[1;31mTypeError\u001b[0m                                 Traceback (most recent call last)",
      "Cell \u001b[1;32mIn[12], line 1\u001b[0m\n\u001b[1;32m----> 1\u001b[0m b \u001b[38;5;241m=\u001b[39m \u001b[43marray\u001b[49m\u001b[43m(\u001b[49m\u001b[38;5;124;43m\"\u001b[39;49m\u001b[38;5;124;43mu\u001b[39;49m\u001b[38;5;124;43m\"\u001b[39;49m\u001b[43m,\u001b[49m\u001b[38;5;124;43m\"\u001b[39;49m\u001b[38;5;124;43mpython\u001b[39;49m\u001b[38;5;124;43m\"\u001b[39;49m\u001b[43m,\u001b[49m\u001b[38;5;124;43m\"\u001b[39;49m\u001b[38;5;124;43mjs\u001b[39;49m\u001b[38;5;124;43m\"\u001b[39;49m\u001b[43m)\u001b[49m\n\u001b[0;32m      2\u001b[0m b\n",
      "\u001b[1;31mTypeError\u001b[0m: array() takes at most 2 arguments (3 given)"
     ]
    }
   ],
   "source": []
  },
  {
   "cell_type": "code",
   "execution_count": null,
   "id": "09b23a41-ba55-41bd-9796-ab990a1d975b",
   "metadata": {},
   "outputs": [],
   "source": []
  }
 ],
 "metadata": {
  "kernelspec": {
   "display_name": "Python 3 (ipykernel)",
   "language": "python",
   "name": "python3"
  },
  "language_info": {
   "codemirror_mode": {
    "name": "ipython",
    "version": 3
   },
   "file_extension": ".py",
   "mimetype": "text/x-python",
   "name": "python",
   "nbconvert_exporter": "python",
   "pygments_lexer": "ipython3",
   "version": "3.13.5"
  }
 },
 "nbformat": 4,
 "nbformat_minor": 5
}
